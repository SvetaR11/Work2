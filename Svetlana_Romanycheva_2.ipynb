{
 "cells": [
  {
   "cell_type": "markdown",
   "id": "2338e868",
   "metadata": {},
   "source": [
    "# Практическая работа"
   ]
  },
  {
   "cell_type": "markdown",
   "id": "6abd710a",
   "metadata": {},
   "source": [
    "## 0. Цель:\n",
    "\n",
    "Ознакомиться с продвинутыми статистическими инструментами для анализа данных и применить полученные навыки на выбранном датасете."
   ]
  },
  {
   "cell_type": "markdown",
   "id": "cadf5650",
   "metadata": {},
   "source": [
    "## 1. Импорт библиотек и проверка датасета"
   ]
  },
  {
   "cell_type": "code",
   "execution_count": 65,
   "id": "2de06cbd",
   "metadata": {},
   "outputs": [],
   "source": [
    "import pandas as pd\n",
    "import numpy as np\n",
    "\n",
    "import seaborn as sns\n",
    "import matplotlib.pyplot as plt\n",
    "\n",
    "import scipy.stats\n",
    "import statsmodels.api as sm\n",
    "import sklearn.metrics as skl\n",
    "\n",
    "import plotly.express as px\n",
    "import plotly.figure_factory as ff"
   ]
  },
  {
   "cell_type": "code",
   "execution_count": 4,
   "id": "6344c5ce",
   "metadata": {},
   "outputs": [],
   "source": [
    "# Открываем файл\n",
    "df = pd.read_csv('marketing_campaign.csv', sep='\\t')"
   ]
  },
  {
   "cell_type": "code",
   "execution_count": 5,
   "id": "85c305a8",
   "metadata": {},
   "outputs": [
    {
     "data": {
      "text/html": [
       "<div>\n",
       "<style scoped>\n",
       "    .dataframe tbody tr th:only-of-type {\n",
       "        vertical-align: middle;\n",
       "    }\n",
       "\n",
       "    .dataframe tbody tr th {\n",
       "        vertical-align: top;\n",
       "    }\n",
       "\n",
       "    .dataframe thead th {\n",
       "        text-align: right;\n",
       "    }\n",
       "</style>\n",
       "<table border=\"1\" class=\"dataframe\">\n",
       "  <thead>\n",
       "    <tr style=\"text-align: right;\">\n",
       "      <th></th>\n",
       "      <th>ID</th>\n",
       "      <th>Year_Birth</th>\n",
       "      <th>Education</th>\n",
       "      <th>Marital_Status</th>\n",
       "      <th>Income</th>\n",
       "      <th>Kidhome</th>\n",
       "      <th>Teenhome</th>\n",
       "      <th>Dt_Customer</th>\n",
       "      <th>Recency</th>\n",
       "      <th>MntWines</th>\n",
       "      <th>...</th>\n",
       "      <th>NumWebVisitsMonth</th>\n",
       "      <th>AcceptedCmp3</th>\n",
       "      <th>AcceptedCmp4</th>\n",
       "      <th>AcceptedCmp5</th>\n",
       "      <th>AcceptedCmp1</th>\n",
       "      <th>AcceptedCmp2</th>\n",
       "      <th>Complain</th>\n",
       "      <th>Z_CostContact</th>\n",
       "      <th>Z_Revenue</th>\n",
       "      <th>Response</th>\n",
       "    </tr>\n",
       "  </thead>\n",
       "  <tbody>\n",
       "    <tr>\n",
       "      <th>0</th>\n",
       "      <td>5524</td>\n",
       "      <td>1957</td>\n",
       "      <td>Graduation</td>\n",
       "      <td>Single</td>\n",
       "      <td>58138.0</td>\n",
       "      <td>0</td>\n",
       "      <td>0</td>\n",
       "      <td>04-09-2012</td>\n",
       "      <td>58</td>\n",
       "      <td>635</td>\n",
       "      <td>...</td>\n",
       "      <td>7</td>\n",
       "      <td>0</td>\n",
       "      <td>0</td>\n",
       "      <td>0</td>\n",
       "      <td>0</td>\n",
       "      <td>0</td>\n",
       "      <td>0</td>\n",
       "      <td>3</td>\n",
       "      <td>11</td>\n",
       "      <td>1</td>\n",
       "    </tr>\n",
       "    <tr>\n",
       "      <th>1</th>\n",
       "      <td>2174</td>\n",
       "      <td>1954</td>\n",
       "      <td>Graduation</td>\n",
       "      <td>Single</td>\n",
       "      <td>46344.0</td>\n",
       "      <td>1</td>\n",
       "      <td>1</td>\n",
       "      <td>08-03-2014</td>\n",
       "      <td>38</td>\n",
       "      <td>11</td>\n",
       "      <td>...</td>\n",
       "      <td>5</td>\n",
       "      <td>0</td>\n",
       "      <td>0</td>\n",
       "      <td>0</td>\n",
       "      <td>0</td>\n",
       "      <td>0</td>\n",
       "      <td>0</td>\n",
       "      <td>3</td>\n",
       "      <td>11</td>\n",
       "      <td>0</td>\n",
       "    </tr>\n",
       "    <tr>\n",
       "      <th>2</th>\n",
       "      <td>4141</td>\n",
       "      <td>1965</td>\n",
       "      <td>Graduation</td>\n",
       "      <td>Together</td>\n",
       "      <td>71613.0</td>\n",
       "      <td>0</td>\n",
       "      <td>0</td>\n",
       "      <td>21-08-2013</td>\n",
       "      <td>26</td>\n",
       "      <td>426</td>\n",
       "      <td>...</td>\n",
       "      <td>4</td>\n",
       "      <td>0</td>\n",
       "      <td>0</td>\n",
       "      <td>0</td>\n",
       "      <td>0</td>\n",
       "      <td>0</td>\n",
       "      <td>0</td>\n",
       "      <td>3</td>\n",
       "      <td>11</td>\n",
       "      <td>0</td>\n",
       "    </tr>\n",
       "    <tr>\n",
       "      <th>3</th>\n",
       "      <td>6182</td>\n",
       "      <td>1984</td>\n",
       "      <td>Graduation</td>\n",
       "      <td>Together</td>\n",
       "      <td>26646.0</td>\n",
       "      <td>1</td>\n",
       "      <td>0</td>\n",
       "      <td>10-02-2014</td>\n",
       "      <td>26</td>\n",
       "      <td>11</td>\n",
       "      <td>...</td>\n",
       "      <td>6</td>\n",
       "      <td>0</td>\n",
       "      <td>0</td>\n",
       "      <td>0</td>\n",
       "      <td>0</td>\n",
       "      <td>0</td>\n",
       "      <td>0</td>\n",
       "      <td>3</td>\n",
       "      <td>11</td>\n",
       "      <td>0</td>\n",
       "    </tr>\n",
       "    <tr>\n",
       "      <th>4</th>\n",
       "      <td>5324</td>\n",
       "      <td>1981</td>\n",
       "      <td>PhD</td>\n",
       "      <td>Married</td>\n",
       "      <td>58293.0</td>\n",
       "      <td>1</td>\n",
       "      <td>0</td>\n",
       "      <td>19-01-2014</td>\n",
       "      <td>94</td>\n",
       "      <td>173</td>\n",
       "      <td>...</td>\n",
       "      <td>5</td>\n",
       "      <td>0</td>\n",
       "      <td>0</td>\n",
       "      <td>0</td>\n",
       "      <td>0</td>\n",
       "      <td>0</td>\n",
       "      <td>0</td>\n",
       "      <td>3</td>\n",
       "      <td>11</td>\n",
       "      <td>0</td>\n",
       "    </tr>\n",
       "    <tr>\n",
       "      <th>...</th>\n",
       "      <td>...</td>\n",
       "      <td>...</td>\n",
       "      <td>...</td>\n",
       "      <td>...</td>\n",
       "      <td>...</td>\n",
       "      <td>...</td>\n",
       "      <td>...</td>\n",
       "      <td>...</td>\n",
       "      <td>...</td>\n",
       "      <td>...</td>\n",
       "      <td>...</td>\n",
       "      <td>...</td>\n",
       "      <td>...</td>\n",
       "      <td>...</td>\n",
       "      <td>...</td>\n",
       "      <td>...</td>\n",
       "      <td>...</td>\n",
       "      <td>...</td>\n",
       "      <td>...</td>\n",
       "      <td>...</td>\n",
       "      <td>...</td>\n",
       "    </tr>\n",
       "    <tr>\n",
       "      <th>2235</th>\n",
       "      <td>10870</td>\n",
       "      <td>1967</td>\n",
       "      <td>Graduation</td>\n",
       "      <td>Married</td>\n",
       "      <td>61223.0</td>\n",
       "      <td>0</td>\n",
       "      <td>1</td>\n",
       "      <td>13-06-2013</td>\n",
       "      <td>46</td>\n",
       "      <td>709</td>\n",
       "      <td>...</td>\n",
       "      <td>5</td>\n",
       "      <td>0</td>\n",
       "      <td>0</td>\n",
       "      <td>0</td>\n",
       "      <td>0</td>\n",
       "      <td>0</td>\n",
       "      <td>0</td>\n",
       "      <td>3</td>\n",
       "      <td>11</td>\n",
       "      <td>0</td>\n",
       "    </tr>\n",
       "    <tr>\n",
       "      <th>2236</th>\n",
       "      <td>4001</td>\n",
       "      <td>1946</td>\n",
       "      <td>PhD</td>\n",
       "      <td>Together</td>\n",
       "      <td>64014.0</td>\n",
       "      <td>2</td>\n",
       "      <td>1</td>\n",
       "      <td>10-06-2014</td>\n",
       "      <td>56</td>\n",
       "      <td>406</td>\n",
       "      <td>...</td>\n",
       "      <td>7</td>\n",
       "      <td>0</td>\n",
       "      <td>0</td>\n",
       "      <td>0</td>\n",
       "      <td>1</td>\n",
       "      <td>0</td>\n",
       "      <td>0</td>\n",
       "      <td>3</td>\n",
       "      <td>11</td>\n",
       "      <td>0</td>\n",
       "    </tr>\n",
       "    <tr>\n",
       "      <th>2237</th>\n",
       "      <td>7270</td>\n",
       "      <td>1981</td>\n",
       "      <td>Graduation</td>\n",
       "      <td>Divorced</td>\n",
       "      <td>56981.0</td>\n",
       "      <td>0</td>\n",
       "      <td>0</td>\n",
       "      <td>25-01-2014</td>\n",
       "      <td>91</td>\n",
       "      <td>908</td>\n",
       "      <td>...</td>\n",
       "      <td>6</td>\n",
       "      <td>0</td>\n",
       "      <td>1</td>\n",
       "      <td>0</td>\n",
       "      <td>0</td>\n",
       "      <td>0</td>\n",
       "      <td>0</td>\n",
       "      <td>3</td>\n",
       "      <td>11</td>\n",
       "      <td>0</td>\n",
       "    </tr>\n",
       "    <tr>\n",
       "      <th>2238</th>\n",
       "      <td>8235</td>\n",
       "      <td>1956</td>\n",
       "      <td>Master</td>\n",
       "      <td>Together</td>\n",
       "      <td>69245.0</td>\n",
       "      <td>0</td>\n",
       "      <td>1</td>\n",
       "      <td>24-01-2014</td>\n",
       "      <td>8</td>\n",
       "      <td>428</td>\n",
       "      <td>...</td>\n",
       "      <td>3</td>\n",
       "      <td>0</td>\n",
       "      <td>0</td>\n",
       "      <td>0</td>\n",
       "      <td>0</td>\n",
       "      <td>0</td>\n",
       "      <td>0</td>\n",
       "      <td>3</td>\n",
       "      <td>11</td>\n",
       "      <td>0</td>\n",
       "    </tr>\n",
       "    <tr>\n",
       "      <th>2239</th>\n",
       "      <td>9405</td>\n",
       "      <td>1954</td>\n",
       "      <td>PhD</td>\n",
       "      <td>Married</td>\n",
       "      <td>52869.0</td>\n",
       "      <td>1</td>\n",
       "      <td>1</td>\n",
       "      <td>15-10-2012</td>\n",
       "      <td>40</td>\n",
       "      <td>84</td>\n",
       "      <td>...</td>\n",
       "      <td>7</td>\n",
       "      <td>0</td>\n",
       "      <td>0</td>\n",
       "      <td>0</td>\n",
       "      <td>0</td>\n",
       "      <td>0</td>\n",
       "      <td>0</td>\n",
       "      <td>3</td>\n",
       "      <td>11</td>\n",
       "      <td>1</td>\n",
       "    </tr>\n",
       "  </tbody>\n",
       "</table>\n",
       "<p>2240 rows × 29 columns</p>\n",
       "</div>"
      ],
      "text/plain": [
       "         ID  Year_Birth   Education Marital_Status   Income  Kidhome  \\\n",
       "0      5524        1957  Graduation         Single  58138.0        0   \n",
       "1      2174        1954  Graduation         Single  46344.0        1   \n",
       "2      4141        1965  Graduation       Together  71613.0        0   \n",
       "3      6182        1984  Graduation       Together  26646.0        1   \n",
       "4      5324        1981         PhD        Married  58293.0        1   \n",
       "...     ...         ...         ...            ...      ...      ...   \n",
       "2235  10870        1967  Graduation        Married  61223.0        0   \n",
       "2236   4001        1946         PhD       Together  64014.0        2   \n",
       "2237   7270        1981  Graduation       Divorced  56981.0        0   \n",
       "2238   8235        1956      Master       Together  69245.0        0   \n",
       "2239   9405        1954         PhD        Married  52869.0        1   \n",
       "\n",
       "      Teenhome Dt_Customer  Recency  MntWines  ...  NumWebVisitsMonth  \\\n",
       "0            0  04-09-2012       58       635  ...                  7   \n",
       "1            1  08-03-2014       38        11  ...                  5   \n",
       "2            0  21-08-2013       26       426  ...                  4   \n",
       "3            0  10-02-2014       26        11  ...                  6   \n",
       "4            0  19-01-2014       94       173  ...                  5   \n",
       "...        ...         ...      ...       ...  ...                ...   \n",
       "2235         1  13-06-2013       46       709  ...                  5   \n",
       "2236         1  10-06-2014       56       406  ...                  7   \n",
       "2237         0  25-01-2014       91       908  ...                  6   \n",
       "2238         1  24-01-2014        8       428  ...                  3   \n",
       "2239         1  15-10-2012       40        84  ...                  7   \n",
       "\n",
       "      AcceptedCmp3  AcceptedCmp4  AcceptedCmp5  AcceptedCmp1  AcceptedCmp2  \\\n",
       "0                0             0             0             0             0   \n",
       "1                0             0             0             0             0   \n",
       "2                0             0             0             0             0   \n",
       "3                0             0             0             0             0   \n",
       "4                0             0             0             0             0   \n",
       "...            ...           ...           ...           ...           ...   \n",
       "2235             0             0             0             0             0   \n",
       "2236             0             0             0             1             0   \n",
       "2237             0             1             0             0             0   \n",
       "2238             0             0             0             0             0   \n",
       "2239             0             0             0             0             0   \n",
       "\n",
       "      Complain  Z_CostContact  Z_Revenue  Response  \n",
       "0            0              3         11         1  \n",
       "1            0              3         11         0  \n",
       "2            0              3         11         0  \n",
       "3            0              3         11         0  \n",
       "4            0              3         11         0  \n",
       "...        ...            ...        ...       ...  \n",
       "2235         0              3         11         0  \n",
       "2236         0              3         11         0  \n",
       "2237         0              3         11         0  \n",
       "2238         0              3         11         0  \n",
       "2239         0              3         11         1  \n",
       "\n",
       "[2240 rows x 29 columns]"
      ]
     },
     "execution_count": 5,
     "metadata": {},
     "output_type": "execute_result"
    }
   ],
   "source": [
    "df"
   ]
  },
  {
   "cell_type": "markdown",
   "id": "112c5036",
   "metadata": {},
   "source": [
    "Датасет практически без пропусков. Есть небольшое количество пропусков только в колонке по \"доходу семьи\".\n",
    "\n",
    "Рассмотрим описание наших колонок:"
   ]
  },
  {
   "cell_type": "markdown",
   "id": "b502c6ab",
   "metadata": {},
   "source": [
    "Люди\n",
    "\n",
    "- ID: ID покупателя\n",
    "- Year_Birth: год рождения покупателя\n",
    "- Education: уровень образования покупателя\n",
    "- Marital_Status: семейный статус покупателя\n",
    "- Income: годовой доход семьи клиента\n",
    "- Kidhome: количество детей в доме\n",
    "- Teenhome: количество тинейджеров в доме\n",
    "- Dt_Customer: дата регистрации клиента в компании\n",
    "- Recency: количество дней с момента последней покупки клиента\n",
    "- Complain: 1, если клиент жаловался в течение последних 2 лет, 0 в противном случае\n",
    "\n",
    "Продукты\n",
    "\n",
    "- MntWines: сумма, потраченная на вино за последние 2 года\n",
    "- MntFruits: сумма, потраченная на фрукты за последние 2 года\n",
    "- MntMeatProducts: сумма, потраченная на мясо за последние 2 года\n",
    "- MntFishProducts: сумма, потраченная на рыбу за последние 2 года\n",
    "- MntSweetProducts: сумма, потраченная на сладости за последние 2 года\n",
    "- MntGoldProds: умма, потраченная на золото за последние 2 года\n",
    "\n",
    "Промоушэн\n",
    "\n",
    "- NumDealsPurchases: количество покупок со скидкой\n",
    "- AcceptedCmp1: 1, если клиент принял предложение в 1-й кампании, 0 в противном случае\n",
    "- AcceptedCmp2: 1, если клиент принял предложение во 2-й кампании, 0 в противном случае\n",
    "- AcceptedCmp3: 1, если клиент принял предложение в 3-й кампании, 0 в противном случае\n",
    "- AcceptedCmp4: 1, если клиент принял предложение в 4-й кампании, 0 в противном случае\n",
    "- AcceptedCmp5: 1, если клиент принял предложение в 5-й кампании, 0 в противном случае\n",
    "- Response: 1, если клиент принял предложение в последней кампании, 0 в противном случае\n",
    "\n",
    "Место\n",
    "\n",
    "- NumWebPurchases: количество покупок, совершенных через сайт компании\n",
    "- NumCatalogPurchases: количество покупок, совершенных через каталог\n",
    "- NumStorePurchases: количество покупок, совершенных прямо в магазине\n",
    "- NumWebVisitsMonth: количество посещений сайта за последний месяц"
   ]
  },
  {
   "cell_type": "markdown",
   "id": "ac488ce3",
   "metadata": {},
   "source": [
    "Колонок очень много, имеет смысл некоторые из них удалить. Это связано с тем, что для наших исследований- они не несут в себе большой ценности и пользы."
   ]
  },
  {
   "cell_type": "markdown",
   "id": "3274b64c",
   "metadata": {},
   "source": [
    "## 2. Предобработка данных"
   ]
  },
  {
   "cell_type": "code",
   "execution_count": 6,
   "id": "1de6b05e",
   "metadata": {},
   "outputs": [
    {
     "name": "stdout",
     "output_type": "stream",
     "text": [
      "<class 'pandas.core.frame.DataFrame'>\n",
      "RangeIndex: 2240 entries, 0 to 2239\n",
      "Data columns (total 29 columns):\n",
      " #   Column               Non-Null Count  Dtype  \n",
      "---  ------               --------------  -----  \n",
      " 0   ID                   2240 non-null   int64  \n",
      " 1   Year_Birth           2240 non-null   int64  \n",
      " 2   Education            2240 non-null   object \n",
      " 3   Marital_Status       2240 non-null   object \n",
      " 4   Income               2216 non-null   float64\n",
      " 5   Kidhome              2240 non-null   int64  \n",
      " 6   Teenhome             2240 non-null   int64  \n",
      " 7   Dt_Customer          2240 non-null   object \n",
      " 8   Recency              2240 non-null   int64  \n",
      " 9   MntWines             2240 non-null   int64  \n",
      " 10  MntFruits            2240 non-null   int64  \n",
      " 11  MntMeatProducts      2240 non-null   int64  \n",
      " 12  MntFishProducts      2240 non-null   int64  \n",
      " 13  MntSweetProducts     2240 non-null   int64  \n",
      " 14  MntGoldProds         2240 non-null   int64  \n",
      " 15  NumDealsPurchases    2240 non-null   int64  \n",
      " 16  NumWebPurchases      2240 non-null   int64  \n",
      " 17  NumCatalogPurchases  2240 non-null   int64  \n",
      " 18  NumStorePurchases    2240 non-null   int64  \n",
      " 19  NumWebVisitsMonth    2240 non-null   int64  \n",
      " 20  AcceptedCmp3         2240 non-null   int64  \n",
      " 21  AcceptedCmp4         2240 non-null   int64  \n",
      " 22  AcceptedCmp5         2240 non-null   int64  \n",
      " 23  AcceptedCmp1         2240 non-null   int64  \n",
      " 24  AcceptedCmp2         2240 non-null   int64  \n",
      " 25  Complain             2240 non-null   int64  \n",
      " 26  Z_CostContact        2240 non-null   int64  \n",
      " 27  Z_Revenue            2240 non-null   int64  \n",
      " 28  Response             2240 non-null   int64  \n",
      "dtypes: float64(1), int64(25), object(3)\n",
      "memory usage: 507.6+ KB\n"
     ]
    }
   ],
   "source": [
    "# Посмотрим общую информацию по колонкам\n",
    "df.info()"
   ]
  },
  {
   "cell_type": "markdown",
   "id": "e6f57df6",
   "metadata": {},
   "source": [
    "Логичнее всего будет перевести колонки Dt_Customer в формат даты. С остальными колонками в плане типа данных все оптимально."
   ]
  },
  {
   "cell_type": "code",
   "execution_count": 7,
   "id": "0d618936",
   "metadata": {},
   "outputs": [
    {
     "name": "stderr",
     "output_type": "stream",
     "text": [
      "/var/folders/zv/rrl2yd7s3_q5bvd434fb2hlh0000gn/T/ipykernel_25871/1124826159.py:2: UserWarning: Parsing '21-08-2013' in DD/MM/YYYY format. Provide format or specify infer_datetime_format=True for consistent parsing.\n",
      "  df['Dt_Customer'] = pd.to_datetime(df['Dt_Customer'])\n",
      "/var/folders/zv/rrl2yd7s3_q5bvd434fb2hlh0000gn/T/ipykernel_25871/1124826159.py:2: UserWarning: Parsing '19-01-2014' in DD/MM/YYYY format. Provide format or specify infer_datetime_format=True for consistent parsing.\n",
      "  df['Dt_Customer'] = pd.to_datetime(df['Dt_Customer'])\n",
      "/var/folders/zv/rrl2yd7s3_q5bvd434fb2hlh0000gn/T/ipykernel_25871/1124826159.py:2: UserWarning: Parsing '13-11-2012' in DD/MM/YYYY format. Provide format or specify infer_datetime_format=True for consistent parsing.\n",
      "  df['Dt_Customer'] = pd.to_datetime(df['Dt_Customer'])\n",
      "/var/folders/zv/rrl2yd7s3_q5bvd434fb2hlh0000gn/T/ipykernel_25871/1124826159.py:2: UserWarning: Parsing '13-03-2014' in DD/MM/YYYY format. Provide format or specify infer_datetime_format=True for consistent parsing.\n",
      "  df['Dt_Customer'] = pd.to_datetime(df['Dt_Customer'])\n",
      "/var/folders/zv/rrl2yd7s3_q5bvd434fb2hlh0000gn/T/ipykernel_25871/1124826159.py:2: UserWarning: Parsing '15-11-2013' in DD/MM/YYYY format. Provide format or specify infer_datetime_format=True for consistent parsing.\n",
      "  df['Dt_Customer'] = pd.to_datetime(df['Dt_Customer'])\n",
      "/var/folders/zv/rrl2yd7s3_q5bvd434fb2hlh0000gn/T/ipykernel_25871/1124826159.py:2: UserWarning: Parsing '24-11-2012' in DD/MM/YYYY format. Provide format or specify infer_datetime_format=True for consistent parsing.\n",
      "  df['Dt_Customer'] = pd.to_datetime(df['Dt_Customer'])\n",
      "/var/folders/zv/rrl2yd7s3_q5bvd434fb2hlh0000gn/T/ipykernel_25871/1124826159.py:2: UserWarning: Parsing '24-12-2012' in DD/MM/YYYY format. Provide format or specify infer_datetime_format=True for consistent parsing.\n",
      "  df['Dt_Customer'] = pd.to_datetime(df['Dt_Customer'])\n",
      "/var/folders/zv/rrl2yd7s3_q5bvd434fb2hlh0000gn/T/ipykernel_25871/1124826159.py:2: UserWarning: Parsing '31-08-2012' in DD/MM/YYYY format. Provide format or specify infer_datetime_format=True for consistent parsing.\n",
      "  df['Dt_Customer'] = pd.to_datetime(df['Dt_Customer'])\n",
      "/var/folders/zv/rrl2yd7s3_q5bvd434fb2hlh0000gn/T/ipykernel_25871/1124826159.py:2: UserWarning: Parsing '28-03-2013' in DD/MM/YYYY format. Provide format or specify infer_datetime_format=True for consistent parsing.\n",
      "  df['Dt_Customer'] = pd.to_datetime(df['Dt_Customer'])\n",
      "/var/folders/zv/rrl2yd7s3_q5bvd434fb2hlh0000gn/T/ipykernel_25871/1124826159.py:2: UserWarning: Parsing '23-12-2012' in DD/MM/YYYY format. Provide format or specify infer_datetime_format=True for consistent parsing.\n",
      "  df['Dt_Customer'] = pd.to_datetime(df['Dt_Customer'])\n",
      "/var/folders/zv/rrl2yd7s3_q5bvd434fb2hlh0000gn/T/ipykernel_25871/1124826159.py:2: UserWarning: Parsing '18-03-2013' in DD/MM/YYYY format. Provide format or specify infer_datetime_format=True for consistent parsing.\n",
      "  df['Dt_Customer'] = pd.to_datetime(df['Dt_Customer'])\n",
      "/var/folders/zv/rrl2yd7s3_q5bvd434fb2hlh0000gn/T/ipykernel_25871/1124826159.py:2: UserWarning: Parsing '27-05-2013' in DD/MM/YYYY format. Provide format or specify infer_datetime_format=True for consistent parsing.\n",
      "  df['Dt_Customer'] = pd.to_datetime(df['Dt_Customer'])\n",
      "/var/folders/zv/rrl2yd7s3_q5bvd434fb2hlh0000gn/T/ipykernel_25871/1124826159.py:2: UserWarning: Parsing '20-02-2013' in DD/MM/YYYY format. Provide format or specify infer_datetime_format=True for consistent parsing.\n",
      "  df['Dt_Customer'] = pd.to_datetime(df['Dt_Customer'])\n",
      "/var/folders/zv/rrl2yd7s3_q5bvd434fb2hlh0000gn/T/ipykernel_25871/1124826159.py:2: UserWarning: Parsing '31-05-2013' in DD/MM/YYYY format. Provide format or specify infer_datetime_format=True for consistent parsing.\n",
      "  df['Dt_Customer'] = pd.to_datetime(df['Dt_Customer'])\n",
      "/var/folders/zv/rrl2yd7s3_q5bvd434fb2hlh0000gn/T/ipykernel_25871/1124826159.py:2: UserWarning: Parsing '22-11-2013' in DD/MM/YYYY format. Provide format or specify infer_datetime_format=True for consistent parsing.\n",
      "  df['Dt_Customer'] = pd.to_datetime(df['Dt_Customer'])\n",
      "/var/folders/zv/rrl2yd7s3_q5bvd434fb2hlh0000gn/T/ipykernel_25871/1124826159.py:2: UserWarning: Parsing '22-05-2014' in DD/MM/YYYY format. Provide format or specify infer_datetime_format=True for consistent parsing.\n",
      "  df['Dt_Customer'] = pd.to_datetime(df['Dt_Customer'])\n",
      "/var/folders/zv/rrl2yd7s3_q5bvd434fb2hlh0000gn/T/ipykernel_25871/1124826159.py:2: UserWarning: Parsing '29-10-2012' in DD/MM/YYYY format. Provide format or specify infer_datetime_format=True for consistent parsing.\n",
      "  df['Dt_Customer'] = pd.to_datetime(df['Dt_Customer'])\n",
      "/var/folders/zv/rrl2yd7s3_q5bvd434fb2hlh0000gn/T/ipykernel_25871/1124826159.py:2: UserWarning: Parsing '29-08-2013' in DD/MM/YYYY format. Provide format or specify infer_datetime_format=True for consistent parsing.\n",
      "  df['Dt_Customer'] = pd.to_datetime(df['Dt_Customer'])\n",
      "/var/folders/zv/rrl2yd7s3_q5bvd434fb2hlh0000gn/T/ipykernel_25871/1124826159.py:2: UserWarning: Parsing '31-12-2013' in DD/MM/YYYY format. Provide format or specify infer_datetime_format=True for consistent parsing.\n",
      "  df['Dt_Customer'] = pd.to_datetime(df['Dt_Customer'])\n",
      "/var/folders/zv/rrl2yd7s3_q5bvd434fb2hlh0000gn/T/ipykernel_25871/1124826159.py:2: UserWarning: Parsing '29-04-2013' in DD/MM/YYYY format. Provide format or specify infer_datetime_format=True for consistent parsing.\n",
      "  df['Dt_Customer'] = pd.to_datetime(df['Dt_Customer'])\n",
      "/var/folders/zv/rrl2yd7s3_q5bvd434fb2hlh0000gn/T/ipykernel_25871/1124826159.py:2: UserWarning: Parsing '28-06-2014' in DD/MM/YYYY format. Provide format or specify infer_datetime_format=True for consistent parsing.\n",
      "  df['Dt_Customer'] = pd.to_datetime(df['Dt_Customer'])\n",
      "/var/folders/zv/rrl2yd7s3_q5bvd434fb2hlh0000gn/T/ipykernel_25871/1124826159.py:2: UserWarning: Parsing '24-05-2013' in DD/MM/YYYY format. Provide format or specify infer_datetime_format=True for consistent parsing.\n",
      "  df['Dt_Customer'] = pd.to_datetime(df['Dt_Customer'])\n",
      "/var/folders/zv/rrl2yd7s3_q5bvd434fb2hlh0000gn/T/ipykernel_25871/1124826159.py:2: UserWarning: Parsing '19-11-2012' in DD/MM/YYYY format. Provide format or specify infer_datetime_format=True for consistent parsing.\n",
      "  df['Dt_Customer'] = pd.to_datetime(df['Dt_Customer'])\n",
      "/var/folders/zv/rrl2yd7s3_q5bvd434fb2hlh0000gn/T/ipykernel_25871/1124826159.py:2: UserWarning: Parsing '28-04-2014' in DD/MM/YYYY format. Provide format or specify infer_datetime_format=True for consistent parsing.\n",
      "  df['Dt_Customer'] = pd.to_datetime(df['Dt_Customer'])\n",
      "/var/folders/zv/rrl2yd7s3_q5bvd434fb2hlh0000gn/T/ipykernel_25871/1124826159.py:2: UserWarning: Parsing '17-06-2013' in DD/MM/YYYY format. Provide format or specify infer_datetime_format=True for consistent parsing.\n",
      "  df['Dt_Customer'] = pd.to_datetime(df['Dt_Customer'])\n",
      "/var/folders/zv/rrl2yd7s3_q5bvd434fb2hlh0000gn/T/ipykernel_25871/1124826159.py:2: UserWarning: Parsing '18-02-2013' in DD/MM/YYYY format. Provide format or specify infer_datetime_format=True for consistent parsing.\n",
      "  df['Dt_Customer'] = pd.to_datetime(df['Dt_Customer'])\n",
      "/var/folders/zv/rrl2yd7s3_q5bvd434fb2hlh0000gn/T/ipykernel_25871/1124826159.py:2: UserWarning: Parsing '21-05-2013' in DD/MM/YYYY format. Provide format or specify infer_datetime_format=True for consistent parsing.\n",
      "  df['Dt_Customer'] = pd.to_datetime(df['Dt_Customer'])\n",
      "/var/folders/zv/rrl2yd7s3_q5bvd434fb2hlh0000gn/T/ipykernel_25871/1124826159.py:2: UserWarning: Parsing '19-03-2014' in DD/MM/YYYY format. Provide format or specify infer_datetime_format=True for consistent parsing.\n",
      "  df['Dt_Customer'] = pd.to_datetime(df['Dt_Customer'])\n",
      "/var/folders/zv/rrl2yd7s3_q5bvd434fb2hlh0000gn/T/ipykernel_25871/1124826159.py:2: UserWarning: Parsing '27-09-2013' in DD/MM/YYYY format. Provide format or specify infer_datetime_format=True for consistent parsing.\n",
      "  df['Dt_Customer'] = pd.to_datetime(df['Dt_Customer'])\n",
      "/var/folders/zv/rrl2yd7s3_q5bvd434fb2hlh0000gn/T/ipykernel_25871/1124826159.py:2: UserWarning: Parsing '14-09-2012' in DD/MM/YYYY format. Provide format or specify infer_datetime_format=True for consistent parsing.\n",
      "  df['Dt_Customer'] = pd.to_datetime(df['Dt_Customer'])\n",
      "/var/folders/zv/rrl2yd7s3_q5bvd434fb2hlh0000gn/T/ipykernel_25871/1124826159.py:2: UserWarning: Parsing '17-03-2013' in DD/MM/YYYY format. Provide format or specify infer_datetime_format=True for consistent parsing.\n",
      "  df['Dt_Customer'] = pd.to_datetime(df['Dt_Customer'])\n",
      "/var/folders/zv/rrl2yd7s3_q5bvd434fb2hlh0000gn/T/ipykernel_25871/1124826159.py:2: UserWarning: Parsing '30-04-2014' in DD/MM/YYYY format. Provide format or specify infer_datetime_format=True for consistent parsing.\n",
      "  df['Dt_Customer'] = pd.to_datetime(df['Dt_Customer'])\n",
      "/var/folders/zv/rrl2yd7s3_q5bvd434fb2hlh0000gn/T/ipykernel_25871/1124826159.py:2: UserWarning: Parsing '19-12-2012' in DD/MM/YYYY format. Provide format or specify infer_datetime_format=True for consistent parsing.\n",
      "  df['Dt_Customer'] = pd.to_datetime(df['Dt_Customer'])\n",
      "/var/folders/zv/rrl2yd7s3_q5bvd434fb2hlh0000gn/T/ipykernel_25871/1124826159.py:2: UserWarning: Parsing '27-08-2012' in DD/MM/YYYY format. Provide format or specify infer_datetime_format=True for consistent parsing.\n",
      "  df['Dt_Customer'] = pd.to_datetime(df['Dt_Customer'])\n",
      "/var/folders/zv/rrl2yd7s3_q5bvd434fb2hlh0000gn/T/ipykernel_25871/1124826159.py:2: UserWarning: Parsing '29-08-2012' in DD/MM/YYYY format. Provide format or specify infer_datetime_format=True for consistent parsing.\n",
      "  df['Dt_Customer'] = pd.to_datetime(df['Dt_Customer'])\n",
      "/var/folders/zv/rrl2yd7s3_q5bvd434fb2hlh0000gn/T/ipykernel_25871/1124826159.py:2: UserWarning: Parsing '23-06-2013' in DD/MM/YYYY format. Provide format or specify infer_datetime_format=True for consistent parsing.\n",
      "  df['Dt_Customer'] = pd.to_datetime(df['Dt_Customer'])\n",
      "/var/folders/zv/rrl2yd7s3_q5bvd434fb2hlh0000gn/T/ipykernel_25871/1124826159.py:2: UserWarning: Parsing '25-02-2014' in DD/MM/YYYY format. Provide format or specify infer_datetime_format=True for consistent parsing.\n",
      "  df['Dt_Customer'] = pd.to_datetime(df['Dt_Customer'])\n",
      "/var/folders/zv/rrl2yd7s3_q5bvd434fb2hlh0000gn/T/ipykernel_25871/1124826159.py:2: UserWarning: Parsing '16-07-2013' in DD/MM/YYYY format. Provide format or specify infer_datetime_format=True for consistent parsing.\n",
      "  df['Dt_Customer'] = pd.to_datetime(df['Dt_Customer'])\n",
      "/var/folders/zv/rrl2yd7s3_q5bvd434fb2hlh0000gn/T/ipykernel_25871/1124826159.py:2: UserWarning: Parsing '28-05-2014' in DD/MM/YYYY format. Provide format or specify infer_datetime_format=True for consistent parsing.\n",
      "  df['Dt_Customer'] = pd.to_datetime(df['Dt_Customer'])\n",
      "/var/folders/zv/rrl2yd7s3_q5bvd434fb2hlh0000gn/T/ipykernel_25871/1124826159.py:2: UserWarning: Parsing '21-01-2014' in DD/MM/YYYY format. Provide format or specify infer_datetime_format=True for consistent parsing.\n",
      "  df['Dt_Customer'] = pd.to_datetime(df['Dt_Customer'])\n",
      "/var/folders/zv/rrl2yd7s3_q5bvd434fb2hlh0000gn/T/ipykernel_25871/1124826159.py:2: UserWarning: Parsing '27-05-2014' in DD/MM/YYYY format. Provide format or specify infer_datetime_format=True for consistent parsing.\n",
      "  df['Dt_Customer'] = pd.to_datetime(df['Dt_Customer'])\n",
      "/var/folders/zv/rrl2yd7s3_q5bvd434fb2hlh0000gn/T/ipykernel_25871/1124826159.py:2: UserWarning: Parsing '23-11-2013' in DD/MM/YYYY format. Provide format or specify infer_datetime_format=True for consistent parsing.\n",
      "  df['Dt_Customer'] = pd.to_datetime(df['Dt_Customer'])\n",
      "/var/folders/zv/rrl2yd7s3_q5bvd434fb2hlh0000gn/T/ipykernel_25871/1124826159.py:2: UserWarning: Parsing '23-03-2014' in DD/MM/YYYY format. Provide format or specify infer_datetime_format=True for consistent parsing.\n",
      "  df['Dt_Customer'] = pd.to_datetime(df['Dt_Customer'])\n",
      "/var/folders/zv/rrl2yd7s3_q5bvd434fb2hlh0000gn/T/ipykernel_25871/1124826159.py:2: UserWarning: Parsing '24-05-2014' in DD/MM/YYYY format. Provide format or specify infer_datetime_format=True for consistent parsing.\n",
      "  df['Dt_Customer'] = pd.to_datetime(df['Dt_Customer'])\n",
      "/var/folders/zv/rrl2yd7s3_q5bvd434fb2hlh0000gn/T/ipykernel_25871/1124826159.py:2: UserWarning: Parsing '22-11-2012' in DD/MM/YYYY format. Provide format or specify infer_datetime_format=True for consistent parsing.\n",
      "  df['Dt_Customer'] = pd.to_datetime(df['Dt_Customer'])\n",
      "/var/folders/zv/rrl2yd7s3_q5bvd434fb2hlh0000gn/T/ipykernel_25871/1124826159.py:2: UserWarning: Parsing '20-06-2013' in DD/MM/YYYY format. Provide format or specify infer_datetime_format=True for consistent parsing.\n",
      "  df['Dt_Customer'] = pd.to_datetime(df['Dt_Customer'])\n",
      "/var/folders/zv/rrl2yd7s3_q5bvd434fb2hlh0000gn/T/ipykernel_25871/1124826159.py:2: UserWarning: Parsing '23-07-2013' in DD/MM/YYYY format. Provide format or specify infer_datetime_format=True for consistent parsing.\n",
      "  df['Dt_Customer'] = pd.to_datetime(df['Dt_Customer'])\n",
      "/var/folders/zv/rrl2yd7s3_q5bvd434fb2hlh0000gn/T/ipykernel_25871/1124826159.py:2: UserWarning: Parsing '30-03-2014' in DD/MM/YYYY format. Provide format or specify infer_datetime_format=True for consistent parsing.\n",
      "  df['Dt_Customer'] = pd.to_datetime(df['Dt_Customer'])\n",
      "/var/folders/zv/rrl2yd7s3_q5bvd434fb2hlh0000gn/T/ipykernel_25871/1124826159.py:2: UserWarning: Parsing '20-04-2013' in DD/MM/YYYY format. Provide format or specify infer_datetime_format=True for consistent parsing.\n",
      "  df['Dt_Customer'] = pd.to_datetime(df['Dt_Customer'])\n",
      "/var/folders/zv/rrl2yd7s3_q5bvd434fb2hlh0000gn/T/ipykernel_25871/1124826159.py:2: UserWarning: Parsing '17-05-2013' in DD/MM/YYYY format. Provide format or specify infer_datetime_format=True for consistent parsing.\n",
      "  df['Dt_Customer'] = pd.to_datetime(df['Dt_Customer'])\n",
      "/var/folders/zv/rrl2yd7s3_q5bvd434fb2hlh0000gn/T/ipykernel_25871/1124826159.py:2: UserWarning: Parsing '24-09-2013' in DD/MM/YYYY format. Provide format or specify infer_datetime_format=True for consistent parsing.\n",
      "  df['Dt_Customer'] = pd.to_datetime(df['Dt_Customer'])\n",
      "/var/folders/zv/rrl2yd7s3_q5bvd434fb2hlh0000gn/T/ipykernel_25871/1124826159.py:2: UserWarning: Parsing '25-06-2014' in DD/MM/YYYY format. Provide format or specify infer_datetime_format=True for consistent parsing.\n",
      "  df['Dt_Customer'] = pd.to_datetime(df['Dt_Customer'])\n",
      "/var/folders/zv/rrl2yd7s3_q5bvd434fb2hlh0000gn/T/ipykernel_25871/1124826159.py:2: UserWarning: Parsing '24-01-2014' in DD/MM/YYYY format. Provide format or specify infer_datetime_format=True for consistent parsing.\n",
      "  df['Dt_Customer'] = pd.to_datetime(df['Dt_Customer'])\n",
      "/var/folders/zv/rrl2yd7s3_q5bvd434fb2hlh0000gn/T/ipykernel_25871/1124826159.py:2: UserWarning: Parsing '19-02-2013' in DD/MM/YYYY format. Provide format or specify infer_datetime_format=True for consistent parsing.\n",
      "  df['Dt_Customer'] = pd.to_datetime(df['Dt_Customer'])\n",
      "/var/folders/zv/rrl2yd7s3_q5bvd434fb2hlh0000gn/T/ipykernel_25871/1124826159.py:2: UserWarning: Parsing '14-11-2013' in DD/MM/YYYY format. Provide format or specify infer_datetime_format=True for consistent parsing.\n",
      "  df['Dt_Customer'] = pd.to_datetime(df['Dt_Customer'])\n",
      "/var/folders/zv/rrl2yd7s3_q5bvd434fb2hlh0000gn/T/ipykernel_25871/1124826159.py:2: UserWarning: Parsing '24-02-2014' in DD/MM/YYYY format. Provide format or specify infer_datetime_format=True for consistent parsing.\n",
      "  df['Dt_Customer'] = pd.to_datetime(df['Dt_Customer'])\n",
      "/var/folders/zv/rrl2yd7s3_q5bvd434fb2hlh0000gn/T/ipykernel_25871/1124826159.py:2: UserWarning: Parsing '22-04-2013' in DD/MM/YYYY format. Provide format or specify infer_datetime_format=True for consistent parsing.\n",
      "  df['Dt_Customer'] = pd.to_datetime(df['Dt_Customer'])\n",
      "/var/folders/zv/rrl2yd7s3_q5bvd434fb2hlh0000gn/T/ipykernel_25871/1124826159.py:2: UserWarning: Parsing '21-04-2013' in DD/MM/YYYY format. Provide format or specify infer_datetime_format=True for consistent parsing.\n",
      "  df['Dt_Customer'] = pd.to_datetime(df['Dt_Customer'])\n",
      "/var/folders/zv/rrl2yd7s3_q5bvd434fb2hlh0000gn/T/ipykernel_25871/1124826159.py:2: UserWarning: Parsing '30-09-2013' in DD/MM/YYYY format. Provide format or specify infer_datetime_format=True for consistent parsing.\n",
      "  df['Dt_Customer'] = pd.to_datetime(df['Dt_Customer'])\n",
      "/var/folders/zv/rrl2yd7s3_q5bvd434fb2hlh0000gn/T/ipykernel_25871/1124826159.py:2: UserWarning: Parsing '14-08-2013' in DD/MM/YYYY format. Provide format or specify infer_datetime_format=True for consistent parsing.\n",
      "  df['Dt_Customer'] = pd.to_datetime(df['Dt_Customer'])\n",
      "/var/folders/zv/rrl2yd7s3_q5bvd434fb2hlh0000gn/T/ipykernel_25871/1124826159.py:2: UserWarning: Parsing '19-05-2014' in DD/MM/YYYY format. Provide format or specify infer_datetime_format=True for consistent parsing.\n",
      "  df['Dt_Customer'] = pd.to_datetime(df['Dt_Customer'])\n",
      "/var/folders/zv/rrl2yd7s3_q5bvd434fb2hlh0000gn/T/ipykernel_25871/1124826159.py:2: UserWarning: Parsing '28-07-2013' in DD/MM/YYYY format. Provide format or specify infer_datetime_format=True for consistent parsing.\n",
      "  df['Dt_Customer'] = pd.to_datetime(df['Dt_Customer'])\n",
      "/var/folders/zv/rrl2yd7s3_q5bvd434fb2hlh0000gn/T/ipykernel_25871/1124826159.py:2: UserWarning: Parsing '19-10-2012' in DD/MM/YYYY format. Provide format or specify infer_datetime_format=True for consistent parsing.\n",
      "  df['Dt_Customer'] = pd.to_datetime(df['Dt_Customer'])\n",
      "/var/folders/zv/rrl2yd7s3_q5bvd434fb2hlh0000gn/T/ipykernel_25871/1124826159.py:2: UserWarning: Parsing '19-04-2013' in DD/MM/YYYY format. Provide format or specify infer_datetime_format=True for consistent parsing.\n",
      "  df['Dt_Customer'] = pd.to_datetime(df['Dt_Customer'])\n",
      "/var/folders/zv/rrl2yd7s3_q5bvd434fb2hlh0000gn/T/ipykernel_25871/1124826159.py:2: UserWarning: Parsing '28-08-2013' in DD/MM/YYYY format. Provide format or specify infer_datetime_format=True for consistent parsing.\n",
      "  df['Dt_Customer'] = pd.to_datetime(df['Dt_Customer'])\n",
      "/var/folders/zv/rrl2yd7s3_q5bvd434fb2hlh0000gn/T/ipykernel_25871/1124826159.py:2: UserWarning: Parsing '19-03-2013' in DD/MM/YYYY format. Provide format or specify infer_datetime_format=True for consistent parsing.\n",
      "  df['Dt_Customer'] = pd.to_datetime(df['Dt_Customer'])\n",
      "/var/folders/zv/rrl2yd7s3_q5bvd434fb2hlh0000gn/T/ipykernel_25871/1124826159.py:2: UserWarning: Parsing '18-10-2012' in DD/MM/YYYY format. Provide format or specify infer_datetime_format=True for consistent parsing.\n",
      "  df['Dt_Customer'] = pd.to_datetime(df['Dt_Customer'])\n",
      "/var/folders/zv/rrl2yd7s3_q5bvd434fb2hlh0000gn/T/ipykernel_25871/1124826159.py:2: UserWarning: Parsing '28-10-2012' in DD/MM/YYYY format. Provide format or specify infer_datetime_format=True for consistent parsing.\n",
      "  df['Dt_Customer'] = pd.to_datetime(df['Dt_Customer'])\n",
      "/var/folders/zv/rrl2yd7s3_q5bvd434fb2hlh0000gn/T/ipykernel_25871/1124826159.py:2: UserWarning: Parsing '22-08-2012' in DD/MM/YYYY format. Provide format or specify infer_datetime_format=True for consistent parsing.\n",
      "  df['Dt_Customer'] = pd.to_datetime(df['Dt_Customer'])\n",
      "/var/folders/zv/rrl2yd7s3_q5bvd434fb2hlh0000gn/T/ipykernel_25871/1124826159.py:2: UserWarning: Parsing '21-06-2014' in DD/MM/YYYY format. Provide format or specify infer_datetime_format=True for consistent parsing.\n",
      "  df['Dt_Customer'] = pd.to_datetime(df['Dt_Customer'])\n",
      "/var/folders/zv/rrl2yd7s3_q5bvd434fb2hlh0000gn/T/ipykernel_25871/1124826159.py:2: UserWarning: Parsing '24-04-2014' in DD/MM/YYYY format. Provide format or specify infer_datetime_format=True for consistent parsing.\n",
      "  df['Dt_Customer'] = pd.to_datetime(df['Dt_Customer'])\n",
      "/var/folders/zv/rrl2yd7s3_q5bvd434fb2hlh0000gn/T/ipykernel_25871/1124826159.py:2: UserWarning: Parsing '14-12-2012' in DD/MM/YYYY format. Provide format or specify infer_datetime_format=True for consistent parsing.\n",
      "  df['Dt_Customer'] = pd.to_datetime(df['Dt_Customer'])\n",
      "/var/folders/zv/rrl2yd7s3_q5bvd434fb2hlh0000gn/T/ipykernel_25871/1124826159.py:2: UserWarning: Parsing '17-10-2013' in DD/MM/YYYY format. Provide format or specify infer_datetime_format=True for consistent parsing.\n",
      "  df['Dt_Customer'] = pd.to_datetime(df['Dt_Customer'])\n",
      "/var/folders/zv/rrl2yd7s3_q5bvd434fb2hlh0000gn/T/ipykernel_25871/1124826159.py:2: UserWarning: Parsing '20-08-2013' in DD/MM/YYYY format. Provide format or specify infer_datetime_format=True for consistent parsing.\n",
      "  df['Dt_Customer'] = pd.to_datetime(df['Dt_Customer'])\n",
      "/var/folders/zv/rrl2yd7s3_q5bvd434fb2hlh0000gn/T/ipykernel_25871/1124826159.py:2: UserWarning: Parsing '13-11-2013' in DD/MM/YYYY format. Provide format or specify infer_datetime_format=True for consistent parsing.\n",
      "  df['Dt_Customer'] = pd.to_datetime(df['Dt_Customer'])\n",
      "/var/folders/zv/rrl2yd7s3_q5bvd434fb2hlh0000gn/T/ipykernel_25871/1124826159.py:2: UserWarning: Parsing '18-11-2013' in DD/MM/YYYY format. Provide format or specify infer_datetime_format=True for consistent parsing.\n",
      "  df['Dt_Customer'] = pd.to_datetime(df['Dt_Customer'])\n",
      "/var/folders/zv/rrl2yd7s3_q5bvd434fb2hlh0000gn/T/ipykernel_25871/1124826159.py:2: UserWarning: Parsing '21-04-2014' in DD/MM/YYYY format. Provide format or specify infer_datetime_format=True for consistent parsing.\n",
      "  df['Dt_Customer'] = pd.to_datetime(df['Dt_Customer'])\n",
      "/var/folders/zv/rrl2yd7s3_q5bvd434fb2hlh0000gn/T/ipykernel_25871/1124826159.py:2: UserWarning: Parsing '13-07-2013' in DD/MM/YYYY format. Provide format or specify infer_datetime_format=True for consistent parsing.\n",
      "  df['Dt_Customer'] = pd.to_datetime(df['Dt_Customer'])\n",
      "/var/folders/zv/rrl2yd7s3_q5bvd434fb2hlh0000gn/T/ipykernel_25871/1124826159.py:2: UserWarning: Parsing '30-01-2014' in DD/MM/YYYY format. Provide format or specify infer_datetime_format=True for consistent parsing.\n",
      "  df['Dt_Customer'] = pd.to_datetime(df['Dt_Customer'])\n",
      "/var/folders/zv/rrl2yd7s3_q5bvd434fb2hlh0000gn/T/ipykernel_25871/1124826159.py:2: UserWarning: Parsing '16-12-2012' in DD/MM/YYYY format. Provide format or specify infer_datetime_format=True for consistent parsing.\n",
      "  df['Dt_Customer'] = pd.to_datetime(df['Dt_Customer'])\n",
      "/var/folders/zv/rrl2yd7s3_q5bvd434fb2hlh0000gn/T/ipykernel_25871/1124826159.py:2: UserWarning: Parsing '23-05-2014' in DD/MM/YYYY format. Provide format or specify infer_datetime_format=True for consistent parsing.\n",
      "  df['Dt_Customer'] = pd.to_datetime(df['Dt_Customer'])\n",
      "/var/folders/zv/rrl2yd7s3_q5bvd434fb2hlh0000gn/T/ipykernel_25871/1124826159.py:2: UserWarning: Parsing '24-06-2014' in DD/MM/YYYY format. Provide format or specify infer_datetime_format=True for consistent parsing.\n",
      "  df['Dt_Customer'] = pd.to_datetime(df['Dt_Customer'])\n",
      "/var/folders/zv/rrl2yd7s3_q5bvd434fb2hlh0000gn/T/ipykernel_25871/1124826159.py:2: UserWarning: Parsing '28-09-2013' in DD/MM/YYYY format. Provide format or specify infer_datetime_format=True for consistent parsing.\n",
      "  df['Dt_Customer'] = pd.to_datetime(df['Dt_Customer'])\n",
      "/var/folders/zv/rrl2yd7s3_q5bvd434fb2hlh0000gn/T/ipykernel_25871/1124826159.py:2: UserWarning: Parsing '22-01-2014' in DD/MM/YYYY format. Provide format or specify infer_datetime_format=True for consistent parsing.\n",
      "  df['Dt_Customer'] = pd.to_datetime(df['Dt_Customer'])\n",
      "/var/folders/zv/rrl2yd7s3_q5bvd434fb2hlh0000gn/T/ipykernel_25871/1124826159.py:2: UserWarning: Parsing '15-06-2014' in DD/MM/YYYY format. Provide format or specify infer_datetime_format=True for consistent parsing.\n",
      "  df['Dt_Customer'] = pd.to_datetime(df['Dt_Customer'])\n",
      "/var/folders/zv/rrl2yd7s3_q5bvd434fb2hlh0000gn/T/ipykernel_25871/1124826159.py:2: UserWarning: Parsing '23-02-2013' in DD/MM/YYYY format. Provide format or specify infer_datetime_format=True for consistent parsing.\n",
      "  df['Dt_Customer'] = pd.to_datetime(df['Dt_Customer'])\n",
      "/var/folders/zv/rrl2yd7s3_q5bvd434fb2hlh0000gn/T/ipykernel_25871/1124826159.py:2: UserWarning: Parsing '26-09-2013' in DD/MM/YYYY format. Provide format or specify infer_datetime_format=True for consistent parsing.\n",
      "  df['Dt_Customer'] = pd.to_datetime(df['Dt_Customer'])\n",
      "/var/folders/zv/rrl2yd7s3_q5bvd434fb2hlh0000gn/T/ipykernel_25871/1124826159.py:2: UserWarning: Parsing '30-05-2013' in DD/MM/YYYY format. Provide format or specify infer_datetime_format=True for consistent parsing.\n",
      "  df['Dt_Customer'] = pd.to_datetime(df['Dt_Customer'])\n",
      "/var/folders/zv/rrl2yd7s3_q5bvd434fb2hlh0000gn/T/ipykernel_25871/1124826159.py:2: UserWarning: Parsing '29-12-2013' in DD/MM/YYYY format. Provide format or specify infer_datetime_format=True for consistent parsing.\n",
      "  df['Dt_Customer'] = pd.to_datetime(df['Dt_Customer'])\n",
      "/var/folders/zv/rrl2yd7s3_q5bvd434fb2hlh0000gn/T/ipykernel_25871/1124826159.py:2: UserWarning: Parsing '13-05-2014' in DD/MM/YYYY format. Provide format or specify infer_datetime_format=True for consistent parsing.\n",
      "  df['Dt_Customer'] = pd.to_datetime(df['Dt_Customer'])\n",
      "/var/folders/zv/rrl2yd7s3_q5bvd434fb2hlh0000gn/T/ipykernel_25871/1124826159.py:2: UserWarning: Parsing '19-09-2013' in DD/MM/YYYY format. Provide format or specify infer_datetime_format=True for consistent parsing.\n",
      "  df['Dt_Customer'] = pd.to_datetime(df['Dt_Customer'])\n",
      "/var/folders/zv/rrl2yd7s3_q5bvd434fb2hlh0000gn/T/ipykernel_25871/1124826159.py:2: UserWarning: Parsing '17-01-2013' in DD/MM/YYYY format. Provide format or specify infer_datetime_format=True for consistent parsing.\n",
      "  df['Dt_Customer'] = pd.to_datetime(df['Dt_Customer'])\n",
      "/var/folders/zv/rrl2yd7s3_q5bvd434fb2hlh0000gn/T/ipykernel_25871/1124826159.py:2: UserWarning: Parsing '31-03-2014' in DD/MM/YYYY format. Provide format or specify infer_datetime_format=True for consistent parsing.\n",
      "  df['Dt_Customer'] = pd.to_datetime(df['Dt_Customer'])\n",
      "/var/folders/zv/rrl2yd7s3_q5bvd434fb2hlh0000gn/T/ipykernel_25871/1124826159.py:2: UserWarning: Parsing '29-06-2014' in DD/MM/YYYY format. Provide format or specify infer_datetime_format=True for consistent parsing.\n",
      "  df['Dt_Customer'] = pd.to_datetime(df['Dt_Customer'])\n",
      "/var/folders/zv/rrl2yd7s3_q5bvd434fb2hlh0000gn/T/ipykernel_25871/1124826159.py:2: UserWarning: Parsing '14-10-2013' in DD/MM/YYYY format. Provide format or specify infer_datetime_format=True for consistent parsing.\n",
      "  df['Dt_Customer'] = pd.to_datetime(df['Dt_Customer'])\n",
      "/var/folders/zv/rrl2yd7s3_q5bvd434fb2hlh0000gn/T/ipykernel_25871/1124826159.py:2: UserWarning: Parsing '17-07-2013' in DD/MM/YYYY format. Provide format or specify infer_datetime_format=True for consistent parsing.\n",
      "  df['Dt_Customer'] = pd.to_datetime(df['Dt_Customer'])\n",
      "/var/folders/zv/rrl2yd7s3_q5bvd434fb2hlh0000gn/T/ipykernel_25871/1124826159.py:2: UserWarning: Parsing '13-05-2013' in DD/MM/YYYY format. Provide format or specify infer_datetime_format=True for consistent parsing.\n",
      "  df['Dt_Customer'] = pd.to_datetime(df['Dt_Customer'])\n",
      "/var/folders/zv/rrl2yd7s3_q5bvd434fb2hlh0000gn/T/ipykernel_25871/1124826159.py:2: UserWarning: Parsing '31-03-2013' in DD/MM/YYYY format. Provide format or specify infer_datetime_format=True for consistent parsing.\n",
      "  df['Dt_Customer'] = pd.to_datetime(df['Dt_Customer'])\n",
      "/var/folders/zv/rrl2yd7s3_q5bvd434fb2hlh0000gn/T/ipykernel_25871/1124826159.py:2: UserWarning: Parsing '18-03-2014' in DD/MM/YYYY format. Provide format or specify infer_datetime_format=True for consistent parsing.\n",
      "  df['Dt_Customer'] = pd.to_datetime(df['Dt_Customer'])\n",
      "/var/folders/zv/rrl2yd7s3_q5bvd434fb2hlh0000gn/T/ipykernel_25871/1124826159.py:2: UserWarning: Parsing '21-01-2013' in DD/MM/YYYY format. Provide format or specify infer_datetime_format=True for consistent parsing.\n",
      "  df['Dt_Customer'] = pd.to_datetime(df['Dt_Customer'])\n",
      "/var/folders/zv/rrl2yd7s3_q5bvd434fb2hlh0000gn/T/ipykernel_25871/1124826159.py:2: UserWarning: Parsing '31-08-2013' in DD/MM/YYYY format. Provide format or specify infer_datetime_format=True for consistent parsing.\n",
      "  df['Dt_Customer'] = pd.to_datetime(df['Dt_Customer'])\n",
      "/var/folders/zv/rrl2yd7s3_q5bvd434fb2hlh0000gn/T/ipykernel_25871/1124826159.py:2: UserWarning: Parsing '14-11-2012' in DD/MM/YYYY format. Provide format or specify infer_datetime_format=True for consistent parsing.\n",
      "  df['Dt_Customer'] = pd.to_datetime(df['Dt_Customer'])\n",
      "/var/folders/zv/rrl2yd7s3_q5bvd434fb2hlh0000gn/T/ipykernel_25871/1124826159.py:2: UserWarning: Parsing '14-04-2014' in DD/MM/YYYY format. Provide format or specify infer_datetime_format=True for consistent parsing.\n",
      "  df['Dt_Customer'] = pd.to_datetime(df['Dt_Customer'])\n",
      "/var/folders/zv/rrl2yd7s3_q5bvd434fb2hlh0000gn/T/ipykernel_25871/1124826159.py:2: UserWarning: Parsing '26-03-2013' in DD/MM/YYYY format. Provide format or specify infer_datetime_format=True for consistent parsing.\n",
      "  df['Dt_Customer'] = pd.to_datetime(df['Dt_Customer'])\n",
      "/var/folders/zv/rrl2yd7s3_q5bvd434fb2hlh0000gn/T/ipykernel_25871/1124826159.py:2: UserWarning: Parsing '25-10-2012' in DD/MM/YYYY format. Provide format or specify infer_datetime_format=True for consistent parsing.\n",
      "  df['Dt_Customer'] = pd.to_datetime(df['Dt_Customer'])\n",
      "/var/folders/zv/rrl2yd7s3_q5bvd434fb2hlh0000gn/T/ipykernel_25871/1124826159.py:2: UserWarning: Parsing '16-02-2014' in DD/MM/YYYY format. Provide format or specify infer_datetime_format=True for consistent parsing.\n",
      "  df['Dt_Customer'] = pd.to_datetime(df['Dt_Customer'])\n",
      "/var/folders/zv/rrl2yd7s3_q5bvd434fb2hlh0000gn/T/ipykernel_25871/1124826159.py:2: UserWarning: Parsing '20-03-2013' in DD/MM/YYYY format. Provide format or specify infer_datetime_format=True for consistent parsing.\n",
      "  df['Dt_Customer'] = pd.to_datetime(df['Dt_Customer'])\n",
      "/var/folders/zv/rrl2yd7s3_q5bvd434fb2hlh0000gn/T/ipykernel_25871/1124826159.py:2: UserWarning: Parsing '15-05-2013' in DD/MM/YYYY format. Provide format or specify infer_datetime_format=True for consistent parsing.\n",
      "  df['Dt_Customer'] = pd.to_datetime(df['Dt_Customer'])\n",
      "/var/folders/zv/rrl2yd7s3_q5bvd434fb2hlh0000gn/T/ipykernel_25871/1124826159.py:2: UserWarning: Parsing '16-04-2014' in DD/MM/YYYY format. Provide format or specify infer_datetime_format=True for consistent parsing.\n",
      "  df['Dt_Customer'] = pd.to_datetime(df['Dt_Customer'])\n",
      "/var/folders/zv/rrl2yd7s3_q5bvd434fb2hlh0000gn/T/ipykernel_25871/1124826159.py:2: UserWarning: Parsing '23-03-2013' in DD/MM/YYYY format. Provide format or specify infer_datetime_format=True for consistent parsing.\n",
      "  df['Dt_Customer'] = pd.to_datetime(df['Dt_Customer'])\n",
      "/var/folders/zv/rrl2yd7s3_q5bvd434fb2hlh0000gn/T/ipykernel_25871/1124826159.py:2: UserWarning: Parsing '26-12-2013' in DD/MM/YYYY format. Provide format or specify infer_datetime_format=True for consistent parsing.\n",
      "  df['Dt_Customer'] = pd.to_datetime(df['Dt_Customer'])\n",
      "/var/folders/zv/rrl2yd7s3_q5bvd434fb2hlh0000gn/T/ipykernel_25871/1124826159.py:2: UserWarning: Parsing '17-05-2014' in DD/MM/YYYY format. Provide format or specify infer_datetime_format=True for consistent parsing.\n",
      "  df['Dt_Customer'] = pd.to_datetime(df['Dt_Customer'])\n",
      "/var/folders/zv/rrl2yd7s3_q5bvd434fb2hlh0000gn/T/ipykernel_25871/1124826159.py:2: UserWarning: Parsing '28-10-2013' in DD/MM/YYYY format. Provide format or specify infer_datetime_format=True for consistent parsing.\n",
      "  df['Dt_Customer'] = pd.to_datetime(df['Dt_Customer'])\n",
      "/var/folders/zv/rrl2yd7s3_q5bvd434fb2hlh0000gn/T/ipykernel_25871/1124826159.py:2: UserWarning: Parsing '31-07-2013' in DD/MM/YYYY format. Provide format or specify infer_datetime_format=True for consistent parsing.\n",
      "  df['Dt_Customer'] = pd.to_datetime(df['Dt_Customer'])\n",
      "/var/folders/zv/rrl2yd7s3_q5bvd434fb2hlh0000gn/T/ipykernel_25871/1124826159.py:2: UserWarning: Parsing '28-11-2013' in DD/MM/YYYY format. Provide format or specify infer_datetime_format=True for consistent parsing.\n",
      "  df['Dt_Customer'] = pd.to_datetime(df['Dt_Customer'])\n",
      "/var/folders/zv/rrl2yd7s3_q5bvd434fb2hlh0000gn/T/ipykernel_25871/1124826159.py:2: UserWarning: Parsing '17-08-2012' in DD/MM/YYYY format. Provide format or specify infer_datetime_format=True for consistent parsing.\n",
      "  df['Dt_Customer'] = pd.to_datetime(df['Dt_Customer'])\n",
      "/var/folders/zv/rrl2yd7s3_q5bvd434fb2hlh0000gn/T/ipykernel_25871/1124826159.py:2: UserWarning: Parsing '20-05-2013' in DD/MM/YYYY format. Provide format or specify infer_datetime_format=True for consistent parsing.\n",
      "  df['Dt_Customer'] = pd.to_datetime(df['Dt_Customer'])\n",
      "/var/folders/zv/rrl2yd7s3_q5bvd434fb2hlh0000gn/T/ipykernel_25871/1124826159.py:2: UserWarning: Parsing '16-09-2013' in DD/MM/YYYY format. Provide format or specify infer_datetime_format=True for consistent parsing.\n",
      "  df['Dt_Customer'] = pd.to_datetime(df['Dt_Customer'])\n",
      "/var/folders/zv/rrl2yd7s3_q5bvd434fb2hlh0000gn/T/ipykernel_25871/1124826159.py:2: UserWarning: Parsing '27-10-2013' in DD/MM/YYYY format. Provide format or specify infer_datetime_format=True for consistent parsing.\n",
      "  df['Dt_Customer'] = pd.to_datetime(df['Dt_Customer'])\n",
      "/var/folders/zv/rrl2yd7s3_q5bvd434fb2hlh0000gn/T/ipykernel_25871/1124826159.py:2: UserWarning: Parsing '22-09-2012' in DD/MM/YYYY format. Provide format or specify infer_datetime_format=True for consistent parsing.\n",
      "  df['Dt_Customer'] = pd.to_datetime(df['Dt_Customer'])\n",
      "/var/folders/zv/rrl2yd7s3_q5bvd434fb2hlh0000gn/T/ipykernel_25871/1124826159.py:2: UserWarning: Parsing '13-10-2012' in DD/MM/YYYY format. Provide format or specify infer_datetime_format=True for consistent parsing.\n",
      "  df['Dt_Customer'] = pd.to_datetime(df['Dt_Customer'])\n",
      "/var/folders/zv/rrl2yd7s3_q5bvd434fb2hlh0000gn/T/ipykernel_25871/1124826159.py:2: UserWarning: Parsing '16-10-2012' in DD/MM/YYYY format. Provide format or specify infer_datetime_format=True for consistent parsing.\n",
      "  df['Dt_Customer'] = pd.to_datetime(df['Dt_Customer'])\n",
      "/var/folders/zv/rrl2yd7s3_q5bvd434fb2hlh0000gn/T/ipykernel_25871/1124826159.py:2: UserWarning: Parsing '22-10-2012' in DD/MM/YYYY format. Provide format or specify infer_datetime_format=True for consistent parsing.\n",
      "  df['Dt_Customer'] = pd.to_datetime(df['Dt_Customer'])\n",
      "/var/folders/zv/rrl2yd7s3_q5bvd434fb2hlh0000gn/T/ipykernel_25871/1124826159.py:2: UserWarning: Parsing '22-05-2013' in DD/MM/YYYY format. Provide format or specify infer_datetime_format=True for consistent parsing.\n",
      "  df['Dt_Customer'] = pd.to_datetime(df['Dt_Customer'])\n",
      "/var/folders/zv/rrl2yd7s3_q5bvd434fb2hlh0000gn/T/ipykernel_25871/1124826159.py:2: UserWarning: Parsing '17-06-2014' in DD/MM/YYYY format. Provide format or specify infer_datetime_format=True for consistent parsing.\n",
      "  df['Dt_Customer'] = pd.to_datetime(df['Dt_Customer'])\n",
      "/var/folders/zv/rrl2yd7s3_q5bvd434fb2hlh0000gn/T/ipykernel_25871/1124826159.py:2: UserWarning: Parsing '23-11-2012' in DD/MM/YYYY format. Provide format or specify infer_datetime_format=True for consistent parsing.\n",
      "  df['Dt_Customer'] = pd.to_datetime(df['Dt_Customer'])\n",
      "/var/folders/zv/rrl2yd7s3_q5bvd434fb2hlh0000gn/T/ipykernel_25871/1124826159.py:2: UserWarning: Parsing '14-03-2013' in DD/MM/YYYY format. Provide format or specify infer_datetime_format=True for consistent parsing.\n",
      "  df['Dt_Customer'] = pd.to_datetime(df['Dt_Customer'])\n",
      "/var/folders/zv/rrl2yd7s3_q5bvd434fb2hlh0000gn/T/ipykernel_25871/1124826159.py:2: UserWarning: Parsing '26-06-2014' in DD/MM/YYYY format. Provide format or specify infer_datetime_format=True for consistent parsing.\n",
      "  df['Dt_Customer'] = pd.to_datetime(df['Dt_Customer'])\n",
      "/var/folders/zv/rrl2yd7s3_q5bvd434fb2hlh0000gn/T/ipykernel_25871/1124826159.py:2: UserWarning: Parsing '15-10-2012' in DD/MM/YYYY format. Provide format or specify infer_datetime_format=True for consistent parsing.\n",
      "  df['Dt_Customer'] = pd.to_datetime(df['Dt_Customer'])\n",
      "/var/folders/zv/rrl2yd7s3_q5bvd434fb2hlh0000gn/T/ipykernel_25871/1124826159.py:2: UserWarning: Parsing '19-06-2013' in DD/MM/YYYY format. Provide format or specify infer_datetime_format=True for consistent parsing.\n",
      "  df['Dt_Customer'] = pd.to_datetime(df['Dt_Customer'])\n",
      "/var/folders/zv/rrl2yd7s3_q5bvd434fb2hlh0000gn/T/ipykernel_25871/1124826159.py:2: UserWarning: Parsing '20-03-2014' in DD/MM/YYYY format. Provide format or specify infer_datetime_format=True for consistent parsing.\n",
      "  df['Dt_Customer'] = pd.to_datetime(df['Dt_Customer'])\n",
      "/var/folders/zv/rrl2yd7s3_q5bvd434fb2hlh0000gn/T/ipykernel_25871/1124826159.py:2: UserWarning: Parsing '17-04-2014' in DD/MM/YYYY format. Provide format or specify infer_datetime_format=True for consistent parsing.\n",
      "  df['Dt_Customer'] = pd.to_datetime(df['Dt_Customer'])\n",
      "/var/folders/zv/rrl2yd7s3_q5bvd434fb2hlh0000gn/T/ipykernel_25871/1124826159.py:2: UserWarning: Parsing '29-01-2013' in DD/MM/YYYY format. Provide format or specify infer_datetime_format=True for consistent parsing.\n",
      "  df['Dt_Customer'] = pd.to_datetime(df['Dt_Customer'])\n",
      "/var/folders/zv/rrl2yd7s3_q5bvd434fb2hlh0000gn/T/ipykernel_25871/1124826159.py:2: UserWarning: Parsing '13-06-2013' in DD/MM/YYYY format. Provide format or specify infer_datetime_format=True for consistent parsing.\n",
      "  df['Dt_Customer'] = pd.to_datetime(df['Dt_Customer'])\n",
      "/var/folders/zv/rrl2yd7s3_q5bvd434fb2hlh0000gn/T/ipykernel_25871/1124826159.py:2: UserWarning: Parsing '27-12-2013' in DD/MM/YYYY format. Provide format or specify infer_datetime_format=True for consistent parsing.\n",
      "  df['Dt_Customer'] = pd.to_datetime(df['Dt_Customer'])\n",
      "/var/folders/zv/rrl2yd7s3_q5bvd434fb2hlh0000gn/T/ipykernel_25871/1124826159.py:2: UserWarning: Parsing '31-10-2012' in DD/MM/YYYY format. Provide format or specify infer_datetime_format=True for consistent parsing.\n",
      "  df['Dt_Customer'] = pd.to_datetime(df['Dt_Customer'])\n",
      "/var/folders/zv/rrl2yd7s3_q5bvd434fb2hlh0000gn/T/ipykernel_25871/1124826159.py:2: UserWarning: Parsing '15-01-2014' in DD/MM/YYYY format. Provide format or specify infer_datetime_format=True for consistent parsing.\n",
      "  df['Dt_Customer'] = pd.to_datetime(df['Dt_Customer'])\n",
      "/var/folders/zv/rrl2yd7s3_q5bvd434fb2hlh0000gn/T/ipykernel_25871/1124826159.py:2: UserWarning: Parsing '23-08-2012' in DD/MM/YYYY format. Provide format or specify infer_datetime_format=True for consistent parsing.\n",
      "  df['Dt_Customer'] = pd.to_datetime(df['Dt_Customer'])\n",
      "/var/folders/zv/rrl2yd7s3_q5bvd434fb2hlh0000gn/T/ipykernel_25871/1124826159.py:2: UserWarning: Parsing '13-01-2013' in DD/MM/YYYY format. Provide format or specify infer_datetime_format=True for consistent parsing.\n",
      "  df['Dt_Customer'] = pd.to_datetime(df['Dt_Customer'])\n",
      "/var/folders/zv/rrl2yd7s3_q5bvd434fb2hlh0000gn/T/ipykernel_25871/1124826159.py:2: UserWarning: Parsing '17-03-2014' in DD/MM/YYYY format. Provide format or specify infer_datetime_format=True for consistent parsing.\n",
      "  df['Dt_Customer'] = pd.to_datetime(df['Dt_Customer'])\n",
      "/var/folders/zv/rrl2yd7s3_q5bvd434fb2hlh0000gn/T/ipykernel_25871/1124826159.py:2: UserWarning: Parsing '13-04-2014' in DD/MM/YYYY format. Provide format or specify infer_datetime_format=True for consistent parsing.\n",
      "  df['Dt_Customer'] = pd.to_datetime(df['Dt_Customer'])\n",
      "/var/folders/zv/rrl2yd7s3_q5bvd434fb2hlh0000gn/T/ipykernel_25871/1124826159.py:2: UserWarning: Parsing '18-09-2012' in DD/MM/YYYY format. Provide format or specify infer_datetime_format=True for consistent parsing.\n",
      "  df['Dt_Customer'] = pd.to_datetime(df['Dt_Customer'])\n",
      "/var/folders/zv/rrl2yd7s3_q5bvd434fb2hlh0000gn/T/ipykernel_25871/1124826159.py:2: UserWarning: Parsing '27-04-2013' in DD/MM/YYYY format. Provide format or specify infer_datetime_format=True for consistent parsing.\n",
      "  df['Dt_Customer'] = pd.to_datetime(df['Dt_Customer'])\n",
      "/var/folders/zv/rrl2yd7s3_q5bvd434fb2hlh0000gn/T/ipykernel_25871/1124826159.py:2: UserWarning: Parsing '18-01-2014' in DD/MM/YYYY format. Provide format or specify infer_datetime_format=True for consistent parsing.\n",
      "  df['Dt_Customer'] = pd.to_datetime(df['Dt_Customer'])\n",
      "/var/folders/zv/rrl2yd7s3_q5bvd434fb2hlh0000gn/T/ipykernel_25871/1124826159.py:2: UserWarning: Parsing '17-12-2013' in DD/MM/YYYY format. Provide format or specify infer_datetime_format=True for consistent parsing.\n",
      "  df['Dt_Customer'] = pd.to_datetime(df['Dt_Customer'])\n",
      "/var/folders/zv/rrl2yd7s3_q5bvd434fb2hlh0000gn/T/ipykernel_25871/1124826159.py:2: UserWarning: Parsing '29-07-2013' in DD/MM/YYYY format. Provide format or specify infer_datetime_format=True for consistent parsing.\n",
      "  df['Dt_Customer'] = pd.to_datetime(df['Dt_Customer'])\n",
      "/var/folders/zv/rrl2yd7s3_q5bvd434fb2hlh0000gn/T/ipykernel_25871/1124826159.py:2: UserWarning: Parsing '14-08-2012' in DD/MM/YYYY format. Provide format or specify infer_datetime_format=True for consistent parsing.\n",
      "  df['Dt_Customer'] = pd.to_datetime(df['Dt_Customer'])\n",
      "/var/folders/zv/rrl2yd7s3_q5bvd434fb2hlh0000gn/T/ipykernel_25871/1124826159.py:2: UserWarning: Parsing '23-08-2013' in DD/MM/YYYY format. Provide format or specify infer_datetime_format=True for consistent parsing.\n",
      "  df['Dt_Customer'] = pd.to_datetime(df['Dt_Customer'])\n",
      "/var/folders/zv/rrl2yd7s3_q5bvd434fb2hlh0000gn/T/ipykernel_25871/1124826159.py:2: UserWarning: Parsing '13-02-2013' in DD/MM/YYYY format. Provide format or specify infer_datetime_format=True for consistent parsing.\n",
      "  df['Dt_Customer'] = pd.to_datetime(df['Dt_Customer'])\n",
      "/var/folders/zv/rrl2yd7s3_q5bvd434fb2hlh0000gn/T/ipykernel_25871/1124826159.py:2: UserWarning: Parsing '16-04-2013' in DD/MM/YYYY format. Provide format or specify infer_datetime_format=True for consistent parsing.\n",
      "  df['Dt_Customer'] = pd.to_datetime(df['Dt_Customer'])\n",
      "/var/folders/zv/rrl2yd7s3_q5bvd434fb2hlh0000gn/T/ipykernel_25871/1124826159.py:2: UserWarning: Parsing '30-06-2013' in DD/MM/YYYY format. Provide format or specify infer_datetime_format=True for consistent parsing.\n",
      "  df['Dt_Customer'] = pd.to_datetime(df['Dt_Customer'])\n",
      "/var/folders/zv/rrl2yd7s3_q5bvd434fb2hlh0000gn/T/ipykernel_25871/1124826159.py:2: UserWarning: Parsing '15-08-2013' in DD/MM/YYYY format. Provide format or specify infer_datetime_format=True for consistent parsing.\n",
      "  df['Dt_Customer'] = pd.to_datetime(df['Dt_Customer'])\n",
      "/var/folders/zv/rrl2yd7s3_q5bvd434fb2hlh0000gn/T/ipykernel_25871/1124826159.py:2: UserWarning: Parsing '16-06-2014' in DD/MM/YYYY format. Provide format or specify infer_datetime_format=True for consistent parsing.\n",
      "  df['Dt_Customer'] = pd.to_datetime(df['Dt_Customer'])\n",
      "/var/folders/zv/rrl2yd7s3_q5bvd434fb2hlh0000gn/T/ipykernel_25871/1124826159.py:2: UserWarning: Parsing '25-12-2012' in DD/MM/YYYY format. Provide format or specify infer_datetime_format=True for consistent parsing.\n",
      "  df['Dt_Customer'] = pd.to_datetime(df['Dt_Customer'])\n",
      "/var/folders/zv/rrl2yd7s3_q5bvd434fb2hlh0000gn/T/ipykernel_25871/1124826159.py:2: UserWarning: Parsing '27-10-2012' in DD/MM/YYYY format. Provide format or specify infer_datetime_format=True for consistent parsing.\n",
      "  df['Dt_Customer'] = pd.to_datetime(df['Dt_Customer'])\n",
      "/var/folders/zv/rrl2yd7s3_q5bvd434fb2hlh0000gn/T/ipykernel_25871/1124826159.py:2: UserWarning: Parsing '22-12-2012' in DD/MM/YYYY format. Provide format or specify infer_datetime_format=True for consistent parsing.\n",
      "  df['Dt_Customer'] = pd.to_datetime(df['Dt_Customer'])\n",
      "/var/folders/zv/rrl2yd7s3_q5bvd434fb2hlh0000gn/T/ipykernel_25871/1124826159.py:2: UserWarning: Parsing '29-11-2013' in DD/MM/YYYY format. Provide format or specify infer_datetime_format=True for consistent parsing.\n",
      "  df['Dt_Customer'] = pd.to_datetime(df['Dt_Customer'])\n",
      "/var/folders/zv/rrl2yd7s3_q5bvd434fb2hlh0000gn/T/ipykernel_25871/1124826159.py:2: UserWarning: Parsing '28-09-2012' in DD/MM/YYYY format. Provide format or specify infer_datetime_format=True for consistent parsing.\n",
      "  df['Dt_Customer'] = pd.to_datetime(df['Dt_Customer'])\n",
      "/var/folders/zv/rrl2yd7s3_q5bvd434fb2hlh0000gn/T/ipykernel_25871/1124826159.py:2: UserWarning: Parsing '22-03-2014' in DD/MM/YYYY format. Provide format or specify infer_datetime_format=True for consistent parsing.\n",
      "  df['Dt_Customer'] = pd.to_datetime(df['Dt_Customer'])\n",
      "/var/folders/zv/rrl2yd7s3_q5bvd434fb2hlh0000gn/T/ipykernel_25871/1124826159.py:2: UserWarning: Parsing '28-12-2012' in DD/MM/YYYY format. Provide format or specify infer_datetime_format=True for consistent parsing.\n",
      "  df['Dt_Customer'] = pd.to_datetime(df['Dt_Customer'])\n",
      "/var/folders/zv/rrl2yd7s3_q5bvd434fb2hlh0000gn/T/ipykernel_25871/1124826159.py:2: UserWarning: Parsing '21-08-2012' in DD/MM/YYYY format. Provide format or specify infer_datetime_format=True for consistent parsing.\n",
      "  df['Dt_Customer'] = pd.to_datetime(df['Dt_Customer'])\n",
      "/var/folders/zv/rrl2yd7s3_q5bvd434fb2hlh0000gn/T/ipykernel_25871/1124826159.py:2: UserWarning: Parsing '16-03-2013' in DD/MM/YYYY format. Provide format or specify infer_datetime_format=True for consistent parsing.\n",
      "  df['Dt_Customer'] = pd.to_datetime(df['Dt_Customer'])\n",
      "/var/folders/zv/rrl2yd7s3_q5bvd434fb2hlh0000gn/T/ipykernel_25871/1124826159.py:2: UserWarning: Parsing '17-11-2012' in DD/MM/YYYY format. Provide format or specify infer_datetime_format=True for consistent parsing.\n",
      "  df['Dt_Customer'] = pd.to_datetime(df['Dt_Customer'])\n",
      "/var/folders/zv/rrl2yd7s3_q5bvd434fb2hlh0000gn/T/ipykernel_25871/1124826159.py:2: UserWarning: Parsing '22-04-2014' in DD/MM/YYYY format. Provide format or specify infer_datetime_format=True for consistent parsing.\n",
      "  df['Dt_Customer'] = pd.to_datetime(df['Dt_Customer'])\n",
      "/var/folders/zv/rrl2yd7s3_q5bvd434fb2hlh0000gn/T/ipykernel_25871/1124826159.py:2: UserWarning: Parsing '22-06-2013' in DD/MM/YYYY format. Provide format or specify infer_datetime_format=True for consistent parsing.\n",
      "  df['Dt_Customer'] = pd.to_datetime(df['Dt_Customer'])\n",
      "/var/folders/zv/rrl2yd7s3_q5bvd434fb2hlh0000gn/T/ipykernel_25871/1124826159.py:2: UserWarning: Parsing '18-08-2012' in DD/MM/YYYY format. Provide format or specify infer_datetime_format=True for consistent parsing.\n",
      "  df['Dt_Customer'] = pd.to_datetime(df['Dt_Customer'])\n",
      "/var/folders/zv/rrl2yd7s3_q5bvd434fb2hlh0000gn/T/ipykernel_25871/1124826159.py:2: UserWarning: Parsing '30-12-2012' in DD/MM/YYYY format. Provide format or specify infer_datetime_format=True for consistent parsing.\n",
      "  df['Dt_Customer'] = pd.to_datetime(df['Dt_Customer'])\n",
      "/var/folders/zv/rrl2yd7s3_q5bvd434fb2hlh0000gn/T/ipykernel_25871/1124826159.py:2: UserWarning: Parsing '14-06-2013' in DD/MM/YYYY format. Provide format or specify infer_datetime_format=True for consistent parsing.\n",
      "  df['Dt_Customer'] = pd.to_datetime(df['Dt_Customer'])\n",
      "/var/folders/zv/rrl2yd7s3_q5bvd434fb2hlh0000gn/T/ipykernel_25871/1124826159.py:2: UserWarning: Parsing '16-10-2013' in DD/MM/YYYY format. Provide format or specify infer_datetime_format=True for consistent parsing.\n",
      "  df['Dt_Customer'] = pd.to_datetime(df['Dt_Customer'])\n",
      "/var/folders/zv/rrl2yd7s3_q5bvd434fb2hlh0000gn/T/ipykernel_25871/1124826159.py:2: UserWarning: Parsing '30-08-2012' in DD/MM/YYYY format. Provide format or specify infer_datetime_format=True for consistent parsing.\n",
      "  df['Dt_Customer'] = pd.to_datetime(df['Dt_Customer'])\n",
      "/var/folders/zv/rrl2yd7s3_q5bvd434fb2hlh0000gn/T/ipykernel_25871/1124826159.py:2: UserWarning: Parsing '18-04-2013' in DD/MM/YYYY format. Provide format or specify infer_datetime_format=True for consistent parsing.\n",
      "  df['Dt_Customer'] = pd.to_datetime(df['Dt_Customer'])\n",
      "/var/folders/zv/rrl2yd7s3_q5bvd434fb2hlh0000gn/T/ipykernel_25871/1124826159.py:2: UserWarning: Parsing '15-09-2012' in DD/MM/YYYY format. Provide format or specify infer_datetime_format=True for consistent parsing.\n",
      "  df['Dt_Customer'] = pd.to_datetime(df['Dt_Customer'])\n",
      "/var/folders/zv/rrl2yd7s3_q5bvd434fb2hlh0000gn/T/ipykernel_25871/1124826159.py:2: UserWarning: Parsing '27-09-2012' in DD/MM/YYYY format. Provide format or specify infer_datetime_format=True for consistent parsing.\n",
      "  df['Dt_Customer'] = pd.to_datetime(df['Dt_Customer'])\n",
      "/var/folders/zv/rrl2yd7s3_q5bvd434fb2hlh0000gn/T/ipykernel_25871/1124826159.py:2: UserWarning: Parsing '22-10-2013' in DD/MM/YYYY format. Provide format or specify infer_datetime_format=True for consistent parsing.\n",
      "  df['Dt_Customer'] = pd.to_datetime(df['Dt_Customer'])\n",
      "/var/folders/zv/rrl2yd7s3_q5bvd434fb2hlh0000gn/T/ipykernel_25871/1124826159.py:2: UserWarning: Parsing '30-05-2014' in DD/MM/YYYY format. Provide format or specify infer_datetime_format=True for consistent parsing.\n",
      "  df['Dt_Customer'] = pd.to_datetime(df['Dt_Customer'])\n",
      "/var/folders/zv/rrl2yd7s3_q5bvd434fb2hlh0000gn/T/ipykernel_25871/1124826159.py:2: UserWarning: Parsing '17-10-2012' in DD/MM/YYYY format. Provide format or specify infer_datetime_format=True for consistent parsing.\n",
      "  df['Dt_Customer'] = pd.to_datetime(df['Dt_Customer'])\n",
      "/var/folders/zv/rrl2yd7s3_q5bvd434fb2hlh0000gn/T/ipykernel_25871/1124826159.py:2: UserWarning: Parsing '30-03-2013' in DD/MM/YYYY format. Provide format or specify infer_datetime_format=True for consistent parsing.\n",
      "  df['Dt_Customer'] = pd.to_datetime(df['Dt_Customer'])\n",
      "/var/folders/zv/rrl2yd7s3_q5bvd434fb2hlh0000gn/T/ipykernel_25871/1124826159.py:2: UserWarning: Parsing '23-01-2013' in DD/MM/YYYY format. Provide format or specify infer_datetime_format=True for consistent parsing.\n",
      "  df['Dt_Customer'] = pd.to_datetime(df['Dt_Customer'])\n",
      "/var/folders/zv/rrl2yd7s3_q5bvd434fb2hlh0000gn/T/ipykernel_25871/1124826159.py:2: UserWarning: Parsing '20-11-2013' in DD/MM/YYYY format. Provide format or specify infer_datetime_format=True for consistent parsing.\n",
      "  df['Dt_Customer'] = pd.to_datetime(df['Dt_Customer'])\n",
      "/var/folders/zv/rrl2yd7s3_q5bvd434fb2hlh0000gn/T/ipykernel_25871/1124826159.py:2: UserWarning: Parsing '14-02-2014' in DD/MM/YYYY format. Provide format or specify infer_datetime_format=True for consistent parsing.\n",
      "  df['Dt_Customer'] = pd.to_datetime(df['Dt_Customer'])\n",
      "/var/folders/zv/rrl2yd7s3_q5bvd434fb2hlh0000gn/T/ipykernel_25871/1124826159.py:2: UserWarning: Parsing '22-02-2013' in DD/MM/YYYY format. Provide format or specify infer_datetime_format=True for consistent parsing.\n",
      "  df['Dt_Customer'] = pd.to_datetime(df['Dt_Customer'])\n",
      "/var/folders/zv/rrl2yd7s3_q5bvd434fb2hlh0000gn/T/ipykernel_25871/1124826159.py:2: UserWarning: Parsing '13-04-2013' in DD/MM/YYYY format. Provide format or specify infer_datetime_format=True for consistent parsing.\n",
      "  df['Dt_Customer'] = pd.to_datetime(df['Dt_Customer'])\n",
      "/var/folders/zv/rrl2yd7s3_q5bvd434fb2hlh0000gn/T/ipykernel_25871/1124826159.py:2: UserWarning: Parsing '25-04-2013' in DD/MM/YYYY format. Provide format or specify infer_datetime_format=True for consistent parsing.\n",
      "  df['Dt_Customer'] = pd.to_datetime(df['Dt_Customer'])\n",
      "/var/folders/zv/rrl2yd7s3_q5bvd434fb2hlh0000gn/T/ipykernel_25871/1124826159.py:2: UserWarning: Parsing '25-11-2013' in DD/MM/YYYY format. Provide format or specify infer_datetime_format=True for consistent parsing.\n",
      "  df['Dt_Customer'] = pd.to_datetime(df['Dt_Customer'])\n",
      "/var/folders/zv/rrl2yd7s3_q5bvd434fb2hlh0000gn/T/ipykernel_25871/1124826159.py:2: UserWarning: Parsing '21-06-2013' in DD/MM/YYYY format. Provide format or specify infer_datetime_format=True for consistent parsing.\n",
      "  df['Dt_Customer'] = pd.to_datetime(df['Dt_Customer'])\n",
      "/var/folders/zv/rrl2yd7s3_q5bvd434fb2hlh0000gn/T/ipykernel_25871/1124826159.py:2: UserWarning: Parsing '21-12-2013' in DD/MM/YYYY format. Provide format or specify infer_datetime_format=True for consistent parsing.\n",
      "  df['Dt_Customer'] = pd.to_datetime(df['Dt_Customer'])\n",
      "/var/folders/zv/rrl2yd7s3_q5bvd434fb2hlh0000gn/T/ipykernel_25871/1124826159.py:2: UserWarning: Parsing '22-08-2013' in DD/MM/YYYY format. Provide format or specify infer_datetime_format=True for consistent parsing.\n",
      "  df['Dt_Customer'] = pd.to_datetime(df['Dt_Customer'])\n",
      "/var/folders/zv/rrl2yd7s3_q5bvd434fb2hlh0000gn/T/ipykernel_25871/1124826159.py:2: UserWarning: Parsing '20-12-2013' in DD/MM/YYYY format. Provide format or specify infer_datetime_format=True for consistent parsing.\n",
      "  df['Dt_Customer'] = pd.to_datetime(df['Dt_Customer'])\n",
      "/var/folders/zv/rrl2yd7s3_q5bvd434fb2hlh0000gn/T/ipykernel_25871/1124826159.py:2: UserWarning: Parsing '22-12-2013' in DD/MM/YYYY format. Provide format or specify infer_datetime_format=True for consistent parsing.\n",
      "  df['Dt_Customer'] = pd.to_datetime(df['Dt_Customer'])\n",
      "/var/folders/zv/rrl2yd7s3_q5bvd434fb2hlh0000gn/T/ipykernel_25871/1124826159.py:2: UserWarning: Parsing '16-02-2013' in DD/MM/YYYY format. Provide format or specify infer_datetime_format=True for consistent parsing.\n",
      "  df['Dt_Customer'] = pd.to_datetime(df['Dt_Customer'])\n",
      "/var/folders/zv/rrl2yd7s3_q5bvd434fb2hlh0000gn/T/ipykernel_25871/1124826159.py:2: UserWarning: Parsing '20-08-2012' in DD/MM/YYYY format. Provide format or specify infer_datetime_format=True for consistent parsing.\n",
      "  df['Dt_Customer'] = pd.to_datetime(df['Dt_Customer'])\n",
      "/var/folders/zv/rrl2yd7s3_q5bvd434fb2hlh0000gn/T/ipykernel_25871/1124826159.py:2: UserWarning: Parsing '25-05-2014' in DD/MM/YYYY format. Provide format or specify infer_datetime_format=True for consistent parsing.\n",
      "  df['Dt_Customer'] = pd.to_datetime(df['Dt_Customer'])\n",
      "/var/folders/zv/rrl2yd7s3_q5bvd434fb2hlh0000gn/T/ipykernel_25871/1124826159.py:2: UserWarning: Parsing '25-09-2012' in DD/MM/YYYY format. Provide format or specify infer_datetime_format=True for consistent parsing.\n",
      "  df['Dt_Customer'] = pd.to_datetime(df['Dt_Customer'])\n",
      "/var/folders/zv/rrl2yd7s3_q5bvd434fb2hlh0000gn/T/ipykernel_25871/1124826159.py:2: UserWarning: Parsing '22-09-2013' in DD/MM/YYYY format. Provide format or specify infer_datetime_format=True for consistent parsing.\n",
      "  df['Dt_Customer'] = pd.to_datetime(df['Dt_Customer'])\n",
      "/var/folders/zv/rrl2yd7s3_q5bvd434fb2hlh0000gn/T/ipykernel_25871/1124826159.py:2: UserWarning: Parsing '28-01-2014' in DD/MM/YYYY format. Provide format or specify infer_datetime_format=True for consistent parsing.\n",
      "  df['Dt_Customer'] = pd.to_datetime(df['Dt_Customer'])\n",
      "/var/folders/zv/rrl2yd7s3_q5bvd434fb2hlh0000gn/T/ipykernel_25871/1124826159.py:2: UserWarning: Parsing '23-04-2013' in DD/MM/YYYY format. Provide format or specify infer_datetime_format=True for consistent parsing.\n",
      "  df['Dt_Customer'] = pd.to_datetime(df['Dt_Customer'])\n",
      "/var/folders/zv/rrl2yd7s3_q5bvd434fb2hlh0000gn/T/ipykernel_25871/1124826159.py:2: UserWarning: Parsing '15-08-2012' in DD/MM/YYYY format. Provide format or specify infer_datetime_format=True for consistent parsing.\n",
      "  df['Dt_Customer'] = pd.to_datetime(df['Dt_Customer'])\n",
      "/var/folders/zv/rrl2yd7s3_q5bvd434fb2hlh0000gn/T/ipykernel_25871/1124826159.py:2: UserWarning: Parsing '27-03-2013' in DD/MM/YYYY format. Provide format or specify infer_datetime_format=True for consistent parsing.\n",
      "  df['Dt_Customer'] = pd.to_datetime(df['Dt_Customer'])\n",
      "/var/folders/zv/rrl2yd7s3_q5bvd434fb2hlh0000gn/T/ipykernel_25871/1124826159.py:2: UserWarning: Parsing '18-05-2014' in DD/MM/YYYY format. Provide format or specify infer_datetime_format=True for consistent parsing.\n",
      "  df['Dt_Customer'] = pd.to_datetime(df['Dt_Customer'])\n",
      "/var/folders/zv/rrl2yd7s3_q5bvd434fb2hlh0000gn/T/ipykernel_25871/1124826159.py:2: UserWarning: Parsing '23-10-2012' in DD/MM/YYYY format. Provide format or specify infer_datetime_format=True for consistent parsing.\n",
      "  df['Dt_Customer'] = pd.to_datetime(df['Dt_Customer'])\n",
      "/var/folders/zv/rrl2yd7s3_q5bvd434fb2hlh0000gn/T/ipykernel_25871/1124826159.py:2: UserWarning: Parsing '30-12-2013' in DD/MM/YYYY format. Provide format or specify infer_datetime_format=True for consistent parsing.\n",
      "  df['Dt_Customer'] = pd.to_datetime(df['Dt_Customer'])\n",
      "/var/folders/zv/rrl2yd7s3_q5bvd434fb2hlh0000gn/T/ipykernel_25871/1124826159.py:2: UserWarning: Parsing '19-08-2012' in DD/MM/YYYY format. Provide format or specify infer_datetime_format=True for consistent parsing.\n",
      "  df['Dt_Customer'] = pd.to_datetime(df['Dt_Customer'])\n",
      "/var/folders/zv/rrl2yd7s3_q5bvd434fb2hlh0000gn/T/ipykernel_25871/1124826159.py:2: UserWarning: Parsing '30-10-2013' in DD/MM/YYYY format. Provide format or specify infer_datetime_format=True for consistent parsing.\n",
      "  df['Dt_Customer'] = pd.to_datetime(df['Dt_Customer'])\n",
      "/var/folders/zv/rrl2yd7s3_q5bvd434fb2hlh0000gn/T/ipykernel_25871/1124826159.py:2: UserWarning: Parsing '26-06-2013' in DD/MM/YYYY format. Provide format or specify infer_datetime_format=True for consistent parsing.\n",
      "  df['Dt_Customer'] = pd.to_datetime(df['Dt_Customer'])\n",
      "/var/folders/zv/rrl2yd7s3_q5bvd434fb2hlh0000gn/T/ipykernel_25871/1124826159.py:2: UserWarning: Parsing '26-01-2014' in DD/MM/YYYY format. Provide format or specify infer_datetime_format=True for consistent parsing.\n",
      "  df['Dt_Customer'] = pd.to_datetime(df['Dt_Customer'])\n",
      "/var/folders/zv/rrl2yd7s3_q5bvd434fb2hlh0000gn/T/ipykernel_25871/1124826159.py:2: UserWarning: Parsing '24-09-2012' in DD/MM/YYYY format. Provide format or specify infer_datetime_format=True for consistent parsing.\n",
      "  df['Dt_Customer'] = pd.to_datetime(df['Dt_Customer'])\n",
      "/var/folders/zv/rrl2yd7s3_q5bvd434fb2hlh0000gn/T/ipykernel_25871/1124826159.py:2: UserWarning: Parsing '27-11-2013' in DD/MM/YYYY format. Provide format or specify infer_datetime_format=True for consistent parsing.\n",
      "  df['Dt_Customer'] = pd.to_datetime(df['Dt_Customer'])\n",
      "/var/folders/zv/rrl2yd7s3_q5bvd434fb2hlh0000gn/T/ipykernel_25871/1124826159.py:2: UserWarning: Parsing '29-12-2012' in DD/MM/YYYY format. Provide format or specify infer_datetime_format=True for consistent parsing.\n",
      "  df['Dt_Customer'] = pd.to_datetime(df['Dt_Customer'])\n",
      "/var/folders/zv/rrl2yd7s3_q5bvd434fb2hlh0000gn/T/ipykernel_25871/1124826159.py:2: UserWarning: Parsing '24-08-2012' in DD/MM/YYYY format. Provide format or specify infer_datetime_format=True for consistent parsing.\n",
      "  df['Dt_Customer'] = pd.to_datetime(df['Dt_Customer'])\n",
      "/var/folders/zv/rrl2yd7s3_q5bvd434fb2hlh0000gn/T/ipykernel_25871/1124826159.py:2: UserWarning: Parsing '19-07-2013' in DD/MM/YYYY format. Provide format or specify infer_datetime_format=True for consistent parsing.\n",
      "  df['Dt_Customer'] = pd.to_datetime(df['Dt_Customer'])\n",
      "/var/folders/zv/rrl2yd7s3_q5bvd434fb2hlh0000gn/T/ipykernel_25871/1124826159.py:2: UserWarning: Parsing '25-05-2013' in DD/MM/YYYY format. Provide format or specify infer_datetime_format=True for consistent parsing.\n",
      "  df['Dt_Customer'] = pd.to_datetime(df['Dt_Customer'])\n",
      "/var/folders/zv/rrl2yd7s3_q5bvd434fb2hlh0000gn/T/ipykernel_25871/1124826159.py:2: UserWarning: Parsing '20-10-2013' in DD/MM/YYYY format. Provide format or specify infer_datetime_format=True for consistent parsing.\n",
      "  df['Dt_Customer'] = pd.to_datetime(df['Dt_Customer'])\n",
      "/var/folders/zv/rrl2yd7s3_q5bvd434fb2hlh0000gn/T/ipykernel_25871/1124826159.py:2: UserWarning: Parsing '14-04-2013' in DD/MM/YYYY format. Provide format or specify infer_datetime_format=True for consistent parsing.\n",
      "  df['Dt_Customer'] = pd.to_datetime(df['Dt_Customer'])\n",
      "/var/folders/zv/rrl2yd7s3_q5bvd434fb2hlh0000gn/T/ipykernel_25871/1124826159.py:2: UserWarning: Parsing '27-01-2014' in DD/MM/YYYY format. Provide format or specify infer_datetime_format=True for consistent parsing.\n",
      "  df['Dt_Customer'] = pd.to_datetime(df['Dt_Customer'])\n",
      "/var/folders/zv/rrl2yd7s3_q5bvd434fb2hlh0000gn/T/ipykernel_25871/1124826159.py:2: UserWarning: Parsing '16-08-2013' in DD/MM/YYYY format. Provide format or specify infer_datetime_format=True for consistent parsing.\n",
      "  df['Dt_Customer'] = pd.to_datetime(df['Dt_Customer'])\n",
      "/var/folders/zv/rrl2yd7s3_q5bvd434fb2hlh0000gn/T/ipykernel_25871/1124826159.py:2: UserWarning: Parsing '30-09-2012' in DD/MM/YYYY format. Provide format or specify infer_datetime_format=True for consistent parsing.\n",
      "  df['Dt_Customer'] = pd.to_datetime(df['Dt_Customer'])\n",
      "/var/folders/zv/rrl2yd7s3_q5bvd434fb2hlh0000gn/T/ipykernel_25871/1124826159.py:2: UserWarning: Parsing '15-02-2013' in DD/MM/YYYY format. Provide format or specify infer_datetime_format=True for consistent parsing.\n",
      "  df['Dt_Customer'] = pd.to_datetime(df['Dt_Customer'])\n",
      "/var/folders/zv/rrl2yd7s3_q5bvd434fb2hlh0000gn/T/ipykernel_25871/1124826159.py:2: UserWarning: Parsing '18-09-2013' in DD/MM/YYYY format. Provide format or specify infer_datetime_format=True for consistent parsing.\n",
      "  df['Dt_Customer'] = pd.to_datetime(df['Dt_Customer'])\n",
      "/var/folders/zv/rrl2yd7s3_q5bvd434fb2hlh0000gn/T/ipykernel_25871/1124826159.py:2: UserWarning: Parsing '18-06-2014' in DD/MM/YYYY format. Provide format or specify infer_datetime_format=True for consistent parsing.\n",
      "  df['Dt_Customer'] = pd.to_datetime(df['Dt_Customer'])\n",
      "/var/folders/zv/rrl2yd7s3_q5bvd434fb2hlh0000gn/T/ipykernel_25871/1124826159.py:2: UserWarning: Parsing '24-04-2013' in DD/MM/YYYY format. Provide format or specify infer_datetime_format=True for consistent parsing.\n",
      "  df['Dt_Customer'] = pd.to_datetime(df['Dt_Customer'])\n",
      "/var/folders/zv/rrl2yd7s3_q5bvd434fb2hlh0000gn/T/ipykernel_25871/1124826159.py:2: UserWarning: Parsing '15-02-2014' in DD/MM/YYYY format. Provide format or specify infer_datetime_format=True for consistent parsing.\n",
      "  df['Dt_Customer'] = pd.to_datetime(df['Dt_Customer'])\n",
      "/var/folders/zv/rrl2yd7s3_q5bvd434fb2hlh0000gn/T/ipykernel_25871/1124826159.py:2: UserWarning: Parsing '23-12-2013' in DD/MM/YYYY format. Provide format or specify infer_datetime_format=True for consistent parsing.\n",
      "  df['Dt_Customer'] = pd.to_datetime(df['Dt_Customer'])\n",
      "/var/folders/zv/rrl2yd7s3_q5bvd434fb2hlh0000gn/T/ipykernel_25871/1124826159.py:2: UserWarning: Parsing '28-11-2012' in DD/MM/YYYY format. Provide format or specify infer_datetime_format=True for consistent parsing.\n",
      "  df['Dt_Customer'] = pd.to_datetime(df['Dt_Customer'])\n",
      "/var/folders/zv/rrl2yd7s3_q5bvd434fb2hlh0000gn/T/ipykernel_25871/1124826159.py:2: UserWarning: Parsing '29-03-2014' in DD/MM/YYYY format. Provide format or specify infer_datetime_format=True for consistent parsing.\n",
      "  df['Dt_Customer'] = pd.to_datetime(df['Dt_Customer'])\n",
      "/var/folders/zv/rrl2yd7s3_q5bvd434fb2hlh0000gn/T/ipykernel_25871/1124826159.py:2: UserWarning: Parsing '16-06-2013' in DD/MM/YYYY format. Provide format or specify infer_datetime_format=True for consistent parsing.\n",
      "  df['Dt_Customer'] = pd.to_datetime(df['Dt_Customer'])\n",
      "/var/folders/zv/rrl2yd7s3_q5bvd434fb2hlh0000gn/T/ipykernel_25871/1124826159.py:2: UserWarning: Parsing '25-06-2013' in DD/MM/YYYY format. Provide format or specify infer_datetime_format=True for consistent parsing.\n",
      "  df['Dt_Customer'] = pd.to_datetime(df['Dt_Customer'])\n",
      "/var/folders/zv/rrl2yd7s3_q5bvd434fb2hlh0000gn/T/ipykernel_25871/1124826159.py:2: UserWarning: Parsing '13-09-2013' in DD/MM/YYYY format. Provide format or specify infer_datetime_format=True for consistent parsing.\n",
      "  df['Dt_Customer'] = pd.to_datetime(df['Dt_Customer'])\n",
      "/var/folders/zv/rrl2yd7s3_q5bvd434fb2hlh0000gn/T/ipykernel_25871/1124826159.py:2: UserWarning: Parsing '31-01-2013' in DD/MM/YYYY format. Provide format or specify infer_datetime_format=True for consistent parsing.\n",
      "  df['Dt_Customer'] = pd.to_datetime(df['Dt_Customer'])\n",
      "/var/folders/zv/rrl2yd7s3_q5bvd434fb2hlh0000gn/T/ipykernel_25871/1124826159.py:2: UserWarning: Parsing '15-04-2013' in DD/MM/YYYY format. Provide format or specify infer_datetime_format=True for consistent parsing.\n",
      "  df['Dt_Customer'] = pd.to_datetime(df['Dt_Customer'])\n",
      "/var/folders/zv/rrl2yd7s3_q5bvd434fb2hlh0000gn/T/ipykernel_25871/1124826159.py:2: UserWarning: Parsing '18-04-2014' in DD/MM/YYYY format. Provide format or specify infer_datetime_format=True for consistent parsing.\n",
      "  df['Dt_Customer'] = pd.to_datetime(df['Dt_Customer'])\n",
      "/var/folders/zv/rrl2yd7s3_q5bvd434fb2hlh0000gn/T/ipykernel_25871/1124826159.py:2: UserWarning: Parsing '23-09-2012' in DD/MM/YYYY format. Provide format or specify infer_datetime_format=True for consistent parsing.\n",
      "  df['Dt_Customer'] = pd.to_datetime(df['Dt_Customer'])\n",
      "/var/folders/zv/rrl2yd7s3_q5bvd434fb2hlh0000gn/T/ipykernel_25871/1124826159.py:2: UserWarning: Parsing '14-09-2013' in DD/MM/YYYY format. Provide format or specify infer_datetime_format=True for consistent parsing.\n",
      "  df['Dt_Customer'] = pd.to_datetime(df['Dt_Customer'])\n",
      "/var/folders/zv/rrl2yd7s3_q5bvd434fb2hlh0000gn/T/ipykernel_25871/1124826159.py:2: UserWarning: Parsing '26-10-2012' in DD/MM/YYYY format. Provide format or specify infer_datetime_format=True for consistent parsing.\n",
      "  df['Dt_Customer'] = pd.to_datetime(df['Dt_Customer'])\n",
      "/var/folders/zv/rrl2yd7s3_q5bvd434fb2hlh0000gn/T/ipykernel_25871/1124826159.py:2: UserWarning: Parsing '19-10-2013' in DD/MM/YYYY format. Provide format or specify infer_datetime_format=True for consistent parsing.\n",
      "  df['Dt_Customer'] = pd.to_datetime(df['Dt_Customer'])\n",
      "/var/folders/zv/rrl2yd7s3_q5bvd434fb2hlh0000gn/T/ipykernel_25871/1124826159.py:2: UserWarning: Parsing '21-02-2013' in DD/MM/YYYY format. Provide format or specify infer_datetime_format=True for consistent parsing.\n",
      "  df['Dt_Customer'] = pd.to_datetime(df['Dt_Customer'])\n",
      "/var/folders/zv/rrl2yd7s3_q5bvd434fb2hlh0000gn/T/ipykernel_25871/1124826159.py:2: UserWarning: Parsing '17-09-2013' in DD/MM/YYYY format. Provide format or specify infer_datetime_format=True for consistent parsing.\n",
      "  df['Dt_Customer'] = pd.to_datetime(df['Dt_Customer'])\n",
      "/var/folders/zv/rrl2yd7s3_q5bvd434fb2hlh0000gn/T/ipykernel_25871/1124826159.py:2: UserWarning: Parsing '26-01-2013' in DD/MM/YYYY format. Provide format or specify infer_datetime_format=True for consistent parsing.\n",
      "  df['Dt_Customer'] = pd.to_datetime(df['Dt_Customer'])\n",
      "/var/folders/zv/rrl2yd7s3_q5bvd434fb2hlh0000gn/T/ipykernel_25871/1124826159.py:2: UserWarning: Parsing '19-08-2013' in DD/MM/YYYY format. Provide format or specify infer_datetime_format=True for consistent parsing.\n",
      "  df['Dt_Customer'] = pd.to_datetime(df['Dt_Customer'])\n",
      "/var/folders/zv/rrl2yd7s3_q5bvd434fb2hlh0000gn/T/ipykernel_25871/1124826159.py:2: UserWarning: Parsing '18-07-2013' in DD/MM/YYYY format. Provide format or specify infer_datetime_format=True for consistent parsing.\n",
      "  df['Dt_Customer'] = pd.to_datetime(df['Dt_Customer'])\n",
      "/var/folders/zv/rrl2yd7s3_q5bvd434fb2hlh0000gn/T/ipykernel_25871/1124826159.py:2: UserWarning: Parsing '26-07-2013' in DD/MM/YYYY format. Provide format or specify infer_datetime_format=True for consistent parsing.\n",
      "  df['Dt_Customer'] = pd.to_datetime(df['Dt_Customer'])\n",
      "/var/folders/zv/rrl2yd7s3_q5bvd434fb2hlh0000gn/T/ipykernel_25871/1124826159.py:2: UserWarning: Parsing '14-07-2013' in DD/MM/YYYY format. Provide format or specify infer_datetime_format=True for consistent parsing.\n",
      "  df['Dt_Customer'] = pd.to_datetime(df['Dt_Customer'])\n",
      "/var/folders/zv/rrl2yd7s3_q5bvd434fb2hlh0000gn/T/ipykernel_25871/1124826159.py:2: UserWarning: Parsing '28-12-2013' in DD/MM/YYYY format. Provide format or specify infer_datetime_format=True for consistent parsing.\n",
      "  df['Dt_Customer'] = pd.to_datetime(df['Dt_Customer'])\n",
      "/var/folders/zv/rrl2yd7s3_q5bvd434fb2hlh0000gn/T/ipykernel_25871/1124826159.py:2: UserWarning: Parsing '20-01-2013' in DD/MM/YYYY format. Provide format or specify infer_datetime_format=True for consistent parsing.\n",
      "  df['Dt_Customer'] = pd.to_datetime(df['Dt_Customer'])\n",
      "/var/folders/zv/rrl2yd7s3_q5bvd434fb2hlh0000gn/T/ipykernel_25871/1124826159.py:2: UserWarning: Parsing '21-09-2012' in DD/MM/YYYY format. Provide format or specify infer_datetime_format=True for consistent parsing.\n",
      "  df['Dt_Customer'] = pd.to_datetime(df['Dt_Customer'])\n",
      "/var/folders/zv/rrl2yd7s3_q5bvd434fb2hlh0000gn/T/ipykernel_25871/1124826159.py:2: UserWarning: Parsing '18-12-2012' in DD/MM/YYYY format. Provide format or specify infer_datetime_format=True for consistent parsing.\n",
      "  df['Dt_Customer'] = pd.to_datetime(df['Dt_Customer'])\n",
      "/var/folders/zv/rrl2yd7s3_q5bvd434fb2hlh0000gn/T/ipykernel_25871/1124826159.py:2: UserWarning: Parsing '19-11-2013' in DD/MM/YYYY format. Provide format or specify infer_datetime_format=True for consistent parsing.\n",
      "  df['Dt_Customer'] = pd.to_datetime(df['Dt_Customer'])\n",
      "/var/folders/zv/rrl2yd7s3_q5bvd434fb2hlh0000gn/T/ipykernel_25871/1124826159.py:2: UserWarning: Parsing '13-06-2014' in DD/MM/YYYY format. Provide format or specify infer_datetime_format=True for consistent parsing.\n",
      "  df['Dt_Customer'] = pd.to_datetime(df['Dt_Customer'])\n",
      "/var/folders/zv/rrl2yd7s3_q5bvd434fb2hlh0000gn/T/ipykernel_25871/1124826159.py:2: UserWarning: Parsing '18-08-2013' in DD/MM/YYYY format. Provide format or specify infer_datetime_format=True for consistent parsing.\n",
      "  df['Dt_Customer'] = pd.to_datetime(df['Dt_Customer'])\n",
      "/var/folders/zv/rrl2yd7s3_q5bvd434fb2hlh0000gn/T/ipykernel_25871/1124826159.py:2: UserWarning: Parsing '13-12-2013' in DD/MM/YYYY format. Provide format or specify infer_datetime_format=True for consistent parsing.\n",
      "  df['Dt_Customer'] = pd.to_datetime(df['Dt_Customer'])\n",
      "/var/folders/zv/rrl2yd7s3_q5bvd434fb2hlh0000gn/T/ipykernel_25871/1124826159.py:2: UserWarning: Parsing '17-02-2014' in DD/MM/YYYY format. Provide format or specify infer_datetime_format=True for consistent parsing.\n",
      "  df['Dt_Customer'] = pd.to_datetime(df['Dt_Customer'])\n",
      "/var/folders/zv/rrl2yd7s3_q5bvd434fb2hlh0000gn/T/ipykernel_25871/1124826159.py:2: UserWarning: Parsing '21-10-2013' in DD/MM/YYYY format. Provide format or specify infer_datetime_format=True for consistent parsing.\n",
      "  df['Dt_Customer'] = pd.to_datetime(df['Dt_Customer'])\n",
      "/var/folders/zv/rrl2yd7s3_q5bvd434fb2hlh0000gn/T/ipykernel_25871/1124826159.py:2: UserWarning: Parsing '25-12-2013' in DD/MM/YYYY format. Provide format or specify infer_datetime_format=True for consistent parsing.\n",
      "  df['Dt_Customer'] = pd.to_datetime(df['Dt_Customer'])\n",
      "/var/folders/zv/rrl2yd7s3_q5bvd434fb2hlh0000gn/T/ipykernel_25871/1124826159.py:2: UserWarning: Parsing '16-05-2013' in DD/MM/YYYY format. Provide format or specify infer_datetime_format=True for consistent parsing.\n",
      "  df['Dt_Customer'] = pd.to_datetime(df['Dt_Customer'])\n",
      "/var/folders/zv/rrl2yd7s3_q5bvd434fb2hlh0000gn/T/ipykernel_25871/1124826159.py:2: UserWarning: Parsing '25-09-2013' in DD/MM/YYYY format. Provide format or specify infer_datetime_format=True for consistent parsing.\n",
      "  df['Dt_Customer'] = pd.to_datetime(df['Dt_Customer'])\n",
      "/var/folders/zv/rrl2yd7s3_q5bvd434fb2hlh0000gn/T/ipykernel_25871/1124826159.py:2: UserWarning: Parsing '16-12-2013' in DD/MM/YYYY format. Provide format or specify infer_datetime_format=True for consistent parsing.\n",
      "  df['Dt_Customer'] = pd.to_datetime(df['Dt_Customer'])\n",
      "/var/folders/zv/rrl2yd7s3_q5bvd434fb2hlh0000gn/T/ipykernel_25871/1124826159.py:2: UserWarning: Parsing '30-10-2012' in DD/MM/YYYY format. Provide format or specify infer_datetime_format=True for consistent parsing.\n",
      "  df['Dt_Customer'] = pd.to_datetime(df['Dt_Customer'])\n",
      "/var/folders/zv/rrl2yd7s3_q5bvd434fb2hlh0000gn/T/ipykernel_25871/1124826159.py:2: UserWarning: Parsing '18-10-2013' in DD/MM/YYYY format. Provide format or specify infer_datetime_format=True for consistent parsing.\n",
      "  df['Dt_Customer'] = pd.to_datetime(df['Dt_Customer'])\n",
      "/var/folders/zv/rrl2yd7s3_q5bvd434fb2hlh0000gn/T/ipykernel_25871/1124826159.py:2: UserWarning: Parsing '25-07-2013' in DD/MM/YYYY format. Provide format or specify infer_datetime_format=True for consistent parsing.\n",
      "  df['Dt_Customer'] = pd.to_datetime(df['Dt_Customer'])\n",
      "/var/folders/zv/rrl2yd7s3_q5bvd434fb2hlh0000gn/T/ipykernel_25871/1124826159.py:2: UserWarning: Parsing '24-10-2013' in DD/MM/YYYY format. Provide format or specify infer_datetime_format=True for consistent parsing.\n",
      "  df['Dt_Customer'] = pd.to_datetime(df['Dt_Customer'])\n",
      "/var/folders/zv/rrl2yd7s3_q5bvd434fb2hlh0000gn/T/ipykernel_25871/1124826159.py:2: UserWarning: Parsing '19-12-2013' in DD/MM/YYYY format. Provide format or specify infer_datetime_format=True for consistent parsing.\n",
      "  df['Dt_Customer'] = pd.to_datetime(df['Dt_Customer'])\n",
      "/var/folders/zv/rrl2yd7s3_q5bvd434fb2hlh0000gn/T/ipykernel_25871/1124826159.py:2: UserWarning: Parsing '16-05-2014' in DD/MM/YYYY format. Provide format or specify infer_datetime_format=True for consistent parsing.\n",
      "  df['Dt_Customer'] = pd.to_datetime(df['Dt_Customer'])\n",
      "/var/folders/zv/rrl2yd7s3_q5bvd434fb2hlh0000gn/T/ipykernel_25871/1124826159.py:2: UserWarning: Parsing '25-08-2013' in DD/MM/YYYY format. Provide format or specify infer_datetime_format=True for consistent parsing.\n",
      "  df['Dt_Customer'] = pd.to_datetime(df['Dt_Customer'])\n",
      "/var/folders/zv/rrl2yd7s3_q5bvd434fb2hlh0000gn/T/ipykernel_25871/1124826159.py:2: UserWarning: Parsing '29-05-2013' in DD/MM/YYYY format. Provide format or specify infer_datetime_format=True for consistent parsing.\n",
      "  df['Dt_Customer'] = pd.to_datetime(df['Dt_Customer'])\n",
      "/var/folders/zv/rrl2yd7s3_q5bvd434fb2hlh0000gn/T/ipykernel_25871/1124826159.py:2: UserWarning: Parsing '26-03-2014' in DD/MM/YYYY format. Provide format or specify infer_datetime_format=True for consistent parsing.\n",
      "  df['Dt_Customer'] = pd.to_datetime(df['Dt_Customer'])\n",
      "/var/folders/zv/rrl2yd7s3_q5bvd434fb2hlh0000gn/T/ipykernel_25871/1124826159.py:2: UserWarning: Parsing '29-04-2014' in DD/MM/YYYY format. Provide format or specify infer_datetime_format=True for consistent parsing.\n",
      "  df['Dt_Customer'] = pd.to_datetime(df['Dt_Customer'])\n",
      "/var/folders/zv/rrl2yd7s3_q5bvd434fb2hlh0000gn/T/ipykernel_25871/1124826159.py:2: UserWarning: Parsing '27-06-2014' in DD/MM/YYYY format. Provide format or specify infer_datetime_format=True for consistent parsing.\n",
      "  df['Dt_Customer'] = pd.to_datetime(df['Dt_Customer'])\n",
      "/var/folders/zv/rrl2yd7s3_q5bvd434fb2hlh0000gn/T/ipykernel_25871/1124826159.py:2: UserWarning: Parsing '21-11-2013' in DD/MM/YYYY format. Provide format or specify infer_datetime_format=True for consistent parsing.\n",
      "  df['Dt_Customer'] = pd.to_datetime(df['Dt_Customer'])\n",
      "/var/folders/zv/rrl2yd7s3_q5bvd434fb2hlh0000gn/T/ipykernel_25871/1124826159.py:2: UserWarning: Parsing '21-10-2012' in DD/MM/YYYY format. Provide format or specify infer_datetime_format=True for consistent parsing.\n",
      "  df['Dt_Customer'] = pd.to_datetime(df['Dt_Customer'])\n",
      "/var/folders/zv/rrl2yd7s3_q5bvd434fb2hlh0000gn/T/ipykernel_25871/1124826159.py:2: UserWarning: Parsing '14-05-2013' in DD/MM/YYYY format. Provide format or specify infer_datetime_format=True for consistent parsing.\n",
      "  df['Dt_Customer'] = pd.to_datetime(df['Dt_Customer'])\n",
      "/var/folders/zv/rrl2yd7s3_q5bvd434fb2hlh0000gn/T/ipykernel_25871/1124826159.py:2: UserWarning: Parsing '25-01-2014' in DD/MM/YYYY format. Provide format or specify infer_datetime_format=True for consistent parsing.\n",
      "  df['Dt_Customer'] = pd.to_datetime(df['Dt_Customer'])\n",
      "/var/folders/zv/rrl2yd7s3_q5bvd434fb2hlh0000gn/T/ipykernel_25871/1124826159.py:2: UserWarning: Parsing '29-03-2013' in DD/MM/YYYY format. Provide format or specify infer_datetime_format=True for consistent parsing.\n",
      "  df['Dt_Customer'] = pd.to_datetime(df['Dt_Customer'])\n",
      "/var/folders/zv/rrl2yd7s3_q5bvd434fb2hlh0000gn/T/ipykernel_25871/1124826159.py:2: UserWarning: Parsing '15-09-2013' in DD/MM/YYYY format. Provide format or specify infer_datetime_format=True for consistent parsing.\n",
      "  df['Dt_Customer'] = pd.to_datetime(df['Dt_Customer'])\n",
      "/var/folders/zv/rrl2yd7s3_q5bvd434fb2hlh0000gn/T/ipykernel_25871/1124826159.py:2: UserWarning: Parsing '29-01-2014' in DD/MM/YYYY format. Provide format or specify infer_datetime_format=True for consistent parsing.\n",
      "  df['Dt_Customer'] = pd.to_datetime(df['Dt_Customer'])\n",
      "/var/folders/zv/rrl2yd7s3_q5bvd434fb2hlh0000gn/T/ipykernel_25871/1124826159.py:2: UserWarning: Parsing '28-02-2013' in DD/MM/YYYY format. Provide format or specify infer_datetime_format=True for consistent parsing.\n",
      "  df['Dt_Customer'] = pd.to_datetime(df['Dt_Customer'])\n",
      "/var/folders/zv/rrl2yd7s3_q5bvd434fb2hlh0000gn/T/ipykernel_25871/1124826159.py:2: UserWarning: Parsing '15-03-2013' in DD/MM/YYYY format. Provide format or specify infer_datetime_format=True for consistent parsing.\n",
      "  df['Dt_Customer'] = pd.to_datetime(df['Dt_Customer'])\n",
      "/var/folders/zv/rrl2yd7s3_q5bvd434fb2hlh0000gn/T/ipykernel_25871/1124826159.py:2: UserWarning: Parsing '26-05-2013' in DD/MM/YYYY format. Provide format or specify infer_datetime_format=True for consistent parsing.\n",
      "  df['Dt_Customer'] = pd.to_datetime(df['Dt_Customer'])\n",
      "/var/folders/zv/rrl2yd7s3_q5bvd434fb2hlh0000gn/T/ipykernel_25871/1124826159.py:2: UserWarning: Parsing '30-08-2013' in DD/MM/YYYY format. Provide format or specify infer_datetime_format=True for consistent parsing.\n",
      "  df['Dt_Customer'] = pd.to_datetime(df['Dt_Customer'])\n",
      "/var/folders/zv/rrl2yd7s3_q5bvd434fb2hlh0000gn/T/ipykernel_25871/1124826159.py:2: UserWarning: Parsing '18-12-2013' in DD/MM/YYYY format. Provide format or specify infer_datetime_format=True for consistent parsing.\n",
      "  df['Dt_Customer'] = pd.to_datetime(df['Dt_Customer'])\n",
      "/var/folders/zv/rrl2yd7s3_q5bvd434fb2hlh0000gn/T/ipykernel_25871/1124826159.py:2: UserWarning: Parsing '18-06-2013' in DD/MM/YYYY format. Provide format or specify infer_datetime_format=True for consistent parsing.\n",
      "  df['Dt_Customer'] = pd.to_datetime(df['Dt_Customer'])\n",
      "/var/folders/zv/rrl2yd7s3_q5bvd434fb2hlh0000gn/T/ipykernel_25871/1124826159.py:2: UserWarning: Parsing '29-05-2014' in DD/MM/YYYY format. Provide format or specify infer_datetime_format=True for consistent parsing.\n",
      "  df['Dt_Customer'] = pd.to_datetime(df['Dt_Customer'])\n",
      "/var/folders/zv/rrl2yd7s3_q5bvd434fb2hlh0000gn/T/ipykernel_25871/1124826159.py:2: UserWarning: Parsing '15-01-2013' in DD/MM/YYYY format. Provide format or specify infer_datetime_format=True for consistent parsing.\n",
      "  df['Dt_Customer'] = pd.to_datetime(df['Dt_Customer'])\n",
      "/var/folders/zv/rrl2yd7s3_q5bvd434fb2hlh0000gn/T/ipykernel_25871/1124826159.py:2: UserWarning: Parsing '29-10-2013' in DD/MM/YYYY format. Provide format or specify infer_datetime_format=True for consistent parsing.\n",
      "  df['Dt_Customer'] = pd.to_datetime(df['Dt_Customer'])\n",
      "/var/folders/zv/rrl2yd7s3_q5bvd434fb2hlh0000gn/T/ipykernel_25871/1124826159.py:2: UserWarning: Parsing '14-12-2013' in DD/MM/YYYY format. Provide format or specify infer_datetime_format=True for consistent parsing.\n",
      "  df['Dt_Customer'] = pd.to_datetime(df['Dt_Customer'])\n",
      "/var/folders/zv/rrl2yd7s3_q5bvd434fb2hlh0000gn/T/ipykernel_25871/1124826159.py:2: UserWarning: Parsing '19-01-2013' in DD/MM/YYYY format. Provide format or specify infer_datetime_format=True for consistent parsing.\n",
      "  df['Dt_Customer'] = pd.to_datetime(df['Dt_Customer'])\n",
      "/var/folders/zv/rrl2yd7s3_q5bvd434fb2hlh0000gn/T/ipykernel_25871/1124826159.py:2: UserWarning: Parsing '22-03-2013' in DD/MM/YYYY format. Provide format or specify infer_datetime_format=True for consistent parsing.\n",
      "  df['Dt_Customer'] = pd.to_datetime(df['Dt_Customer'])\n",
      "/var/folders/zv/rrl2yd7s3_q5bvd434fb2hlh0000gn/T/ipykernel_25871/1124826159.py:2: UserWarning: Parsing '31-05-2014' in DD/MM/YYYY format. Provide format or specify infer_datetime_format=True for consistent parsing.\n",
      "  df['Dt_Customer'] = pd.to_datetime(df['Dt_Customer'])\n",
      "/var/folders/zv/rrl2yd7s3_q5bvd434fb2hlh0000gn/T/ipykernel_25871/1124826159.py:2: UserWarning: Parsing '14-02-2013' in DD/MM/YYYY format. Provide format or specify infer_datetime_format=True for consistent parsing.\n",
      "  df['Dt_Customer'] = pd.to_datetime(df['Dt_Customer'])\n",
      "/var/folders/zv/rrl2yd7s3_q5bvd434fb2hlh0000gn/T/ipykernel_25871/1124826159.py:2: UserWarning: Parsing '21-03-2014' in DD/MM/YYYY format. Provide format or specify infer_datetime_format=True for consistent parsing.\n",
      "  df['Dt_Customer'] = pd.to_datetime(df['Dt_Customer'])\n",
      "/var/folders/zv/rrl2yd7s3_q5bvd434fb2hlh0000gn/T/ipykernel_25871/1124826159.py:2: UserWarning: Parsing '29-11-2012' in DD/MM/YYYY format. Provide format or specify infer_datetime_format=True for consistent parsing.\n",
      "  df['Dt_Customer'] = pd.to_datetime(df['Dt_Customer'])\n",
      "/var/folders/zv/rrl2yd7s3_q5bvd434fb2hlh0000gn/T/ipykernel_25871/1124826159.py:2: UserWarning: Parsing '27-07-2013' in DD/MM/YYYY format. Provide format or specify infer_datetime_format=True for consistent parsing.\n",
      "  df['Dt_Customer'] = pd.to_datetime(df['Dt_Customer'])\n",
      "/var/folders/zv/rrl2yd7s3_q5bvd434fb2hlh0000gn/T/ipykernel_25871/1124826159.py:2: UserWarning: Parsing '13-01-2014' in DD/MM/YYYY format. Provide format or specify infer_datetime_format=True for consistent parsing.\n",
      "  df['Dt_Customer'] = pd.to_datetime(df['Dt_Customer'])\n",
      "/var/folders/zv/rrl2yd7s3_q5bvd434fb2hlh0000gn/T/ipykernel_25871/1124826159.py:2: UserWarning: Parsing '29-09-2012' in DD/MM/YYYY format. Provide format or specify infer_datetime_format=True for consistent parsing.\n",
      "  df['Dt_Customer'] = pd.to_datetime(df['Dt_Customer'])\n",
      "/var/folders/zv/rrl2yd7s3_q5bvd434fb2hlh0000gn/T/ipykernel_25871/1124826159.py:2: UserWarning: Parsing '23-10-2013' in DD/MM/YYYY format. Provide format or specify infer_datetime_format=True for consistent parsing.\n",
      "  df['Dt_Customer'] = pd.to_datetime(df['Dt_Customer'])\n",
      "/var/folders/zv/rrl2yd7s3_q5bvd434fb2hlh0000gn/T/ipykernel_25871/1124826159.py:2: UserWarning: Parsing '26-05-2014' in DD/MM/YYYY format. Provide format or specify infer_datetime_format=True for consistent parsing.\n",
      "  df['Dt_Customer'] = pd.to_datetime(df['Dt_Customer'])\n",
      "/var/folders/zv/rrl2yd7s3_q5bvd434fb2hlh0000gn/T/ipykernel_25871/1124826159.py:2: UserWarning: Parsing '19-06-2014' in DD/MM/YYYY format. Provide format or specify infer_datetime_format=True for consistent parsing.\n",
      "  df['Dt_Customer'] = pd.to_datetime(df['Dt_Customer'])\n",
      "/var/folders/zv/rrl2yd7s3_q5bvd434fb2hlh0000gn/T/ipykernel_25871/1124826159.py:2: UserWarning: Parsing '26-11-2012' in DD/MM/YYYY format. Provide format or specify infer_datetime_format=True for consistent parsing.\n",
      "  df['Dt_Customer'] = pd.to_datetime(df['Dt_Customer'])\n",
      "/var/folders/zv/rrl2yd7s3_q5bvd434fb2hlh0000gn/T/ipykernel_25871/1124826159.py:2: UserWarning: Parsing '14-01-2014' in DD/MM/YYYY format. Provide format or specify infer_datetime_format=True for consistent parsing.\n",
      "  df['Dt_Customer'] = pd.to_datetime(df['Dt_Customer'])\n",
      "/var/folders/zv/rrl2yd7s3_q5bvd434fb2hlh0000gn/T/ipykernel_25871/1124826159.py:2: UserWarning: Parsing '23-01-2014' in DD/MM/YYYY format. Provide format or specify infer_datetime_format=True for consistent parsing.\n",
      "  df['Dt_Customer'] = pd.to_datetime(df['Dt_Customer'])\n",
      "/var/folders/zv/rrl2yd7s3_q5bvd434fb2hlh0000gn/T/ipykernel_25871/1124826159.py:2: UserWarning: Parsing '24-03-2013' in DD/MM/YYYY format. Provide format or specify infer_datetime_format=True for consistent parsing.\n",
      "  df['Dt_Customer'] = pd.to_datetime(df['Dt_Customer'])\n",
      "/var/folders/zv/rrl2yd7s3_q5bvd434fb2hlh0000gn/T/ipykernel_25871/1124826159.py:2: UserWarning: Parsing '29-06-2013' in DD/MM/YYYY format. Provide format or specify infer_datetime_format=True for consistent parsing.\n",
      "  df['Dt_Customer'] = pd.to_datetime(df['Dt_Customer'])\n",
      "/var/folders/zv/rrl2yd7s3_q5bvd434fb2hlh0000gn/T/ipykernel_25871/1124826159.py:2: UserWarning: Parsing '25-01-2013' in DD/MM/YYYY format. Provide format or specify infer_datetime_format=True for consistent parsing.\n",
      "  df['Dt_Customer'] = pd.to_datetime(df['Dt_Customer'])\n",
      "/var/folders/zv/rrl2yd7s3_q5bvd434fb2hlh0000gn/T/ipykernel_25871/1124826159.py:2: UserWarning: Parsing '17-11-2013' in DD/MM/YYYY format. Provide format or specify infer_datetime_format=True for consistent parsing.\n",
      "  df['Dt_Customer'] = pd.to_datetime(df['Dt_Customer'])\n",
      "/var/folders/zv/rrl2yd7s3_q5bvd434fb2hlh0000gn/T/ipykernel_25871/1124826159.py:2: UserWarning: Parsing '18-05-2013' in DD/MM/YYYY format. Provide format or specify infer_datetime_format=True for consistent parsing.\n",
      "  df['Dt_Customer'] = pd.to_datetime(df['Dt_Customer'])\n",
      "/var/folders/zv/rrl2yd7s3_q5bvd434fb2hlh0000gn/T/ipykernel_25871/1124826159.py:2: UserWarning: Parsing '17-04-2013' in DD/MM/YYYY format. Provide format or specify infer_datetime_format=True for consistent parsing.\n",
      "  df['Dt_Customer'] = pd.to_datetime(df['Dt_Customer'])\n",
      "/var/folders/zv/rrl2yd7s3_q5bvd434fb2hlh0000gn/T/ipykernel_25871/1124826159.py:2: UserWarning: Parsing '24-01-2013' in DD/MM/YYYY format. Provide format or specify infer_datetime_format=True for consistent parsing.\n",
      "  df['Dt_Customer'] = pd.to_datetime(df['Dt_Customer'])\n",
      "/var/folders/zv/rrl2yd7s3_q5bvd434fb2hlh0000gn/T/ipykernel_25871/1124826159.py:2: UserWarning: Parsing '20-07-2013' in DD/MM/YYYY format. Provide format or specify infer_datetime_format=True for consistent parsing.\n",
      "  df['Dt_Customer'] = pd.to_datetime(df['Dt_Customer'])\n",
      "/var/folders/zv/rrl2yd7s3_q5bvd434fb2hlh0000gn/T/ipykernel_25871/1124826159.py:2: UserWarning: Parsing '28-05-2013' in DD/MM/YYYY format. Provide format or specify infer_datetime_format=True for consistent parsing.\n",
      "  df['Dt_Customer'] = pd.to_datetime(df['Dt_Customer'])\n",
      "/var/folders/zv/rrl2yd7s3_q5bvd434fb2hlh0000gn/T/ipykernel_25871/1124826159.py:2: UserWarning: Parsing '14-10-2012' in DD/MM/YYYY format. Provide format or specify infer_datetime_format=True for consistent parsing.\n",
      "  df['Dt_Customer'] = pd.to_datetime(df['Dt_Customer'])\n",
      "/var/folders/zv/rrl2yd7s3_q5bvd434fb2hlh0000gn/T/ipykernel_25871/1124826159.py:2: UserWarning: Parsing '22-06-2014' in DD/MM/YYYY format. Provide format or specify infer_datetime_format=True for consistent parsing.\n",
      "  df['Dt_Customer'] = pd.to_datetime(df['Dt_Customer'])\n",
      "/var/folders/zv/rrl2yd7s3_q5bvd434fb2hlh0000gn/T/ipykernel_25871/1124826159.py:2: UserWarning: Parsing '25-10-2013' in DD/MM/YYYY format. Provide format or specify infer_datetime_format=True for consistent parsing.\n",
      "  df['Dt_Customer'] = pd.to_datetime(df['Dt_Customer'])\n",
      "/var/folders/zv/rrl2yd7s3_q5bvd434fb2hlh0000gn/T/ipykernel_25871/1124826159.py:2: UserWarning: Parsing '18-02-2014' in DD/MM/YYYY format. Provide format or specify infer_datetime_format=True for consistent parsing.\n",
      "  df['Dt_Customer'] = pd.to_datetime(df['Dt_Customer'])\n",
      "/var/folders/zv/rrl2yd7s3_q5bvd434fb2hlh0000gn/T/ipykernel_25871/1124826159.py:2: UserWarning: Parsing '13-08-2013' in DD/MM/YYYY format. Provide format or specify infer_datetime_format=True for consistent parsing.\n",
      "  df['Dt_Customer'] = pd.to_datetime(df['Dt_Customer'])\n",
      "/var/folders/zv/rrl2yd7s3_q5bvd434fb2hlh0000gn/T/ipykernel_25871/1124826159.py:2: UserWarning: Parsing '25-08-2012' in DD/MM/YYYY format. Provide format or specify infer_datetime_format=True for consistent parsing.\n",
      "  df['Dt_Customer'] = pd.to_datetime(df['Dt_Customer'])\n",
      "/var/folders/zv/rrl2yd7s3_q5bvd434fb2hlh0000gn/T/ipykernel_25871/1124826159.py:2: UserWarning: Parsing '19-04-2014' in DD/MM/YYYY format. Provide format or specify infer_datetime_format=True for consistent parsing.\n",
      "  df['Dt_Customer'] = pd.to_datetime(df['Dt_Customer'])\n",
      "/var/folders/zv/rrl2yd7s3_q5bvd434fb2hlh0000gn/T/ipykernel_25871/1124826159.py:2: UserWarning: Parsing '22-01-2013' in DD/MM/YYYY format. Provide format or specify infer_datetime_format=True for consistent parsing.\n",
      "  df['Dt_Customer'] = pd.to_datetime(df['Dt_Customer'])\n",
      "/var/folders/zv/rrl2yd7s3_q5bvd434fb2hlh0000gn/T/ipykernel_25871/1124826159.py:2: UserWarning: Parsing '26-02-2014' in DD/MM/YYYY format. Provide format or specify infer_datetime_format=True for consistent parsing.\n",
      "  df['Dt_Customer'] = pd.to_datetime(df['Dt_Customer'])\n",
      "/var/folders/zv/rrl2yd7s3_q5bvd434fb2hlh0000gn/T/ipykernel_25871/1124826159.py:2: UserWarning: Parsing '23-04-2014' in DD/MM/YYYY format. Provide format or specify infer_datetime_format=True for consistent parsing.\n",
      "  df['Dt_Customer'] = pd.to_datetime(df['Dt_Customer'])\n",
      "/var/folders/zv/rrl2yd7s3_q5bvd434fb2hlh0000gn/T/ipykernel_25871/1124826159.py:2: UserWarning: Parsing '30-07-2013' in DD/MM/YYYY format. Provide format or specify infer_datetime_format=True for consistent parsing.\n",
      "  df['Dt_Customer'] = pd.to_datetime(df['Dt_Customer'])\n",
      "/var/folders/zv/rrl2yd7s3_q5bvd434fb2hlh0000gn/T/ipykernel_25871/1124826159.py:2: UserWarning: Parsing '13-10-2013' in DD/MM/YYYY format. Provide format or specify infer_datetime_format=True for consistent parsing.\n",
      "  df['Dt_Customer'] = pd.to_datetime(df['Dt_Customer'])\n",
      "/var/folders/zv/rrl2yd7s3_q5bvd434fb2hlh0000gn/T/ipykernel_25871/1124826159.py:2: UserWarning: Parsing '27-11-2012' in DD/MM/YYYY format. Provide format or specify infer_datetime_format=True for consistent parsing.\n",
      "  df['Dt_Customer'] = pd.to_datetime(df['Dt_Customer'])\n",
      "/var/folders/zv/rrl2yd7s3_q5bvd434fb2hlh0000gn/T/ipykernel_25871/1124826159.py:2: UserWarning: Parsing '30-11-2012' in DD/MM/YYYY format. Provide format or specify infer_datetime_format=True for consistent parsing.\n",
      "  df['Dt_Customer'] = pd.to_datetime(df['Dt_Customer'])\n",
      "/var/folders/zv/rrl2yd7s3_q5bvd434fb2hlh0000gn/T/ipykernel_25871/1124826159.py:2: UserWarning: Parsing '17-08-2013' in DD/MM/YYYY format. Provide format or specify infer_datetime_format=True for consistent parsing.\n",
      "  df['Dt_Customer'] = pd.to_datetime(df['Dt_Customer'])\n",
      "/var/folders/zv/rrl2yd7s3_q5bvd434fb2hlh0000gn/T/ipykernel_25871/1124826159.py:2: UserWarning: Parsing '26-04-2014' in DD/MM/YYYY format. Provide format or specify infer_datetime_format=True for consistent parsing.\n",
      "  df['Dt_Customer'] = pd.to_datetime(df['Dt_Customer'])\n",
      "/var/folders/zv/rrl2yd7s3_q5bvd434fb2hlh0000gn/T/ipykernel_25871/1124826159.py:2: UserWarning: Parsing '26-10-2013' in DD/MM/YYYY format. Provide format or specify infer_datetime_format=True for consistent parsing.\n",
      "  df['Dt_Customer'] = pd.to_datetime(df['Dt_Customer'])\n",
      "/var/folders/zv/rrl2yd7s3_q5bvd434fb2hlh0000gn/T/ipykernel_25871/1124826159.py:2: UserWarning: Parsing '24-03-2014' in DD/MM/YYYY format. Provide format or specify infer_datetime_format=True for consistent parsing.\n",
      "  df['Dt_Customer'] = pd.to_datetime(df['Dt_Customer'])\n",
      "/var/folders/zv/rrl2yd7s3_q5bvd434fb2hlh0000gn/T/ipykernel_25871/1124826159.py:2: UserWarning: Parsing '25-02-2013' in DD/MM/YYYY format. Provide format or specify infer_datetime_format=True for consistent parsing.\n",
      "  df['Dt_Customer'] = pd.to_datetime(df['Dt_Customer'])\n",
      "/var/folders/zv/rrl2yd7s3_q5bvd434fb2hlh0000gn/T/ipykernel_25871/1124826159.py:2: UserWarning: Parsing '20-09-2013' in DD/MM/YYYY format. Provide format or specify infer_datetime_format=True for consistent parsing.\n",
      "  df['Dt_Customer'] = pd.to_datetime(df['Dt_Customer'])\n",
      "/var/folders/zv/rrl2yd7s3_q5bvd434fb2hlh0000gn/T/ipykernel_25871/1124826159.py:2: UserWarning: Parsing '16-01-2013' in DD/MM/YYYY format. Provide format or specify infer_datetime_format=True for consistent parsing.\n",
      "  df['Dt_Customer'] = pd.to_datetime(df['Dt_Customer'])\n",
      "/var/folders/zv/rrl2yd7s3_q5bvd434fb2hlh0000gn/T/ipykernel_25871/1124826159.py:2: UserWarning: Parsing '24-12-2013' in DD/MM/YYYY format. Provide format or specify infer_datetime_format=True for consistent parsing.\n",
      "  df['Dt_Customer'] = pd.to_datetime(df['Dt_Customer'])\n",
      "/var/folders/zv/rrl2yd7s3_q5bvd434fb2hlh0000gn/T/ipykernel_25871/1124826159.py:2: UserWarning: Parsing '18-11-2012' in DD/MM/YYYY format. Provide format or specify infer_datetime_format=True for consistent parsing.\n",
      "  df['Dt_Customer'] = pd.to_datetime(df['Dt_Customer'])\n",
      "/var/folders/zv/rrl2yd7s3_q5bvd434fb2hlh0000gn/T/ipykernel_25871/1124826159.py:2: UserWarning: Parsing '21-07-2013' in DD/MM/YYYY format. Provide format or specify infer_datetime_format=True for consistent parsing.\n",
      "  df['Dt_Customer'] = pd.to_datetime(df['Dt_Customer'])\n",
      "/var/folders/zv/rrl2yd7s3_q5bvd434fb2hlh0000gn/T/ipykernel_25871/1124826159.py:2: UserWarning: Parsing '20-10-2012' in DD/MM/YYYY format. Provide format or specify infer_datetime_format=True for consistent parsing.\n",
      "  df['Dt_Customer'] = pd.to_datetime(df['Dt_Customer'])\n",
      "/var/folders/zv/rrl2yd7s3_q5bvd434fb2hlh0000gn/T/ipykernel_25871/1124826159.py:2: UserWarning: Parsing '23-05-2013' in DD/MM/YYYY format. Provide format or specify infer_datetime_format=True for consistent parsing.\n",
      "  df['Dt_Customer'] = pd.to_datetime(df['Dt_Customer'])\n",
      "/var/folders/zv/rrl2yd7s3_q5bvd434fb2hlh0000gn/T/ipykernel_25871/1124826159.py:2: UserWarning: Parsing '26-08-2012' in DD/MM/YYYY format. Provide format or specify infer_datetime_format=True for consistent parsing.\n",
      "  df['Dt_Customer'] = pd.to_datetime(df['Dt_Customer'])\n",
      "/var/folders/zv/rrl2yd7s3_q5bvd434fb2hlh0000gn/T/ipykernel_25871/1124826159.py:2: UserWarning: Parsing '13-02-2014' in DD/MM/YYYY format. Provide format or specify infer_datetime_format=True for consistent parsing.\n",
      "  df['Dt_Customer'] = pd.to_datetime(df['Dt_Customer'])\n",
      "/var/folders/zv/rrl2yd7s3_q5bvd434fb2hlh0000gn/T/ipykernel_25871/1124826159.py:2: UserWarning: Parsing '27-02-2014' in DD/MM/YYYY format. Provide format or specify infer_datetime_format=True for consistent parsing.\n",
      "  df['Dt_Customer'] = pd.to_datetime(df['Dt_Customer'])\n",
      "/var/folders/zv/rrl2yd7s3_q5bvd434fb2hlh0000gn/T/ipykernel_25871/1124826159.py:2: UserWarning: Parsing '20-04-2014' in DD/MM/YYYY format. Provide format or specify infer_datetime_format=True for consistent parsing.\n",
      "  df['Dt_Customer'] = pd.to_datetime(df['Dt_Customer'])\n",
      "/var/folders/zv/rrl2yd7s3_q5bvd434fb2hlh0000gn/T/ipykernel_25871/1124826159.py:2: UserWarning: Parsing '28-06-2013' in DD/MM/YYYY format. Provide format or specify infer_datetime_format=True for consistent parsing.\n",
      "  df['Dt_Customer'] = pd.to_datetime(df['Dt_Customer'])\n",
      "/var/folders/zv/rrl2yd7s3_q5bvd434fb2hlh0000gn/T/ipykernel_25871/1124826159.py:2: UserWarning: Parsing '28-04-2013' in DD/MM/YYYY format. Provide format or specify infer_datetime_format=True for consistent parsing.\n",
      "  df['Dt_Customer'] = pd.to_datetime(df['Dt_Customer'])\n",
      "/var/folders/zv/rrl2yd7s3_q5bvd434fb2hlh0000gn/T/ipykernel_25871/1124826159.py:2: UserWarning: Parsing '21-03-2013' in DD/MM/YYYY format. Provide format or specify infer_datetime_format=True for consistent parsing.\n",
      "  df['Dt_Customer'] = pd.to_datetime(df['Dt_Customer'])\n",
      "/var/folders/zv/rrl2yd7s3_q5bvd434fb2hlh0000gn/T/ipykernel_25871/1124826159.py:2: UserWarning: Parsing '27-08-2013' in DD/MM/YYYY format. Provide format or specify infer_datetime_format=True for consistent parsing.\n",
      "  df['Dt_Customer'] = pd.to_datetime(df['Dt_Customer'])\n",
      "/var/folders/zv/rrl2yd7s3_q5bvd434fb2hlh0000gn/T/ipykernel_25871/1124826159.py:2: UserWarning: Parsing '30-07-2012' in DD/MM/YYYY format. Provide format or specify infer_datetime_format=True for consistent parsing.\n",
      "  df['Dt_Customer'] = pd.to_datetime(df['Dt_Customer'])\n",
      "/var/folders/zv/rrl2yd7s3_q5bvd434fb2hlh0000gn/T/ipykernel_25871/1124826159.py:2: UserWarning: Parsing '21-11-2012' in DD/MM/YYYY format. Provide format or specify infer_datetime_format=True for consistent parsing.\n",
      "  df['Dt_Customer'] = pd.to_datetime(df['Dt_Customer'])\n",
      "/var/folders/zv/rrl2yd7s3_q5bvd434fb2hlh0000gn/T/ipykernel_25871/1124826159.py:2: UserWarning: Parsing '26-02-2013' in DD/MM/YYYY format. Provide format or specify infer_datetime_format=True for consistent parsing.\n",
      "  df['Dt_Customer'] = pd.to_datetime(df['Dt_Customer'])\n",
      "/var/folders/zv/rrl2yd7s3_q5bvd434fb2hlh0000gn/T/ipykernel_25871/1124826159.py:2: UserWarning: Parsing '20-09-2012' in DD/MM/YYYY format. Provide format or specify infer_datetime_format=True for consistent parsing.\n",
      "  df['Dt_Customer'] = pd.to_datetime(df['Dt_Customer'])\n",
      "/var/folders/zv/rrl2yd7s3_q5bvd434fb2hlh0000gn/T/ipykernel_25871/1124826159.py:2: UserWarning: Parsing '24-06-2013' in DD/MM/YYYY format. Provide format or specify infer_datetime_format=True for consistent parsing.\n",
      "  df['Dt_Customer'] = pd.to_datetime(df['Dt_Customer'])\n",
      "/var/folders/zv/rrl2yd7s3_q5bvd434fb2hlh0000gn/T/ipykernel_25871/1124826159.py:2: UserWarning: Parsing '19-02-2014' in DD/MM/YYYY format. Provide format or specify infer_datetime_format=True for consistent parsing.\n",
      "  df['Dt_Customer'] = pd.to_datetime(df['Dt_Customer'])\n",
      "/var/folders/zv/rrl2yd7s3_q5bvd434fb2hlh0000gn/T/ipykernel_25871/1124826159.py:2: UserWarning: Parsing '27-12-2012' in DD/MM/YYYY format. Provide format or specify infer_datetime_format=True for consistent parsing.\n",
      "  df['Dt_Customer'] = pd.to_datetime(df['Dt_Customer'])\n",
      "/var/folders/zv/rrl2yd7s3_q5bvd434fb2hlh0000gn/T/ipykernel_25871/1124826159.py:2: UserWarning: Parsing '22-07-2013' in DD/MM/YYYY format. Provide format or specify infer_datetime_format=True for consistent parsing.\n",
      "  df['Dt_Customer'] = pd.to_datetime(df['Dt_Customer'])\n",
      "/var/folders/zv/rrl2yd7s3_q5bvd434fb2hlh0000gn/T/ipykernel_25871/1124826159.py:2: UserWarning: Parsing '31-01-2014' in DD/MM/YYYY format. Provide format or specify infer_datetime_format=True for consistent parsing.\n",
      "  df['Dt_Customer'] = pd.to_datetime(df['Dt_Customer'])\n",
      "/var/folders/zv/rrl2yd7s3_q5bvd434fb2hlh0000gn/T/ipykernel_25871/1124826159.py:2: UserWarning: Parsing '26-08-2013' in DD/MM/YYYY format. Provide format or specify infer_datetime_format=True for consistent parsing.\n",
      "  df['Dt_Customer'] = pd.to_datetime(df['Dt_Customer'])\n",
      "/var/folders/zv/rrl2yd7s3_q5bvd434fb2hlh0000gn/T/ipykernel_25871/1124826159.py:2: UserWarning: Parsing '26-09-2012' in DD/MM/YYYY format. Provide format or specify infer_datetime_format=True for consistent parsing.\n",
      "  df['Dt_Customer'] = pd.to_datetime(df['Dt_Customer'])\n",
      "/var/folders/zv/rrl2yd7s3_q5bvd434fb2hlh0000gn/T/ipykernel_25871/1124826159.py:2: UserWarning: Parsing '31-07-2012' in DD/MM/YYYY format. Provide format or specify infer_datetime_format=True for consistent parsing.\n",
      "  df['Dt_Customer'] = pd.to_datetime(df['Dt_Customer'])\n",
      "/var/folders/zv/rrl2yd7s3_q5bvd434fb2hlh0000gn/T/ipykernel_25871/1124826159.py:2: UserWarning: Parsing '15-05-2014' in DD/MM/YYYY format. Provide format or specify infer_datetime_format=True for consistent parsing.\n",
      "  df['Dt_Customer'] = pd.to_datetime(df['Dt_Customer'])\n",
      "/var/folders/zv/rrl2yd7s3_q5bvd434fb2hlh0000gn/T/ipykernel_25871/1124826159.py:2: UserWarning: Parsing '13-08-2012' in DD/MM/YYYY format. Provide format or specify infer_datetime_format=True for consistent parsing.\n",
      "  df['Dt_Customer'] = pd.to_datetime(df['Dt_Customer'])\n",
      "/var/folders/zv/rrl2yd7s3_q5bvd434fb2hlh0000gn/T/ipykernel_25871/1124826159.py:2: UserWarning: Parsing '23-02-2014' in DD/MM/YYYY format. Provide format or specify infer_datetime_format=True for consistent parsing.\n",
      "  df['Dt_Customer'] = pd.to_datetime(df['Dt_Customer'])\n",
      "/var/folders/zv/rrl2yd7s3_q5bvd434fb2hlh0000gn/T/ipykernel_25871/1124826159.py:2: UserWarning: Parsing '16-03-2014' in DD/MM/YYYY format. Provide format or specify infer_datetime_format=True for consistent parsing.\n",
      "  df['Dt_Customer'] = pd.to_datetime(df['Dt_Customer'])\n",
      "/var/folders/zv/rrl2yd7s3_q5bvd434fb2hlh0000gn/T/ipykernel_25871/1124826159.py:2: UserWarning: Parsing '21-09-2013' in DD/MM/YYYY format. Provide format or specify infer_datetime_format=True for consistent parsing.\n",
      "  df['Dt_Customer'] = pd.to_datetime(df['Dt_Customer'])\n",
      "/var/folders/zv/rrl2yd7s3_q5bvd434fb2hlh0000gn/T/ipykernel_25871/1124826159.py:2: UserWarning: Parsing '24-10-2012' in DD/MM/YYYY format. Provide format or specify infer_datetime_format=True for consistent parsing.\n",
      "  df['Dt_Customer'] = pd.to_datetime(df['Dt_Customer'])\n",
      "/var/folders/zv/rrl2yd7s3_q5bvd434fb2hlh0000gn/T/ipykernel_25871/1124826159.py:2: UserWarning: Parsing '15-10-2013' in DD/MM/YYYY format. Provide format or specify infer_datetime_format=True for consistent parsing.\n",
      "  df['Dt_Customer'] = pd.to_datetime(df['Dt_Customer'])\n",
      "/var/folders/zv/rrl2yd7s3_q5bvd434fb2hlh0000gn/T/ipykernel_25871/1124826159.py:2: UserWarning: Parsing '17-02-2013' in DD/MM/YYYY format. Provide format or specify infer_datetime_format=True for consistent parsing.\n",
      "  df['Dt_Customer'] = pd.to_datetime(df['Dt_Customer'])\n",
      "/var/folders/zv/rrl2yd7s3_q5bvd434fb2hlh0000gn/T/ipykernel_25871/1124826159.py:2: UserWarning: Parsing '28-08-2012' in DD/MM/YYYY format. Provide format or specify infer_datetime_format=True for consistent parsing.\n",
      "  df['Dt_Customer'] = pd.to_datetime(df['Dt_Customer'])\n",
      "/var/folders/zv/rrl2yd7s3_q5bvd434fb2hlh0000gn/T/ipykernel_25871/1124826159.py:2: UserWarning: Parsing '16-11-2012' in DD/MM/YYYY format. Provide format or specify infer_datetime_format=True for consistent parsing.\n",
      "  df['Dt_Customer'] = pd.to_datetime(df['Dt_Customer'])\n",
      "/var/folders/zv/rrl2yd7s3_q5bvd434fb2hlh0000gn/T/ipykernel_25871/1124826159.py:2: UserWarning: Parsing '16-08-2012' in DD/MM/YYYY format. Provide format or specify infer_datetime_format=True for consistent parsing.\n",
      "  df['Dt_Customer'] = pd.to_datetime(df['Dt_Customer'])\n",
      "/var/folders/zv/rrl2yd7s3_q5bvd434fb2hlh0000gn/T/ipykernel_25871/1124826159.py:2: UserWarning: Parsing '25-11-2012' in DD/MM/YYYY format. Provide format or specify infer_datetime_format=True for consistent parsing.\n",
      "  df['Dt_Customer'] = pd.to_datetime(df['Dt_Customer'])\n",
      "/var/folders/zv/rrl2yd7s3_q5bvd434fb2hlh0000gn/T/ipykernel_25871/1124826159.py:2: UserWarning: Parsing '27-04-2014' in DD/MM/YYYY format. Provide format or specify infer_datetime_format=True for consistent parsing.\n",
      "  df['Dt_Customer'] = pd.to_datetime(df['Dt_Customer'])\n",
      "/var/folders/zv/rrl2yd7s3_q5bvd434fb2hlh0000gn/T/ipykernel_25871/1124826159.py:2: UserWarning: Parsing '30-04-2013' in DD/MM/YYYY format. Provide format or specify infer_datetime_format=True for consistent parsing.\n",
      "  df['Dt_Customer'] = pd.to_datetime(df['Dt_Customer'])\n",
      "/var/folders/zv/rrl2yd7s3_q5bvd434fb2hlh0000gn/T/ipykernel_25871/1124826159.py:2: UserWarning: Parsing '20-11-2012' in DD/MM/YYYY format. Provide format or specify infer_datetime_format=True for consistent parsing.\n",
      "  df['Dt_Customer'] = pd.to_datetime(df['Dt_Customer'])\n",
      "/var/folders/zv/rrl2yd7s3_q5bvd434fb2hlh0000gn/T/ipykernel_25871/1124826159.py:2: UserWarning: Parsing '14-06-2014' in DD/MM/YYYY format. Provide format or specify infer_datetime_format=True for consistent parsing.\n",
      "  df['Dt_Customer'] = pd.to_datetime(df['Dt_Customer'])\n",
      "/var/folders/zv/rrl2yd7s3_q5bvd434fb2hlh0000gn/T/ipykernel_25871/1124826159.py:2: UserWarning: Parsing '28-03-2014' in DD/MM/YYYY format. Provide format or specify infer_datetime_format=True for consistent parsing.\n",
      "  df['Dt_Customer'] = pd.to_datetime(df['Dt_Customer'])\n",
      "/var/folders/zv/rrl2yd7s3_q5bvd434fb2hlh0000gn/T/ipykernel_25871/1124826159.py:2: UserWarning: Parsing '15-04-2014' in DD/MM/YYYY format. Provide format or specify infer_datetime_format=True for consistent parsing.\n",
      "  df['Dt_Customer'] = pd.to_datetime(df['Dt_Customer'])\n",
      "/var/folders/zv/rrl2yd7s3_q5bvd434fb2hlh0000gn/T/ipykernel_25871/1124826159.py:2: UserWarning: Parsing '25-04-2014' in DD/MM/YYYY format. Provide format or specify infer_datetime_format=True for consistent parsing.\n",
      "  df['Dt_Customer'] = pd.to_datetime(df['Dt_Customer'])\n",
      "/var/folders/zv/rrl2yd7s3_q5bvd434fb2hlh0000gn/T/ipykernel_25871/1124826159.py:2: UserWarning: Parsing '27-06-2013' in DD/MM/YYYY format. Provide format or specify infer_datetime_format=True for consistent parsing.\n",
      "  df['Dt_Customer'] = pd.to_datetime(df['Dt_Customer'])\n",
      "/var/folders/zv/rrl2yd7s3_q5bvd434fb2hlh0000gn/T/ipykernel_25871/1124826159.py:2: UserWarning: Parsing '22-02-2014' in DD/MM/YYYY format. Provide format or specify infer_datetime_format=True for consistent parsing.\n",
      "  df['Dt_Customer'] = pd.to_datetime(df['Dt_Customer'])\n",
      "/var/folders/zv/rrl2yd7s3_q5bvd434fb2hlh0000gn/T/ipykernel_25871/1124826159.py:2: UserWarning: Parsing '23-09-2013' in DD/MM/YYYY format. Provide format or specify infer_datetime_format=True for consistent parsing.\n",
      "  df['Dt_Customer'] = pd.to_datetime(df['Dt_Customer'])\n",
      "/var/folders/zv/rrl2yd7s3_q5bvd434fb2hlh0000gn/T/ipykernel_25871/1124826159.py:2: UserWarning: Parsing '24-07-2013' in DD/MM/YYYY format. Provide format or specify infer_datetime_format=True for consistent parsing.\n",
      "  df['Dt_Customer'] = pd.to_datetime(df['Dt_Customer'])\n",
      "/var/folders/zv/rrl2yd7s3_q5bvd434fb2hlh0000gn/T/ipykernel_25871/1124826159.py:2: UserWarning: Parsing '23-06-2014' in DD/MM/YYYY format. Provide format or specify infer_datetime_format=True for consistent parsing.\n",
      "  df['Dt_Customer'] = pd.to_datetime(df['Dt_Customer'])\n",
      "/var/folders/zv/rrl2yd7s3_q5bvd434fb2hlh0000gn/T/ipykernel_25871/1124826159.py:2: UserWarning: Parsing '25-03-2013' in DD/MM/YYYY format. Provide format or specify infer_datetime_format=True for consistent parsing.\n",
      "  df['Dt_Customer'] = pd.to_datetime(df['Dt_Customer'])\n",
      "/var/folders/zv/rrl2yd7s3_q5bvd434fb2hlh0000gn/T/ipykernel_25871/1124826159.py:2: UserWarning: Parsing '17-01-2014' in DD/MM/YYYY format. Provide format or specify infer_datetime_format=True for consistent parsing.\n",
      "  df['Dt_Customer'] = pd.to_datetime(df['Dt_Customer'])\n",
      "/var/folders/zv/rrl2yd7s3_q5bvd434fb2hlh0000gn/T/ipykernel_25871/1124826159.py:2: UserWarning: Parsing '25-03-2014' in DD/MM/YYYY format. Provide format or specify infer_datetime_format=True for consistent parsing.\n",
      "  df['Dt_Customer'] = pd.to_datetime(df['Dt_Customer'])\n",
      "/var/folders/zv/rrl2yd7s3_q5bvd434fb2hlh0000gn/T/ipykernel_25871/1124826159.py:2: UserWarning: Parsing '31-12-2012' in DD/MM/YYYY format. Provide format or specify infer_datetime_format=True for consistent parsing.\n",
      "  df['Dt_Customer'] = pd.to_datetime(df['Dt_Customer'])\n",
      "/var/folders/zv/rrl2yd7s3_q5bvd434fb2hlh0000gn/T/ipykernel_25871/1124826159.py:2: UserWarning: Parsing '19-09-2012' in DD/MM/YYYY format. Provide format or specify infer_datetime_format=True for consistent parsing.\n",
      "  df['Dt_Customer'] = pd.to_datetime(df['Dt_Customer'])\n",
      "/var/folders/zv/rrl2yd7s3_q5bvd434fb2hlh0000gn/T/ipykernel_25871/1124826159.py:2: UserWarning: Parsing '27-02-2013' in DD/MM/YYYY format. Provide format or specify infer_datetime_format=True for consistent parsing.\n",
      "  df['Dt_Customer'] = pd.to_datetime(df['Dt_Customer'])\n",
      "/var/folders/zv/rrl2yd7s3_q5bvd434fb2hlh0000gn/T/ipykernel_25871/1124826159.py:2: UserWarning: Parsing '26-11-2013' in DD/MM/YYYY format. Provide format or specify infer_datetime_format=True for consistent parsing.\n",
      "  df['Dt_Customer'] = pd.to_datetime(df['Dt_Customer'])\n",
      "/var/folders/zv/rrl2yd7s3_q5bvd434fb2hlh0000gn/T/ipykernel_25871/1124826159.py:2: UserWarning: Parsing '17-12-2012' in DD/MM/YYYY format. Provide format or specify infer_datetime_format=True for consistent parsing.\n",
      "  df['Dt_Customer'] = pd.to_datetime(df['Dt_Customer'])\n",
      "/var/folders/zv/rrl2yd7s3_q5bvd434fb2hlh0000gn/T/ipykernel_25871/1124826159.py:2: UserWarning: Parsing '19-05-2013' in DD/MM/YYYY format. Provide format or specify infer_datetime_format=True for consistent parsing.\n",
      "  df['Dt_Customer'] = pd.to_datetime(df['Dt_Customer'])\n",
      "/var/folders/zv/rrl2yd7s3_q5bvd434fb2hlh0000gn/T/ipykernel_25871/1124826159.py:2: UserWarning: Parsing '15-12-2013' in DD/MM/YYYY format. Provide format or specify infer_datetime_format=True for consistent parsing.\n",
      "  df['Dt_Customer'] = pd.to_datetime(df['Dt_Customer'])\n",
      "/var/folders/zv/rrl2yd7s3_q5bvd434fb2hlh0000gn/T/ipykernel_25871/1124826159.py:2: UserWarning: Parsing '15-07-2013' in DD/MM/YYYY format. Provide format or specify infer_datetime_format=True for consistent parsing.\n",
      "  df['Dt_Customer'] = pd.to_datetime(df['Dt_Customer'])\n",
      "/var/folders/zv/rrl2yd7s3_q5bvd434fb2hlh0000gn/T/ipykernel_25871/1124826159.py:2: UserWarning: Parsing '27-01-2013' in DD/MM/YYYY format. Provide format or specify infer_datetime_format=True for consistent parsing.\n",
      "  df['Dt_Customer'] = pd.to_datetime(df['Dt_Customer'])\n",
      "/var/folders/zv/rrl2yd7s3_q5bvd434fb2hlh0000gn/T/ipykernel_25871/1124826159.py:2: UserWarning: Parsing '26-12-2012' in DD/MM/YYYY format. Provide format or specify infer_datetime_format=True for consistent parsing.\n",
      "  df['Dt_Customer'] = pd.to_datetime(df['Dt_Customer'])\n",
      "/var/folders/zv/rrl2yd7s3_q5bvd434fb2hlh0000gn/T/ipykernel_25871/1124826159.py:2: UserWarning: Parsing '14-01-2013' in DD/MM/YYYY format. Provide format or specify infer_datetime_format=True for consistent parsing.\n",
      "  df['Dt_Customer'] = pd.to_datetime(df['Dt_Customer'])\n",
      "/var/folders/zv/rrl2yd7s3_q5bvd434fb2hlh0000gn/T/ipykernel_25871/1124826159.py:2: UserWarning: Parsing '20-06-2014' in DD/MM/YYYY format. Provide format or specify infer_datetime_format=True for consistent parsing.\n",
      "  df['Dt_Customer'] = pd.to_datetime(df['Dt_Customer'])\n",
      "/var/folders/zv/rrl2yd7s3_q5bvd434fb2hlh0000gn/T/ipykernel_25871/1124826159.py:2: UserWarning: Parsing '24-08-2013' in DD/MM/YYYY format. Provide format or specify infer_datetime_format=True for consistent parsing.\n",
      "  df['Dt_Customer'] = pd.to_datetime(df['Dt_Customer'])\n",
      "/var/folders/zv/rrl2yd7s3_q5bvd434fb2hlh0000gn/T/ipykernel_25871/1124826159.py:2: UserWarning: Parsing '28-02-2014' in DD/MM/YYYY format. Provide format or specify infer_datetime_format=True for consistent parsing.\n",
      "  df['Dt_Customer'] = pd.to_datetime(df['Dt_Customer'])\n",
      "/var/folders/zv/rrl2yd7s3_q5bvd434fb2hlh0000gn/T/ipykernel_25871/1124826159.py:2: UserWarning: Parsing '30-11-2013' in DD/MM/YYYY format. Provide format or specify infer_datetime_format=True for consistent parsing.\n",
      "  df['Dt_Customer'] = pd.to_datetime(df['Dt_Customer'])\n",
      "/var/folders/zv/rrl2yd7s3_q5bvd434fb2hlh0000gn/T/ipykernel_25871/1124826159.py:2: UserWarning: Parsing '27-03-2014' in DD/MM/YYYY format. Provide format or specify infer_datetime_format=True for consistent parsing.\n",
      "  df['Dt_Customer'] = pd.to_datetime(df['Dt_Customer'])\n",
      "/var/folders/zv/rrl2yd7s3_q5bvd434fb2hlh0000gn/T/ipykernel_25871/1124826159.py:2: UserWarning: Parsing '15-12-2012' in DD/MM/YYYY format. Provide format or specify infer_datetime_format=True for consistent parsing.\n",
      "  df['Dt_Customer'] = pd.to_datetime(df['Dt_Customer'])\n",
      "/var/folders/zv/rrl2yd7s3_q5bvd434fb2hlh0000gn/T/ipykernel_25871/1124826159.py:2: UserWarning: Parsing '17-09-2012' in DD/MM/YYYY format. Provide format or specify infer_datetime_format=True for consistent parsing.\n",
      "  df['Dt_Customer'] = pd.to_datetime(df['Dt_Customer'])\n",
      "/var/folders/zv/rrl2yd7s3_q5bvd434fb2hlh0000gn/T/ipykernel_25871/1124826159.py:2: UserWarning: Parsing '21-12-2012' in DD/MM/YYYY format. Provide format or specify infer_datetime_format=True for consistent parsing.\n",
      "  df['Dt_Customer'] = pd.to_datetime(df['Dt_Customer'])\n",
      "/var/folders/zv/rrl2yd7s3_q5bvd434fb2hlh0000gn/T/ipykernel_25871/1124826159.py:2: UserWarning: Parsing '20-12-2012' in DD/MM/YYYY format. Provide format or specify infer_datetime_format=True for consistent parsing.\n",
      "  df['Dt_Customer'] = pd.to_datetime(df['Dt_Customer'])\n"
     ]
    }
   ],
   "source": [
    "#df['Dt_Customer'].value_counts()\n",
    "df['Dt_Customer'] = pd.to_datetime(df['Dt_Customer'])"
   ]
  },
  {
   "cell_type": "markdown",
   "id": "78ed325b",
   "metadata": {},
   "source": [
    "### Смотрим пропуски"
   ]
  },
  {
   "cell_type": "code",
   "execution_count": 8,
   "id": "efed846f",
   "metadata": {},
   "outputs": [
    {
     "name": "stdout",
     "output_type": "stream",
     "text": [
      "24\n"
     ]
    },
    {
     "data": {
      "text/plain": [
       "1.083032490974729"
      ]
     },
     "execution_count": 8,
     "metadata": {},
     "output_type": "execute_result"
    }
   ],
   "source": [
    "print(df['Income'].isna().sum())\n",
    "df['Income'].isna().sum() / df['Income'].count() * 100"
   ]
  },
  {
   "cell_type": "markdown",
   "id": "1ff5c74b",
   "metadata": {},
   "source": [
    "24 пропуска в колонке о доходах семьи- это 1% данных от общего числа данных. Здесь можно поступить проще и заполнить эти пропуски средним значением по всей колонке, никак не сегментируя. Если возникнут какие-то сложности, то тогда изменим стратегию заполнения."
   ]
  },
  {
   "cell_type": "code",
   "execution_count": 9,
   "id": "5c841993",
   "metadata": {},
   "outputs": [
    {
     "data": {
      "text/plain": [
       "52247.25135379061"
      ]
     },
     "execution_count": 9,
     "metadata": {},
     "output_type": "execute_result"
    }
   ],
   "source": [
    "df['Income'].mean()"
   ]
  },
  {
   "cell_type": "code",
   "execution_count": 10,
   "id": "847819ef",
   "metadata": {},
   "outputs": [
    {
     "data": {
      "text/plain": [
       "52247.25135379059"
      ]
     },
     "execution_count": 10,
     "metadata": {},
     "output_type": "execute_result"
    }
   ],
   "source": [
    "# Найдем среднее значение по колонке\n",
    "income_mean = df['Income'].mean()\n",
    "# заполним им пропуски\n",
    "df['Income'] = df['Income'].fillna(income_mean)\n",
    "\n",
    "# df['Income'].isna().sum()\n",
    "df['Income'].mean()"
   ]
  },
  {
   "cell_type": "markdown",
   "id": "a0b0a917",
   "metadata": {},
   "source": [
    "Как мы можем наблюдать, среднее значение по годовому доходу почти никак не изменилось после заполнения пропусков."
   ]
  },
  {
   "cell_type": "markdown",
   "id": "344a01bf",
   "metadata": {},
   "source": [
    "### Изучение категориальных и количественных значений"
   ]
  },
  {
   "cell_type": "markdown",
   "id": "a2d4a011",
   "metadata": {},
   "source": [
    "Изучим сначала столбцы, связанные с личными данными людей."
   ]
  },
  {
   "cell_type": "code",
   "execution_count": 11,
   "id": "1cce89e3",
   "metadata": {},
   "outputs": [
    {
     "data": {
      "text/plain": [
       "<AxesSubplot:xlabel='Year_Birth', ylabel='Count'>"
      ]
     },
     "execution_count": 11,
     "metadata": {},
     "output_type": "execute_result"
    },
    {
     "data": {
      "image/png": "[encoded data removed]",
      "text/plain": [
       "<Figure size 432x288 with 1 Axes>"
      ]
     },
     "metadata": {
      "needs_background": "light"
     },
     "output_type": "display_data"
    }
   ],
   "source": [
    "sns.histplot(data=df['Year_Birth'], kde=True, color=\"orange\")"
   ]
  },
  {
   "cell_type": "markdown",
   "id": "ccfac73a",
   "metadata": {},
   "source": [
    "Отлично, видим что гистограмма по годам рождения покупателей распределена по большей степени нормально, с небольшим смещением вправо и небольшим вторым пиком. Нашими клиентами преимущественно являются люди 1970-1980гг рождения."
   ]
  },
  {
   "cell_type": "code",
   "execution_count": 12,
   "id": "b6add163",
   "metadata": {},
   "outputs": [
    {
     "data": {
      "text/plain": [
       "<AxesSubplot:title={'center':'Education'}>"
      ]
     },
     "execution_count": 12,
     "metadata": {},
     "output_type": "execute_result"
    },
    {
     "data": {
      "image/png": "[encoded data removed]",
      "text/plain": [
       "<Figure size 432x288 with 1 Axes>"
      ]
     },
     "metadata": {
      "needs_background": "light"
     },
     "output_type": "display_data"
    }
   ],
   "source": [
    "df['Education'].value_counts().plot(kind='bar', color='green', title='Education')"
   ]
  },
  {
   "cell_type": "markdown",
   "id": "8c570252",
   "metadata": {},
   "source": [
    "По данному графику можно предположить, что в этой сети делают покупки, в основном, все с высшим образованием, больше половины - покупатели окончили университет, и уверенное второе место занимают покупатели со степенью PhD."
   ]
  },
  {
   "cell_type": "code",
   "execution_count": 13,
   "id": "c2f5d8a2",
   "metadata": {},
   "outputs": [
    {
     "data": {
      "text/plain": [
       "<AxesSubplot:title={'center':'Marital Status'}>"
      ]
     },
     "execution_count": 13,
     "metadata": {},
     "output_type": "execute_result"
    },
    {
     "data": {
      "image/png": "[encoded data removed]",
      "text/plain": [
       "<Figure size 432x288 with 1 Axes>"
      ]
     },
     "metadata": {
      "needs_background": "light"
     },
     "output_type": "display_data"
    }
   ],
   "source": [
    "df['Marital_Status'].value_counts().plot(kind='bar', color='blue', title='Marital Status')"
   ]
  },
  {
   "cell_type": "markdown",
   "id": "c208d3de",
   "metadata": {},
   "source": [
    "Из данной гистограммы видим, что делают покупки, в основном, женатые/замужние пары или те, кто состоит в отношениях. Только на третьем месте те, у кого нет пары и так далее."
   ]
  },
  {
   "cell_type": "code",
   "execution_count": 14,
   "id": "9aa82a04",
   "metadata": {},
   "outputs": [
    {
     "data": {
      "text/plain": [
       "<AxesSubplot:title={'center':'Teenhome'}>"
      ]
     },
     "execution_count": 14,
     "metadata": {},
     "output_type": "execute_result"
    },
    {
     "data": {
      "image/png": "[encoded data removed]",
      "text/plain": [
       "<Figure size 1008x360 with 2 Axes>"
      ]
     },
     "metadata": {
      "needs_background": "light"
     },
     "output_type": "display_data"
    }
   ],
   "source": [
    "plt.figure(figsize=(14, 5))\n",
    "plt.subplot(1, 2, 1)\n",
    "plt.title('Kidhome')\n",
    "df['Kidhome'].value_counts().plot(kind='bar')\n",
    "plt.subplot(1, 2, 2)\n",
    "plt.title('Teenhome')\n",
    "df['Teenhome'].value_counts().plot(kind='bar')"
   ]
  },
  {
   "cell_type": "markdown",
   "id": "4ca2e4b0",
   "metadata": {},
   "source": [
    "Из этих гистограмм видим, что клиенты в большинстве случаев те, у кого нет детей и/или тинейджеров дома. Последнее место занимают те, у кого максимум 1 ребенок."
   ]
  },
  {
   "cell_type": "code",
   "execution_count": 15,
   "id": "efe5a9ef",
   "metadata": {},
   "outputs": [
    {
     "data": {
      "text/plain": [
       "<AxesSubplot:xlabel='Recency', ylabel='Count'>"
      ]
     },
     "execution_count": 15,
     "metadata": {},
     "output_type": "execute_result"
    },
    {
     "data": {
      "image/png": "[encoded data removed]",
      "text/plain": [
       "<Figure size 432x288 with 1 Axes>"
      ]
     },
     "metadata": {
      "needs_background": "light"
     },
     "output_type": "display_data"
    }
   ],
   "source": [
    "sns.histplot(data=df['Recency'].value_counts(), kde=True, color=\"blue\")"
   ]
  },
  {
   "cell_type": "markdown",
   "id": "77ee070f",
   "metadata": {},
   "source": [
    "Здесь мы видим, что распределение почти тоже нормальное, по количеству дней, с момента последней покупки в этом магазине. В среднем проходит от 17-27 дней после последней покупки."
   ]
  },
  {
   "cell_type": "code",
   "execution_count": 16,
   "id": "e2e6726c",
   "metadata": {},
   "outputs": [
    {
     "data": {
      "text/plain": [
       "21"
      ]
     },
     "execution_count": 16,
     "metadata": {},
     "output_type": "execute_result"
    }
   ],
   "source": [
    "df['Complain'].sum()"
   ]
  },
  {
   "cell_type": "markdown",
   "id": "dacbf720",
   "metadata": {},
   "source": [
    "Очень хороший магазин, меньше 1% от всех покупателей жаловались.\n",
    "\n",
    "На текущем этапе остальные значения не особо важно отдельно проверять, поскольку будем их использовать по мере рассмотрения гипотез."
   ]
  },
  {
   "cell_type": "markdown",
   "id": "44f072b3",
   "metadata": {},
   "source": [
    "### Посмотрим на матрицу рассеяния\n",
    "\n",
    "Изучим, как взаимосвязаны наши числовые данные, и насколько они коррелируют."
   ]
  },
  {
   "cell_type": "code",
   "execution_count": 71,
   "id": "f99c0420",
   "metadata": {},
   "outputs": [
    {
     "data": {
      "text/plain": [
       "array([[<AxesSubplot:xlabel='Year_Birth', ylabel='Year_Birth'>,\n",
       "        <AxesSubplot:xlabel='Income', ylabel='Year_Birth'>,\n",
       "        <AxesSubplot:xlabel='Recency', ylabel='Year_Birth'>],\n",
       "       [<AxesSubplot:xlabel='Year_Birth', ylabel='Income'>,\n",
       "        <AxesSubplot:xlabel='Income', ylabel='Income'>,\n",
       "        <AxesSubplot:xlabel='Recency', ylabel='Income'>],\n",
       "       [<AxesSubplot:xlabel='Year_Birth', ylabel='Recency'>,\n",
       "        <AxesSubplot:xlabel='Income', ylabel='Recency'>,\n",
       "        <AxesSubplot:xlabel='Recency', ylabel='Recency'>]], dtype=object)"
      ]
     },
     "execution_count": 71,
     "metadata": {},
     "output_type": "execute_result"
    },
    {
     "data": {
      "image/png": "[encoded data removed]",
      "text/plain": [
       "<Figure size 1080x1080 with 9 Axes>"
      ]
     },
     "metadata": {
      "needs_background": "light"
     },
     "output_type": "display_data"
    }
   ],
   "source": [
    "# Строим классическую scatter_matrix\n",
    "pd.plotting.scatter_matrix(df[['Year_Birth', 'Income', 'Recency']], figsize=(15,15)) "
   ]
  },
  {
   "cell_type": "markdown",
   "id": "91323f6d",
   "metadata": {},
   "source": [
    "Видим также нормальность распределения у года рождения, годовая зарплата сконцентрирована в области не превышающей 150к в год, гистограмма по количеству дней с момента последней покупки - достаточно однородна, видим, в диапозоне какого года рождения преимущественно делают покупки в этом супермаркете.\n",
    "\n",
    "Рассмотрим корреляцию в цвете и изучим: насколько и другие количественные данные коррелирует с нашими, рассмотренными выше."
   ]
  },
  {
   "cell_type": "code",
   "execution_count": 69,
   "id": "32c34e9a",
   "metadata": {},
   "outputs": [
    {
     "data": {
      "application/vnd.plotly.v1+json": {
       "config": {
        "plotlyServerURL": "https://plot.ly"
       },
       "data": [
        {
         "colorscale": [
          [
           0,
           "rgb(247,244,249)"
          ],
          [
           0.125,
           "rgb(231,225,239)"
          ],
          [
           0.25,
           "rgb(212,185,218)"
          ],
          [
           0.375,
           "rgb(201,148,199)"
          ],
          [
           0.5,
           "rgb(223,101,176)"
          ],
          [
           0.625,
           "rgb(231,41,138)"
          ],
          [
           0.75,
           "rgb(206,18,86)"
          ],
          [
           0.875,
           "rgb(152,0,67)"
          ],
          [
           1,
           "rgb(103,0,31)"
          ]
         ],
         "reversescale": false,
         "showscale": true,
         "type": "heatmap",
         "x": [
          "Year_Birth",
          "Income",
          "Recency",
          "MntWines",
          "MntFruits",
          "MntMeatProducts",
          "MntFishProducts",
          "MntSweetProducts",
          "MntGoldProds"
         ],
         "y": [
          "Year_Birth",
          "Income",
          "Recency",
          "MntWines",
          "MntFruits",
          "MntMeatProducts",
          "MntFishProducts",
          "MntSweetProducts",
          "MntGoldProds"
         ],
         "z": [
          [
           1,
           -0.16094190079283774,
           -0.01987108873443243,
           -0.15777252303375347,
           -0.017917240338493092,
           -0.030872399131516924,
           -0.04162537739221733,
           -0.018132606569636684,
           -0.06181818167450675
          ],
          [
           -0.16094190079283774,
           1,
           -0.003946499774554015,
           0.5767892127694006,
           0.42874703341869325,
           0.5778021532599639,
           0.4374965302532052,
           0.43616159572501695,
           0.3219775225875983
          ],
          [
           -0.01987108873443243,
           -0.003946499774554015,
           1,
           0.01606390248339217,
           -0.0043056416024839575,
           0.023056050911278828,
           0.001078967454452277,
           0.022669605959664822,
           0.016693271476363583
          ],
          [
           -0.15777252303375347,
           0.5767892127694006,
           0.01606390248339217,
           1,
           0.3896366811397381,
           0.5626665141603633,
           0.3997526616914563,
           0.38658115409815386,
           0.38751567995900965
          ],
          [
           -0.017917240338493092,
           0.42874703341869325,
           -0.0043056416024839575,
           0.3896366811397381,
           1,
           0.543104560154249,
           0.5948035099014978,
           0.5671639397753478,
           0.3929950193303562
          ],
          [
           -0.030872399131516924,
           0.5778021532599639,
           0.023056050911278828,
           0.5626665141603633,
           0.543104560154249,
           1,
           0.5684021297555202,
           0.5238462164974977,
           0.3506085241480674
          ],
          [
           -0.04162537739221733,
           0.4374965302532052,
           0.001078967454452277,
           0.3997526616914563,
           0.5948035099014978,
           0.5684021297555202,
           1,
           0.579870081024203,
           0.42287480148555545
          ],
          [
           -0.018132606569636684,
           0.43616159572501695,
           0.022669605959664822,
           0.38658115409815386,
           0.5671639397753478,
           0.5238462164974977,
           0.579870081024203,
           1,
           0.36972430038763787
          ],
          [
           -0.06181818167450675,
           0.3219775225875983,
           0.016693271476363583,
           0.38751567995900965,
           0.3929950193303562,
           0.3506085241480674,
           0.42287480148555545,
           0.36972430038763787,
           1
          ]
         ]
        }
       ],
       "layout": {
        "annotations": [
         {
          "font": {
           "color": "#FFFFFF"
          },
          "showarrow": false,
          "text": "1.0",
          "x": "Year_Birth",
          "xref": "x",
          "y": "Year_Birth",
          "yref": "y"
         },
         {
          "font": {
           "color": "#000000"
          },
          "showarrow": false,
          "text": "-0.16",
          "x": "Income",
          "xref": "x",
          "y": "Year_Birth",
          "yref": "y"
         },
         {
          "font": {
           "color": "#000000"
          },
          "showarrow": false,
          "text": "-0.02",
          "x": "Recency",
          "xref": "x",
          "y": "Year_Birth",
          "yref": "y"
         },
         {
          "font": {
           "color": "#000000"
          },
          "showarrow": false,
          "text": "-0.16",
          "x": "MntWines",
          "xref": "x",
          "y": "Year_Birth",
          "yref": "y"
         },
         {
          "font": {
           "color": "#000000"
          },
          "showarrow": false,
          "text": "-0.02",
          "x": "MntFruits",
          "xref": "x",
          "y": "Year_Birth",
          "yref": "y"
         },
         {
          "font": {
           "color": "#000000"
          },
          "showarrow": false,
          "text": "-0.03",
          "x": "MntMeatProducts",
          "xref": "x",
          "y": "Year_Birth",
          "yref": "y"
         },
         {
          "font": {
           "color": "#000000"
          },
          "showarrow": false,
          "text": "-0.04",
          "x": "MntFishProducts",
          "xref": "x",
          "y": "Year_Birth",
          "yref": "y"
         },
         {
          "font": {
           "color": "#000000"
          },
          "showarrow": false,
          "text": "-0.02",
          "x": "MntSweetProducts",
          "xref": "x",
          "y": "Year_Birth",
          "yref": "y"
         },
         {
          "font": {
           "color": "#000000"
          },
          "showarrow": false,
          "text": "-0.06",
          "x": "MntGoldProds",
          "xref": "x",
          "y": "Year_Birth",
          "yref": "y"
         },
         {
          "font": {
           "color": "#000000"
          },
          "showarrow": false,
          "text": "-0.16",
          "x": "Year_Birth",
          "xref": "x",
          "y": "Income",
          "yref": "y"
         },
         {
          "font": {
           "color": "#FFFFFF"
          },
          "showarrow": false,
          "text": "1.0",
          "x": "Income",
          "xref": "x",
          "y": "Income",
          "yref": "y"
         },
         {
          "font": {
           "color": "#000000"
          },
          "showarrow": false,
          "text": "-0.0",
          "x": "Recency",
          "xref": "x",
          "y": "Income",
          "yref": "y"
         },
         {
          "font": {
           "color": "#FFFFFF"
          },
          "showarrow": false,
          "text": "0.58",
          "x": "MntWines",
          "xref": "x",
          "y": "Income",
          "yref": "y"
         },
         {
          "font": {
           "color": "#FFFFFF"
          },
          "showarrow": false,
          "text": "0.43",
          "x": "MntFruits",
          "xref": "x",
          "y": "Income",
          "yref": "y"
         },
         {
          "font": {
           "color": "#FFFFFF"
          },
          "showarrow": false,
          "text": "0.58",
          "x": "MntMeatProducts",
          "xref": "x",
          "y": "Income",
          "yref": "y"
         },
         {
          "font": {
           "color": "#FFFFFF"
          },
          "showarrow": false,
          "text": "0.44",
          "x": "MntFishProducts",
          "xref": "x",
          "y": "Income",
          "yref": "y"
         },
         {
          "font": {
           "color": "#FFFFFF"
          },
          "showarrow": false,
          "text": "0.44",
          "x": "MntSweetProducts",
          "xref": "x",
          "y": "Income",
          "yref": "y"
         },
         {
          "font": {
           "color": "#000000"
          },
          "showarrow": false,
          "text": "0.32",
          "x": "MntGoldProds",
          "xref": "x",
          "y": "Income",
          "yref": "y"
         },
         {
          "font": {
           "color": "#000000"
          },
          "showarrow": false,
          "text": "-0.02",
          "x": "Year_Birth",
          "xref": "x",
          "y": "Recency",
          "yref": "y"
         },
         {
          "font": {
           "color": "#000000"
          },
          "showarrow": false,
          "text": "-0.0",
          "x": "Income",
          "xref": "x",
          "y": "Recency",
          "yref": "y"
         },
         {
          "font": {
           "color": "#FFFFFF"
          },
          "showarrow": false,
          "text": "1.0",
          "x": "Recency",
          "xref": "x",
          "y": "Recency",
          "yref": "y"
         },
         {
          "font": {
           "color": "#000000"
          },
          "showarrow": false,
          "text": "0.02",
          "x": "MntWines",
          "xref": "x",
          "y": "Recency",
          "yref": "y"
         },
         {
          "font": {
           "color": "#000000"
          },
          "showarrow": false,
          "text": "-0.0",
          "x": "MntFruits",
          "xref": "x",
          "y": "Recency",
          "yref": "y"
         },
         {
          "font": {
           "color": "#000000"
          },
          "showarrow": false,
          "text": "0.02",
          "x": "MntMeatProducts",
          "xref": "x",
          "y": "Recency",
          "yref": "y"
         },
         {
          "font": {
           "color": "#000000"
          },
          "showarrow": false,
          "text": "0.0",
          "x": "MntFishProducts",
          "xref": "x",
          "y": "Recency",
          "yref": "y"
         },
         {
          "font": {
           "color": "#000000"
          },
          "showarrow": false,
          "text": "0.02",
          "x": "MntSweetProducts",
          "xref": "x",
          "y": "Recency",
          "yref": "y"
         },
         {
          "font": {
           "color": "#000000"
          },
          "showarrow": false,
          "text": "0.02",
          "x": "MntGoldProds",
          "xref": "x",
          "y": "Recency",
          "yref": "y"
         },
         {
          "font": {
           "color": "#000000"
          },
          "showarrow": false,
          "text": "-0.16",
          "x": "Year_Birth",
          "xref": "x",
          "y": "MntWines",
          "yref": "y"
         },
         {
          "font": {
           "color": "#FFFFFF"
          },
          "showarrow": false,
          "text": "0.58",
          "x": "Income",
          "xref": "x",
          "y": "MntWines",
          "yref": "y"
         },
         {
          "font": {
           "color": "#000000"
          },
          "showarrow": false,
          "text": "0.02",
          "x": "Recency",
          "xref": "x",
          "y": "MntWines",
          "yref": "y"
         },
         {
          "font": {
           "color": "#FFFFFF"
          },
          "showarrow": false,
          "text": "1.0",
          "x": "MntWines",
          "xref": "x",
          "y": "MntWines",
          "yref": "y"
         },
         {
          "font": {
           "color": "#000000"
          },
          "showarrow": false,
          "text": "0.39",
          "x": "MntFruits",
          "xref": "x",
          "y": "MntWines",
          "yref": "y"
         },
         {
          "font": {
           "color": "#FFFFFF"
          },
          "showarrow": false,
          "text": "0.56",
          "x": "MntMeatProducts",
          "xref": "x",
          "y": "MntWines",
          "yref": "y"
         },
         {
          "font": {
           "color": "#000000"
          },
          "showarrow": false,
          "text": "0.4",
          "x": "MntFishProducts",
          "xref": "x",
          "y": "MntWines",
          "yref": "y"
         },
         {
          "font": {
           "color": "#000000"
          },
          "showarrow": false,
          "text": "0.39",
          "x": "MntSweetProducts",
          "xref": "x",
          "y": "MntWines",
          "yref": "y"
         },
         {
          "font": {
           "color": "#000000"
          },
          "showarrow": false,
          "text": "0.39",
          "x": "MntGoldProds",
          "xref": "x",
          "y": "MntWines",
          "yref": "y"
         },
         {
          "font": {
           "color": "#000000"
          },
          "showarrow": false,
          "text": "-0.02",
          "x": "Year_Birth",
          "xref": "x",
          "y": "MntFruits",
          "yref": "y"
         },
         {
          "font": {
           "color": "#FFFFFF"
          },
          "showarrow": false,
          "text": "0.43",
          "x": "Income",
          "xref": "x",
          "y": "MntFruits",
          "yref": "y"
         },
         {
          "font": {
           "color": "#000000"
          },
          "showarrow": false,
          "text": "-0.0",
          "x": "Recency",
          "xref": "x",
          "y": "MntFruits",
          "yref": "y"
         },
         {
          "font": {
           "color": "#000000"
          },
          "showarrow": false,
          "text": "0.39",
          "x": "MntWines",
          "xref": "x",
          "y": "MntFruits",
          "yref": "y"
         },
         {
          "font": {
           "color": "#FFFFFF"
          },
          "showarrow": false,
          "text": "1.0",
          "x": "MntFruits",
          "xref": "x",
          "y": "MntFruits",
          "yref": "y"
         },
         {
          "font": {
           "color": "#FFFFFF"
          },
          "showarrow": false,
          "text": "0.54",
          "x": "MntMeatProducts",
          "xref": "x",
          "y": "MntFruits",
          "yref": "y"
         },
         {
          "font": {
           "color": "#FFFFFF"
          },
          "showarrow": false,
          "text": "0.59",
          "x": "MntFishProducts",
          "xref": "x",
          "y": "MntFruits",
          "yref": "y"
         },
         {
          "font": {
           "color": "#FFFFFF"
          },
          "showarrow": false,
          "text": "0.57",
          "x": "MntSweetProducts",
          "xref": "x",
          "y": "MntFruits",
          "yref": "y"
         },
         {
          "font": {
           "color": "#000000"
          },
          "showarrow": false,
          "text": "0.39",
          "x": "MntGoldProds",
          "xref": "x",
          "y": "MntFruits",
          "yref": "y"
         },
         {
          "font": {
           "color": "#000000"
          },
          "showarrow": false,
          "text": "-0.03",
          "x": "Year_Birth",
          "xref": "x",
          "y": "MntMeatProducts",
          "yref": "y"
         },
         {
          "font": {
           "color": "#FFFFFF"
          },
          "showarrow": false,
          "text": "0.58",
          "x": "Income",
          "xref": "x",
          "y": "MntMeatProducts",
          "yref": "y"
         },
         {
          "font": {
           "color": "#000000"
          },
          "showarrow": false,
          "text": "0.02",
          "x": "Recency",
          "xref": "x",
          "y": "MntMeatProducts",
          "yref": "y"
         },
         {
          "font": {
           "color": "#FFFFFF"
          },
          "showarrow": false,
          "text": "0.56",
          "x": "MntWines",
          "xref": "x",
          "y": "MntMeatProducts",
          "yref": "y"
         },
         {
          "font": {
           "color": "#FFFFFF"
          },
          "showarrow": false,
          "text": "0.54",
          "x": "MntFruits",
          "xref": "x",
          "y": "MntMeatProducts",
          "yref": "y"
         },
         {
          "font": {
           "color": "#FFFFFF"
          },
          "showarrow": false,
          "text": "1.0",
          "x": "MntMeatProducts",
          "xref": "x",
          "y": "MntMeatProducts",
          "yref": "y"
         },
         {
          "font": {
           "color": "#FFFFFF"
          },
          "showarrow": false,
          "text": "0.57",
          "x": "MntFishProducts",
          "xref": "x",
          "y": "MntMeatProducts",
          "yref": "y"
         },
         {
          "font": {
           "color": "#FFFFFF"
          },
          "showarrow": false,
          "text": "0.52",
          "x": "MntSweetProducts",
          "xref": "x",
          "y": "MntMeatProducts",
          "yref": "y"
         },
         {
          "font": {
           "color": "#000000"
          },
          "showarrow": false,
          "text": "0.35",
          "x": "MntGoldProds",
          "xref": "x",
          "y": "MntMeatProducts",
          "yref": "y"
         },
         {
          "font": {
           "color": "#000000"
          },
          "showarrow": false,
          "text": "-0.04",
          "x": "Year_Birth",
          "xref": "x",
          "y": "MntFishProducts",
          "yref": "y"
         },
         {
          "font": {
           "color": "#FFFFFF"
          },
          "showarrow": false,
          "text": "0.44",
          "x": "Income",
          "xref": "x",
          "y": "MntFishProducts",
          "yref": "y"
         },
         {
          "font": {
           "color": "#000000"
          },
          "showarrow": false,
          "text": "0.0",
          "x": "Recency",
          "xref": "x",
          "y": "MntFishProducts",
          "yref": "y"
         },
         {
          "font": {
           "color": "#000000"
          },
          "showarrow": false,
          "text": "0.4",
          "x": "MntWines",
          "xref": "x",
          "y": "MntFishProducts",
          "yref": "y"
         },
         {
          "font": {
           "color": "#FFFFFF"
          },
          "showarrow": false,
          "text": "0.59",
          "x": "MntFruits",
          "xref": "x",
          "y": "MntFishProducts",
          "yref": "y"
         },
         {
          "font": {
           "color": "#FFFFFF"
          },
          "showarrow": false,
          "text": "0.57",
          "x": "MntMeatProducts",
          "xref": "x",
          "y": "MntFishProducts",
          "yref": "y"
         },
         {
          "font": {
           "color": "#FFFFFF"
          },
          "showarrow": false,
          "text": "1.0",
          "x": "MntFishProducts",
          "xref": "x",
          "y": "MntFishProducts",
          "yref": "y"
         },
         {
          "font": {
           "color": "#FFFFFF"
          },
          "showarrow": false,
          "text": "0.58",
          "x": "MntSweetProducts",
          "xref": "x",
          "y": "MntFishProducts",
          "yref": "y"
         },
         {
          "font": {
           "color": "#FFFFFF"
          },
          "showarrow": false,
          "text": "0.42",
          "x": "MntGoldProds",
          "xref": "x",
          "y": "MntFishProducts",
          "yref": "y"
         },
         {
          "font": {
           "color": "#000000"
          },
          "showarrow": false,
          "text": "-0.02",
          "x": "Year_Birth",
          "xref": "x",
          "y": "MntSweetProducts",
          "yref": "y"
         },
         {
          "font": {
           "color": "#FFFFFF"
          },
          "showarrow": false,
          "text": "0.44",
          "x": "Income",
          "xref": "x",
          "y": "MntSweetProducts",
          "yref": "y"
         },
         {
          "font": {
           "color": "#000000"
          },
          "showarrow": false,
          "text": "0.02",
          "x": "Recency",
          "xref": "x",
          "y": "MntSweetProducts",
          "yref": "y"
         },
         {
          "font": {
           "color": "#000000"
          },
          "showarrow": false,
          "text": "0.39",
          "x": "MntWines",
          "xref": "x",
          "y": "MntSweetProducts",
          "yref": "y"
         },
         {
          "font": {
           "color": "#FFFFFF"
          },
          "showarrow": false,
          "text": "0.57",
          "x": "MntFruits",
          "xref": "x",
          "y": "MntSweetProducts",
          "yref": "y"
         },
         {
          "font": {
           "color": "#FFFFFF"
          },
          "showarrow": false,
          "text": "0.52",
          "x": "MntMeatProducts",
          "xref": "x",
          "y": "MntSweetProducts",
          "yref": "y"
         },
         {
          "font": {
           "color": "#FFFFFF"
          },
          "showarrow": false,
          "text": "0.58",
          "x": "MntFishProducts",
          "xref": "x",
          "y": "MntSweetProducts",
          "yref": "y"
         },
         {
          "font": {
           "color": "#FFFFFF"
          },
          "showarrow": false,
          "text": "1.0",
          "x": "MntSweetProducts",
          "xref": "x",
          "y": "MntSweetProducts",
          "yref": "y"
         },
         {
          "font": {
           "color": "#000000"
          },
          "showarrow": false,
          "text": "0.37",
          "x": "MntGoldProds",
          "xref": "x",
          "y": "MntSweetProducts",
          "yref": "y"
         },
         {
          "font": {
           "color": "#000000"
          },
          "showarrow": false,
          "text": "-0.06",
          "x": "Year_Birth",
          "xref": "x",
          "y": "MntGoldProds",
          "yref": "y"
         },
         {
          "font": {
           "color": "#000000"
          },
          "showarrow": false,
          "text": "0.32",
          "x": "Income",
          "xref": "x",
          "y": "MntGoldProds",
          "yref": "y"
         },
         {
          "font": {
           "color": "#000000"
          },
          "showarrow": false,
          "text": "0.02",
          "x": "Recency",
          "xref": "x",
          "y": "MntGoldProds",
          "yref": "y"
         },
         {
          "font": {
           "color": "#000000"
          },
          "showarrow": false,
          "text": "0.39",
          "x": "MntWines",
          "xref": "x",
          "y": "MntGoldProds",
          "yref": "y"
         },
         {
          "font": {
           "color": "#000000"
          },
          "showarrow": false,
          "text": "0.39",
          "x": "MntFruits",
          "xref": "x",
          "y": "MntGoldProds",
          "yref": "y"
         },
         {
          "font": {
           "color": "#000000"
          },
          "showarrow": false,
          "text": "0.35",
          "x": "MntMeatProducts",
          "xref": "x",
          "y": "MntGoldProds",
          "yref": "y"
         },
         {
          "font": {
           "color": "#FFFFFF"
          },
          "showarrow": false,
          "text": "0.42",
          "x": "MntFishProducts",
          "xref": "x",
          "y": "MntGoldProds",
          "yref": "y"
         },
         {
          "font": {
           "color": "#000000"
          },
          "showarrow": false,
          "text": "0.37",
          "x": "MntSweetProducts",
          "xref": "x",
          "y": "MntGoldProds",
          "yref": "y"
         },
         {
          "font": {
           "color": "#FFFFFF"
          },
          "showarrow": false,
          "text": "1.0",
          "x": "MntGoldProds",
          "xref": "x",
          "y": "MntGoldProds",
          "yref": "y"
         }
        ],
        "template": {
         "data": {
          "bar": [
           {
            "error_x": {
             "color": "#2a3f5f"
            },
            "error_y": {
             "color": "#2a3f5f"
            },
            "marker": {
             "line": {
              "color": "#E5ECF6",
              "width": 0.5
             },
             "pattern": {
              "fillmode": "overlay",
              "size": 10,
              "solidity": 0.2
             }
            },
            "type": "bar"
           }
          ],
          "barpolar": [
           {
            "marker": {
             "line": {
              "color": "#E5ECF6",
              "width": 0.5
             },
             "pattern": {
              "fillmode": "overlay",
              "size": 10,
              "solidity": 0.2
             }
            },
            "type": "barpolar"
           }
          ],
          "carpet": [
           {
            "aaxis": {
             "endlinecolor": "#2a3f5f",
             "gridcolor": "white",
             "linecolor": "white",
             "minorgridcolor": "white",
             "startlinecolor": "#2a3f5f"
            },
            "baxis": {
             "endlinecolor": "#2a3f5f",
             "gridcolor": "white",
             "linecolor": "white",
             "minorgridcolor": "white",
             "startlinecolor": "#2a3f5f"
            },
            "type": "carpet"
           }
          ],
          "choropleth": [
           {
            "colorbar": {
             "outlinewidth": 0,
             "ticks": ""
            },
            "type": "choropleth"
           }
          ],
          "contour": [
           {
            "colorbar": {
             "outlinewidth": 0,
             "ticks": ""
            },
            "colorscale": [
             [
              0,
              "#0d0887"
             ],
             [
              0.1111111111111111,
              "#46039f"
             ],
             [
              0.2222222222222222,
              "#7201a8"
             ],
             [
              0.3333333333333333,
              "#9c179e"
             ],
             [
              0.4444444444444444,
              "#bd3786"
             ],
             [
              0.5555555555555556,
              "#d8576b"
             ],
             [
              0.6666666666666666,
              "#ed7953"
             ],
             [
              0.7777777777777778,
              "#fb9f3a"
             ],
             [
              0.8888888888888888,
              "#fdca26"
             ],
             [
              1,
              "#f0f921"
             ]
            ],
            "type": "contour"
           }
          ],
          "contourcarpet": [
           {
            "colorbar": {
             "outlinewidth": 0,
             "ticks": ""
            },
            "type": "contourcarpet"
           }
          ],
          "heatmap": [
           {
            "colorbar": {
             "outlinewidth": 0,
             "ticks": ""
            },
            "colorscale": [
             [
              0,
              "#0d0887"
             ],
             [
              0.1111111111111111,
              "#46039f"
             ],
             [
              0.2222222222222222,
              "#7201a8"
             ],
             [
              0.3333333333333333,
              "#9c179e"
             ],
             [
              0.4444444444444444,
              "#bd3786"
             ],
             [
              0.5555555555555556,
              "#d8576b"
             ],
             [
              0.6666666666666666,
              "#ed7953"
             ],
             [
              0.7777777777777778,
              "#fb9f3a"
             ],
             [
              0.8888888888888888,
              "#fdca26"
             ],
             [
              1,
              "#f0f921"
             ]
            ],
            "type": "heatmap"
           }
          ],
          "heatmapgl": [
           {
            "colorbar": {
             "outlinewidth": 0,
             "ticks": ""
            },
            "colorscale": [
             [
              0,
              "#0d0887"
             ],
             [
              0.1111111111111111,
              "#46039f"
             ],
             [
              0.2222222222222222,
              "#7201a8"
             ],
             [
              0.3333333333333333,
              "#9c179e"
             ],
             [
              0.4444444444444444,
              "#bd3786"
             ],
             [
              0.5555555555555556,
              "#d8576b"
             ],
             [
              0.6666666666666666,
              "#ed7953"
             ],
             [
              0.7777777777777778,
              "#fb9f3a"
             ],
             [
              0.8888888888888888,
              "#fdca26"
             ],
             [
              1,
              "#f0f921"
             ]
            ],
            "type": "heatmapgl"
           }
          ],
          "histogram": [
           {
            "marker": {
             "pattern": {
              "fillmode": "overlay",
              "size": 10,
              "solidity": 0.2
             }
            },
            "type": "histogram"
           }
          ],
          "histogram2d": [
           {
            "colorbar": {
             "outlinewidth": 0,
             "ticks": ""
            },
            "colorscale": [
             [
              0,
              "#0d0887"
             ],
             [
              0.1111111111111111,
              "#46039f"
             ],
             [
              0.2222222222222222,
              "#7201a8"
             ],
             [
              0.3333333333333333,
              "#9c179e"
             ],
             [
              0.4444444444444444,
              "#bd3786"
             ],
             [
              0.5555555555555556,
              "#d8576b"
             ],
             [
              0.6666666666666666,
              "#ed7953"
             ],
             [
              0.7777777777777778,
              "#fb9f3a"
             ],
             [
              0.8888888888888888,
              "#fdca26"
             ],
             [
              1,
              "#f0f921"
             ]
            ],
            "type": "histogram2d"
           }
          ],
          "histogram2dcontour": [
           {
            "colorbar": {
             "outlinewidth": 0,
             "ticks": ""
            },
            "colorscale": [
             [
              0,
              "#0d0887"
             ],
             [
              0.1111111111111111,
              "#46039f"
             ],
             [
              0.2222222222222222,
              "#7201a8"
             ],
             [
              0.3333333333333333,
              "#9c179e"
             ],
             [
              0.4444444444444444,
              "#bd3786"
             ],
             [
              0.5555555555555556,
              "#d8576b"
             ],
             [
              0.6666666666666666,
              "#ed7953"
             ],
             [
              0.7777777777777778,
              "#fb9f3a"
             ],
             [
              0.8888888888888888,
              "#fdca26"
             ],
             [
              1,
              "#f0f921"
             ]
            ],
            "type": "histogram2dcontour"
           }
          ],
          "mesh3d": [
           {
            "colorbar": {
             "outlinewidth": 0,
             "ticks": ""
            },
            "type": "mesh3d"
           }
          ],
          "parcoords": [
           {
            "line": {
             "colorbar": {
              "outlinewidth": 0,
              "ticks": ""
             }
            },
            "type": "parcoords"
           }
          ],
          "pie": [
           {
            "automargin": true,
            "type": "pie"
           }
          ],
          "scatter": [
           {
            "marker": {
             "colorbar": {
              "outlinewidth": 0,
              "ticks": ""
             }
            },
            "type": "scatter"
           }
          ],
          "scatter3d": [
           {
            "line": {
             "colorbar": {
              "outlinewidth": 0,
              "ticks": ""
             }
            },
            "marker": {
             "colorbar": {
              "outlinewidth": 0,
              "ticks": ""
             }
            },
            "type": "scatter3d"
           }
          ],
          "scattercarpet": [
           {
            "marker": {
             "colorbar": {
              "outlinewidth": 0,
              "ticks": ""
             }
            },
            "type": "scattercarpet"
           }
          ],
          "scattergeo": [
           {
            "marker": {
             "colorbar": {
              "outlinewidth": 0,
              "ticks": ""
             }
            },
            "type": "scattergeo"
           }
          ],
          "scattergl": [
           {
            "marker": {
             "colorbar": {
              "outlinewidth": 0,
              "ticks": ""
             }
            },
            "type": "scattergl"
           }
          ],
          "scattermapbox": [
           {
            "marker": {
             "colorbar": {
              "outlinewidth": 0,
              "ticks": ""
             }
            },
            "type": "scattermapbox"
           }
          ],
          "scatterpolar": [
           {
            "marker": {
             "colorbar": {
              "outlinewidth": 0,
              "ticks": ""
             }
            },
            "type": "scatterpolar"
           }
          ],
          "scatterpolargl": [
           {
            "marker": {
             "colorbar": {
              "outlinewidth": 0,
              "ticks": ""
             }
            },
            "type": "scatterpolargl"
           }
          ],
          "scatterternary": [
           {
            "marker": {
             "colorbar": {
              "outlinewidth": 0,
              "ticks": ""
             }
            },
            "type": "scatterternary"
           }
          ],
          "surface": [
           {
            "colorbar": {
             "outlinewidth": 0,
             "ticks": ""
            },
            "colorscale": [
             [
              0,
              "#0d0887"
             ],
             [
              0.1111111111111111,
              "#46039f"
             ],
             [
              0.2222222222222222,
              "#7201a8"
             ],
             [
              0.3333333333333333,
              "#9c179e"
             ],
             [
              0.4444444444444444,
              "#bd3786"
             ],
             [
              0.5555555555555556,
              "#d8576b"
             ],
             [
              0.6666666666666666,
              "#ed7953"
             ],
             [
              0.7777777777777778,
              "#fb9f3a"
             ],
             [
              0.8888888888888888,
              "#fdca26"
             ],
             [
              1,
              "#f0f921"
             ]
            ],
            "type": "surface"
           }
          ],
          "table": [
           {
            "cells": {
             "fill": {
              "color": "#EBF0F8"
             },
             "line": {
              "color": "white"
             }
            },
            "header": {
             "fill": {
              "color": "#C8D4E3"
             },
             "line": {
              "color": "white"
             }
            },
            "type": "table"
           }
          ]
         },
         "layout": {
          "annotationdefaults": {
           "arrowcolor": "#2a3f5f",
           "arrowhead": 0,
           "arrowwidth": 1
          },
          "autotypenumbers": "strict",
          "coloraxis": {
           "colorbar": {
            "outlinewidth": 0,
            "ticks": ""
           }
          },
          "colorscale": {
           "diverging": [
            [
             0,
             "#8e0152"
            ],
            [
             0.1,
             "#c51b7d"
            ],
            [
             0.2,
             "#de77ae"
            ],
            [
             0.3,
             "#f1b6da"
            ],
            [
             0.4,
             "#fde0ef"
            ],
            [
             0.5,
             "#f7f7f7"
            ],
            [
             0.6,
             "#e6f5d0"
            ],
            [
             0.7,
             "#b8e186"
            ],
            [
             0.8,
             "#7fbc41"
            ],
            [
             0.9,
             "#4d9221"
            ],
            [
             1,
             "#276419"
            ]
           ],
           "sequential": [
            [
             0,
             "#0d0887"
            ],
            [
             0.1111111111111111,
             "#46039f"
            ],
            [
             0.2222222222222222,
             "#7201a8"
            ],
            [
             0.3333333333333333,
             "#9c179e"
            ],
            [
             0.4444444444444444,
             "#bd3786"
            ],
            [
             0.5555555555555556,
             "#d8576b"
            ],
            [
             0.6666666666666666,
             "#ed7953"
            ],
            [
             0.7777777777777778,
             "#fb9f3a"
            ],
            [
             0.8888888888888888,
             "#fdca26"
            ],
            [
             1,
             "#f0f921"
            ]
           ],
           "sequentialminus": [
            [
             0,
             "#0d0887"
            ],
            [
             0.1111111111111111,
             "#46039f"
            ],
            [
             0.2222222222222222,
             "#7201a8"
            ],
            [
             0.3333333333333333,
             "#9c179e"
            ],
            [
             0.4444444444444444,
             "#bd3786"
            ],
            [
             0.5555555555555556,
             "#d8576b"
            ],
            [
             0.6666666666666666,
             "#ed7953"
            ],
            [
             0.7777777777777778,
             "#fb9f3a"
            ],
            [
             0.8888888888888888,
             "#fdca26"
            ],
            [
             1,
             "#f0f921"
            ]
           ]
          },
          "colorway": [
           "#636efa",
           "#EF553B",
           "#00cc96",
           "#ab63fa",
           "#FFA15A",
           "#19d3f3",
           "#FF6692",
           "#B6E880",
           "#FF97FF",
           "#FECB52"
          ],
          "font": {
           "color": "#2a3f5f"
          },
          "geo": {
           "bgcolor": "white",
           "lakecolor": "white",
           "landcolor": "#E5ECF6",
           "showlakes": true,
           "showland": true,
           "subunitcolor": "white"
          },
          "hoverlabel": {
           "align": "left"
          },
          "hovermode": "closest",
          "mapbox": {
           "style": "light"
          },
          "paper_bgcolor": "white",
          "plot_bgcolor": "#E5ECF6",
          "polar": {
           "angularaxis": {
            "gridcolor": "white",
            "linecolor": "white",
            "ticks": ""
           },
           "bgcolor": "#E5ECF6",
           "radialaxis": {
            "gridcolor": "white",
            "linecolor": "white",
            "ticks": ""
           }
          },
          "scene": {
           "xaxis": {
            "backgroundcolor": "#E5ECF6",
            "gridcolor": "white",
            "gridwidth": 2,
            "linecolor": "white",
            "showbackground": true,
            "ticks": "",
            "zerolinecolor": "white"
           },
           "yaxis": {
            "backgroundcolor": "#E5ECF6",
            "gridcolor": "white",
            "gridwidth": 2,
            "linecolor": "white",
            "showbackground": true,
            "ticks": "",
            "zerolinecolor": "white"
           },
           "zaxis": {
            "backgroundcolor": "#E5ECF6",
            "gridcolor": "white",
            "gridwidth": 2,
            "linecolor": "white",
            "showbackground": true,
            "ticks": "",
            "zerolinecolor": "white"
           }
          },
          "shapedefaults": {
           "line": {
            "color": "#2a3f5f"
           }
          },
          "ternary": {
           "aaxis": {
            "gridcolor": "white",
            "linecolor": "white",
            "ticks": ""
           },
           "baxis": {
            "gridcolor": "white",
            "linecolor": "white",
            "ticks": ""
           },
           "bgcolor": "#E5ECF6",
           "caxis": {
            "gridcolor": "white",
            "linecolor": "white",
            "ticks": ""
           }
          },
          "title": {
           "x": 0.05
          },
          "xaxis": {
           "automargin": true,
           "gridcolor": "white",
           "linecolor": "white",
           "ticks": "",
           "title": {
            "standoff": 15
           },
           "zerolinecolor": "white",
           "zerolinewidth": 2
          },
          "yaxis": {
           "automargin": true,
           "gridcolor": "white",
           "linecolor": "white",
           "ticks": "",
           "title": {
            "standoff": 15
           },
           "zerolinecolor": "white",
           "zerolinewidth": 2
          }
         }
        },
        "xaxis": {
         "dtick": 1,
         "gridcolor": "rgb(0, 0, 0)",
         "side": "top",
         "ticks": ""
        },
        "yaxis": {
         "dtick": 1,
         "ticks": "",
         "ticksuffix": "  "
        }
       }
      },
      "text/html": [
       "<div>                            <div id=\"1ee5f3b8-9727-44e4-9647-1ba0dfa93caf\" class=\"plotly-graph-div\" style=\"height:525px; width:100%;\"></div>            <script type=\"text/javascript\">                require([\"plotly\"], function(Plotly) {                    window.PLOTLYENV=window.PLOTLYENV || {};                                    if (document.getElementById(\"1ee5f3b8-9727-44e4-9647-1ba0dfa93caf\")) {                    Plotly.newPlot(                        \"1ee5f3b8-9727-44e4-9647-1ba0dfa93caf\",                        [{\"colorscale\":[[0.0,\"rgb(247,244,249)\"],[0.125,\"rgb(231,225,239)\"],[0.25,\"rgb(212,185,218)\"],[0.375,\"rgb(201,148,199)\"],[0.5,\"rgb(223,101,176)\"],[0.625,\"rgb(231,41,138)\"],[0.75,\"rgb(206,18,86)\"],[0.875,\"rgb(152,0,67)\"],[1.0,\"rgb(103,0,31)\"]],\"reversescale\":false,\"showscale\":true,\"x\":[\"Year_Birth\",\"Income\",\"Recency\",\"MntWines\",\"MntFruits\",\"MntMeatProducts\",\"MntFishProducts\",\"MntSweetProducts\",\"MntGoldProds\"],\"y\":[\"Year_Birth\",\"Income\",\"Recency\",\"MntWines\",\"MntFruits\",\"MntMeatProducts\",\"MntFishProducts\",\"MntSweetProducts\",\"MntGoldProds\"],\"z\":[[1.0,-0.16094190079283774,-0.01987108873443243,-0.15777252303375347,-0.017917240338493092,-0.030872399131516924,-0.04162537739221733,-0.018132606569636684,-0.06181818167450675],[-0.16094190079283774,1.0,-0.003946499774554015,0.5767892127694006,0.42874703341869325,0.5778021532599639,0.4374965302532052,0.43616159572501695,0.3219775225875983],[-0.01987108873443243,-0.003946499774554015,1.0,0.01606390248339217,-0.0043056416024839575,0.023056050911278828,0.001078967454452277,0.022669605959664822,0.016693271476363583],[-0.15777252303375347,0.5767892127694006,0.01606390248339217,1.0,0.3896366811397381,0.5626665141603633,0.3997526616914563,0.38658115409815386,0.38751567995900965],[-0.017917240338493092,0.42874703341869325,-0.0043056416024839575,0.3896366811397381,1.0,0.543104560154249,0.5948035099014978,0.5671639397753478,0.3929950193303562],[-0.030872399131516924,0.5778021532599639,0.023056050911278828,0.5626665141603633,0.543104560154249,1.0,0.5684021297555202,0.5238462164974977,0.3506085241480674],[-0.04162537739221733,0.4374965302532052,0.001078967454452277,0.3997526616914563,0.5948035099014978,0.5684021297555202,1.0,0.579870081024203,0.42287480148555545],[-0.018132606569636684,0.43616159572501695,0.022669605959664822,0.38658115409815386,0.5671639397753478,0.5238462164974977,0.579870081024203,1.0,0.36972430038763787],[-0.06181818167450675,0.3219775225875983,0.016693271476363583,0.38751567995900965,0.3929950193303562,0.3506085241480674,0.42287480148555545,0.36972430038763787,1.0]],\"type\":\"heatmap\"}],                        {\"annotations\":[{\"font\":{\"color\":\"#FFFFFF\"},\"showarrow\":false,\"text\":\"1.0\",\"x\":\"Year_Birth\",\"xref\":\"x\",\"y\":\"Year_Birth\",\"yref\":\"y\"},{\"font\":{\"color\":\"#000000\"},\"showarrow\":false,\"text\":\"-0.16\",\"x\":\"Income\",\"xref\":\"x\",\"y\":\"Year_Birth\",\"yref\":\"y\"},{\"font\":{\"color\":\"#000000\"},\"showarrow\":false,\"text\":\"-0.02\",\"x\":\"Recency\",\"xref\":\"x\",\"y\":\"Year_Birth\",\"yref\":\"y\"},{\"font\":{\"color\":\"#000000\"},\"showarrow\":false,\"text\":\"-0.16\",\"x\":\"MntWines\",\"xref\":\"x\",\"y\":\"Year_Birth\",\"yref\":\"y\"},{\"font\":{\"color\":\"#000000\"},\"showarrow\":false,\"text\":\"-0.02\",\"x\":\"MntFruits\",\"xref\":\"x\",\"y\":\"Year_Birth\",\"yref\":\"y\"},{\"font\":{\"color\":\"#000000\"},\"showarrow\":false,\"text\":\"-0.03\",\"x\":\"MntMeatProducts\",\"xref\":\"x\",\"y\":\"Year_Birth\",\"yref\":\"y\"},{\"font\":{\"color\":\"#000000\"},\"showarrow\":false,\"text\":\"-0.04\",\"x\":\"MntFishProducts\",\"xref\":\"x\",\"y\":\"Year_Birth\",\"yref\":\"y\"},{\"font\":{\"color\":\"#000000\"},\"showarrow\":false,\"text\":\"-0.02\",\"x\":\"MntSweetProducts\",\"xref\":\"x\",\"y\":\"Year_Birth\",\"yref\":\"y\"},{\"font\":{\"color\":\"#000000\"},\"showarrow\":false,\"text\":\"-0.06\",\"x\":\"MntGoldProds\",\"xref\":\"x\",\"y\":\"Year_Birth\",\"yref\":\"y\"},{\"font\":{\"color\":\"#000000\"},\"showarrow\":false,\"text\":\"-0.16\",\"x\":\"Year_Birth\",\"xref\":\"x\",\"y\":\"Income\",\"yref\":\"y\"},{\"font\":{\"color\":\"#FFFFFF\"},\"showarrow\":false,\"text\":\"1.0\",\"x\":\"Income\",\"xref\":\"x\",\"y\":\"Income\",\"yref\":\"y\"},{\"font\":{\"color\":\"#000000\"},\"showarrow\":false,\"text\":\"-0.0\",\"x\":\"Recency\",\"xref\":\"x\",\"y\":\"Income\",\"yref\":\"y\"},{\"font\":{\"color\":\"#FFFFFF\"},\"showarrow\":false,\"text\":\"0.58\",\"x\":\"MntWines\",\"xref\":\"x\",\"y\":\"Income\",\"yref\":\"y\"},{\"font\":{\"color\":\"#FFFFFF\"},\"showarrow\":false,\"text\":\"0.43\",\"x\":\"MntFruits\",\"xref\":\"x\",\"y\":\"Income\",\"yref\":\"y\"},{\"font\":{\"color\":\"#FFFFFF\"},\"showarrow\":false,\"text\":\"0.58\",\"x\":\"MntMeatProducts\",\"xref\":\"x\",\"y\":\"Income\",\"yref\":\"y\"},{\"font\":{\"color\":\"#FFFFFF\"},\"showarrow\":false,\"text\":\"0.44\",\"x\":\"MntFishProducts\",\"xref\":\"x\",\"y\":\"Income\",\"yref\":\"y\"},{\"font\":{\"color\":\"#FFFFFF\"},\"showarrow\":false,\"text\":\"0.44\",\"x\":\"MntSweetProducts\",\"xref\":\"x\",\"y\":\"Income\",\"yref\":\"y\"},{\"font\":{\"color\":\"#000000\"},\"showarrow\":false,\"text\":\"0.32\",\"x\":\"MntGoldProds\",\"xref\":\"x\",\"y\":\"Income\",\"yref\":\"y\"},{\"font\":{\"color\":\"#000000\"},\"showarrow\":false,\"text\":\"-0.02\",\"x\":\"Year_Birth\",\"xref\":\"x\",\"y\":\"Recency\",\"yref\":\"y\"},{\"font\":{\"color\":\"#000000\"},\"showarrow\":false,\"text\":\"-0.0\",\"x\":\"Income\",\"xref\":\"x\",\"y\":\"Recency\",\"yref\":\"y\"},{\"font\":{\"color\":\"#FFFFFF\"},\"showarrow\":false,\"text\":\"1.0\",\"x\":\"Recency\",\"xref\":\"x\",\"y\":\"Recency\",\"yref\":\"y\"},{\"font\":{\"color\":\"#000000\"},\"showarrow\":false,\"text\":\"0.02\",\"x\":\"MntWines\",\"xref\":\"x\",\"y\":\"Recency\",\"yref\":\"y\"},{\"font\":{\"color\":\"#000000\"},\"showarrow\":false,\"text\":\"-0.0\",\"x\":\"MntFruits\",\"xref\":\"x\",\"y\":\"Recency\",\"yref\":\"y\"},{\"font\":{\"color\":\"#000000\"},\"showarrow\":false,\"text\":\"0.02\",\"x\":\"MntMeatProducts\",\"xref\":\"x\",\"y\":\"Recency\",\"yref\":\"y\"},{\"font\":{\"color\":\"#000000\"},\"showarrow\":false,\"text\":\"0.0\",\"x\":\"MntFishProducts\",\"xref\":\"x\",\"y\":\"Recency\",\"yref\":\"y\"},{\"font\":{\"color\":\"#000000\"},\"showarrow\":false,\"text\":\"0.02\",\"x\":\"MntSweetProducts\",\"xref\":\"x\",\"y\":\"Recency\",\"yref\":\"y\"},{\"font\":{\"color\":\"#000000\"},\"showarrow\":false,\"text\":\"0.02\",\"x\":\"MntGoldProds\",\"xref\":\"x\",\"y\":\"Recency\",\"yref\":\"y\"},{\"font\":{\"color\":\"#000000\"},\"showarrow\":false,\"text\":\"-0.16\",\"x\":\"Year_Birth\",\"xref\":\"x\",\"y\":\"MntWines\",\"yref\":\"y\"},{\"font\":{\"color\":\"#FFFFFF\"},\"showarrow\":false,\"text\":\"0.58\",\"x\":\"Income\",\"xref\":\"x\",\"y\":\"MntWines\",\"yref\":\"y\"},{\"font\":{\"color\":\"#000000\"},\"showarrow\":false,\"text\":\"0.02\",\"x\":\"Recency\",\"xref\":\"x\",\"y\":\"MntWines\",\"yref\":\"y\"},{\"font\":{\"color\":\"#FFFFFF\"},\"showarrow\":false,\"text\":\"1.0\",\"x\":\"MntWines\",\"xref\":\"x\",\"y\":\"MntWines\",\"yref\":\"y\"},{\"font\":{\"color\":\"#000000\"},\"showarrow\":false,\"text\":\"0.39\",\"x\":\"MntFruits\",\"xref\":\"x\",\"y\":\"MntWines\",\"yref\":\"y\"},{\"font\":{\"color\":\"#FFFFFF\"},\"showarrow\":false,\"text\":\"0.56\",\"x\":\"MntMeatProducts\",\"xref\":\"x\",\"y\":\"MntWines\",\"yref\":\"y\"},{\"font\":{\"color\":\"#000000\"},\"showarrow\":false,\"text\":\"0.4\",\"x\":\"MntFishProducts\",\"xref\":\"x\",\"y\":\"MntWines\",\"yref\":\"y\"},{\"font\":{\"color\":\"#000000\"},\"showarrow\":false,\"text\":\"0.39\",\"x\":\"MntSweetProducts\",\"xref\":\"x\",\"y\":\"MntWines\",\"yref\":\"y\"},{\"font\":{\"color\":\"#000000\"},\"showarrow\":false,\"text\":\"0.39\",\"x\":\"MntGoldProds\",\"xref\":\"x\",\"y\":\"MntWines\",\"yref\":\"y\"},{\"font\":{\"color\":\"#000000\"},\"showarrow\":false,\"text\":\"-0.02\",\"x\":\"Year_Birth\",\"xref\":\"x\",\"y\":\"MntFruits\",\"yref\":\"y\"},{\"font\":{\"color\":\"#FFFFFF\"},\"showarrow\":false,\"text\":\"0.43\",\"x\":\"Income\",\"xref\":\"x\",\"y\":\"MntFruits\",\"yref\":\"y\"},{\"font\":{\"color\":\"#000000\"},\"showarrow\":false,\"text\":\"-0.0\",\"x\":\"Recency\",\"xref\":\"x\",\"y\":\"MntFruits\",\"yref\":\"y\"},{\"font\":{\"color\":\"#000000\"},\"showarrow\":false,\"text\":\"0.39\",\"x\":\"MntWines\",\"xref\":\"x\",\"y\":\"MntFruits\",\"yref\":\"y\"},{\"font\":{\"color\":\"#FFFFFF\"},\"showarrow\":false,\"text\":\"1.0\",\"x\":\"MntFruits\",\"xref\":\"x\",\"y\":\"MntFruits\",\"yref\":\"y\"},{\"font\":{\"color\":\"#FFFFFF\"},\"showarrow\":false,\"text\":\"0.54\",\"x\":\"MntMeatProducts\",\"xref\":\"x\",\"y\":\"MntFruits\",\"yref\":\"y\"},{\"font\":{\"color\":\"#FFFFFF\"},\"showarrow\":false,\"text\":\"0.59\",\"x\":\"MntFishProducts\",\"xref\":\"x\",\"y\":\"MntFruits\",\"yref\":\"y\"},{\"font\":{\"color\":\"#FFFFFF\"},\"showarrow\":false,\"text\":\"0.57\",\"x\":\"MntSweetProducts\",\"xref\":\"x\",\"y\":\"MntFruits\",\"yref\":\"y\"},{\"font\":{\"color\":\"#000000\"},\"showarrow\":false,\"text\":\"0.39\",\"x\":\"MntGoldProds\",\"xref\":\"x\",\"y\":\"MntFruits\",\"yref\":\"y\"},{\"font\":{\"color\":\"#000000\"},\"showarrow\":false,\"text\":\"-0.03\",\"x\":\"Year_Birth\",\"xref\":\"x\",\"y\":\"MntMeatProducts\",\"yref\":\"y\"},{\"font\":{\"color\":\"#FFFFFF\"},\"showarrow\":false,\"text\":\"0.58\",\"x\":\"Income\",\"xref\":\"x\",\"y\":\"MntMeatProducts\",\"yref\":\"y\"},{\"font\":{\"color\":\"#000000\"},\"showarrow\":false,\"text\":\"0.02\",\"x\":\"Recency\",\"xref\":\"x\",\"y\":\"MntMeatProducts\",\"yref\":\"y\"},{\"font\":{\"color\":\"#FFFFFF\"},\"showarrow\":false,\"text\":\"0.56\",\"x\":\"MntWines\",\"xref\":\"x\",\"y\":\"MntMeatProducts\",\"yref\":\"y\"},{\"font\":{\"color\":\"#FFFFFF\"},\"showarrow\":false,\"text\":\"0.54\",\"x\":\"MntFruits\",\"xref\":\"x\",\"y\":\"MntMeatProducts\",\"yref\":\"y\"},{\"font\":{\"color\":\"#FFFFFF\"},\"showarrow\":false,\"text\":\"1.0\",\"x\":\"MntMeatProducts\",\"xref\":\"x\",\"y\":\"MntMeatProducts\",\"yref\":\"y\"},{\"font\":{\"color\":\"#FFFFFF\"},\"showarrow\":false,\"text\":\"0.57\",\"x\":\"MntFishProducts\",\"xref\":\"x\",\"y\":\"MntMeatProducts\",\"yref\":\"y\"},{\"font\":{\"color\":\"#FFFFFF\"},\"showarrow\":false,\"text\":\"0.52\",\"x\":\"MntSweetProducts\",\"xref\":\"x\",\"y\":\"MntMeatProducts\",\"yref\":\"y\"},{\"font\":{\"color\":\"#000000\"},\"showarrow\":false,\"text\":\"0.35\",\"x\":\"MntGoldProds\",\"xref\":\"x\",\"y\":\"MntMeatProducts\",\"yref\":\"y\"},{\"font\":{\"color\":\"#000000\"},\"showarrow\":false,\"text\":\"-0.04\",\"x\":\"Year_Birth\",\"xref\":\"x\",\"y\":\"MntFishProducts\",\"yref\":\"y\"},{\"font\":{\"color\":\"#FFFFFF\"},\"showarrow\":false,\"text\":\"0.44\",\"x\":\"Income\",\"xref\":\"x\",\"y\":\"MntFishProducts\",\"yref\":\"y\"},{\"font\":{\"color\":\"#000000\"},\"showarrow\":false,\"text\":\"0.0\",\"x\":\"Recency\",\"xref\":\"x\",\"y\":\"MntFishProducts\",\"yref\":\"y\"},{\"font\":{\"color\":\"#000000\"},\"showarrow\":false,\"text\":\"0.4\",\"x\":\"MntWines\",\"xref\":\"x\",\"y\":\"MntFishProducts\",\"yref\":\"y\"},{\"font\":{\"color\":\"#FFFFFF\"},\"showarrow\":false,\"text\":\"0.59\",\"x\":\"MntFruits\",\"xref\":\"x\",\"y\":\"MntFishProducts\",\"yref\":\"y\"},{\"font\":{\"color\":\"#FFFFFF\"},\"showarrow\":false,\"text\":\"0.57\",\"x\":\"MntMeatProducts\",\"xref\":\"x\",\"y\":\"MntFishProducts\",\"yref\":\"y\"},{\"font\":{\"color\":\"#FFFFFF\"},\"showarrow\":false,\"text\":\"1.0\",\"x\":\"MntFishProducts\",\"xref\":\"x\",\"y\":\"MntFishProducts\",\"yref\":\"y\"},{\"font\":{\"color\":\"#FFFFFF\"},\"showarrow\":false,\"text\":\"0.58\",\"x\":\"MntSweetProducts\",\"xref\":\"x\",\"y\":\"MntFishProducts\",\"yref\":\"y\"},{\"font\":{\"color\":\"#FFFFFF\"},\"showarrow\":false,\"text\":\"0.42\",\"x\":\"MntGoldProds\",\"xref\":\"x\",\"y\":\"MntFishProducts\",\"yref\":\"y\"},{\"font\":{\"color\":\"#000000\"},\"showarrow\":false,\"text\":\"-0.02\",\"x\":\"Year_Birth\",\"xref\":\"x\",\"y\":\"MntSweetProducts\",\"yref\":\"y\"},{\"font\":{\"color\":\"#FFFFFF\"},\"showarrow\":false,\"text\":\"0.44\",\"x\":\"Income\",\"xref\":\"x\",\"y\":\"MntSweetProducts\",\"yref\":\"y\"},{\"font\":{\"color\":\"#000000\"},\"showarrow\":false,\"text\":\"0.02\",\"x\":\"Recency\",\"xref\":\"x\",\"y\":\"MntSweetProducts\",\"yref\":\"y\"},{\"font\":{\"color\":\"#000000\"},\"showarrow\":false,\"text\":\"0.39\",\"x\":\"MntWines\",\"xref\":\"x\",\"y\":\"MntSweetProducts\",\"yref\":\"y\"},{\"font\":{\"color\":\"#FFFFFF\"},\"showarrow\":false,\"text\":\"0.57\",\"x\":\"MntFruits\",\"xref\":\"x\",\"y\":\"MntSweetProducts\",\"yref\":\"y\"},{\"font\":{\"color\":\"#FFFFFF\"},\"showarrow\":false,\"text\":\"0.52\",\"x\":\"MntMeatProducts\",\"xref\":\"x\",\"y\":\"MntSweetProducts\",\"yref\":\"y\"},{\"font\":{\"color\":\"#FFFFFF\"},\"showarrow\":false,\"text\":\"0.58\",\"x\":\"MntFishProducts\",\"xref\":\"x\",\"y\":\"MntSweetProducts\",\"yref\":\"y\"},{\"font\":{\"color\":\"#FFFFFF\"},\"showarrow\":false,\"text\":\"1.0\",\"x\":\"MntSweetProducts\",\"xref\":\"x\",\"y\":\"MntSweetProducts\",\"yref\":\"y\"},{\"font\":{\"color\":\"#000000\"},\"showarrow\":false,\"text\":\"0.37\",\"x\":\"MntGoldProds\",\"xref\":\"x\",\"y\":\"MntSweetProducts\",\"yref\":\"y\"},{\"font\":{\"color\":\"#000000\"},\"showarrow\":false,\"text\":\"-0.06\",\"x\":\"Year_Birth\",\"xref\":\"x\",\"y\":\"MntGoldProds\",\"yref\":\"y\"},{\"font\":{\"color\":\"#000000\"},\"showarrow\":false,\"text\":\"0.32\",\"x\":\"Income\",\"xref\":\"x\",\"y\":\"MntGoldProds\",\"yref\":\"y\"},{\"font\":{\"color\":\"#000000\"},\"showarrow\":false,\"text\":\"0.02\",\"x\":\"Recency\",\"xref\":\"x\",\"y\":\"MntGoldProds\",\"yref\":\"y\"},{\"font\":{\"color\":\"#000000\"},\"showarrow\":false,\"text\":\"0.39\",\"x\":\"MntWines\",\"xref\":\"x\",\"y\":\"MntGoldProds\",\"yref\":\"y\"},{\"font\":{\"color\":\"#000000\"},\"showarrow\":false,\"text\":\"0.39\",\"x\":\"MntFruits\",\"xref\":\"x\",\"y\":\"MntGoldProds\",\"yref\":\"y\"},{\"font\":{\"color\":\"#000000\"},\"showarrow\":false,\"text\":\"0.35\",\"x\":\"MntMeatProducts\",\"xref\":\"x\",\"y\":\"MntGoldProds\",\"yref\":\"y\"},{\"font\":{\"color\":\"#FFFFFF\"},\"showarrow\":false,\"text\":\"0.42\",\"x\":\"MntFishProducts\",\"xref\":\"x\",\"y\":\"MntGoldProds\",\"yref\":\"y\"},{\"font\":{\"color\":\"#000000\"},\"showarrow\":false,\"text\":\"0.37\",\"x\":\"MntSweetProducts\",\"xref\":\"x\",\"y\":\"MntGoldProds\",\"yref\":\"y\"},{\"font\":{\"color\":\"#FFFFFF\"},\"showarrow\":false,\"text\":\"1.0\",\"x\":\"MntGoldProds\",\"xref\":\"x\",\"y\":\"MntGoldProds\",\"yref\":\"y\"}],\"xaxis\":{\"dtick\":1,\"gridcolor\":\"rgb(0, 0, 0)\",\"side\":\"top\",\"ticks\":\"\"},\"yaxis\":{\"dtick\":1,\"ticks\":\"\",\"ticksuffix\":\"  \"},\"template\":{\"data\":{\"bar\":[{\"error_x\":{\"color\":\"#2a3f5f\"},\"error_y\":{\"color\":\"#2a3f5f\"},\"marker\":{\"line\":{\"color\":\"#E5ECF6\",\"width\":0.5},\"pattern\":{\"fillmode\":\"overlay\",\"size\":10,\"solidity\":0.2}},\"type\":\"bar\"}],\"barpolar\":[{\"marker\":{\"line\":{\"color\":\"#E5ECF6\",\"width\":0.5},\"pattern\":{\"fillmode\":\"overlay\",\"size\":10,\"solidity\":0.2}},\"type\":\"barpolar\"}],\"carpet\":[{\"aaxis\":{\"endlinecolor\":\"#2a3f5f\",\"gridcolor\":\"white\",\"linecolor\":\"white\",\"minorgridcolor\":\"white\",\"startlinecolor\":\"#2a3f5f\"},\"baxis\":{\"endlinecolor\":\"#2a3f5f\",\"gridcolor\":\"white\",\"linecolor\":\"white\",\"minorgridcolor\":\"white\",\"startlinecolor\":\"#2a3f5f\"},\"type\":\"carpet\"}],\"choropleth\":[{\"colorbar\":{\"outlinewidth\":0,\"ticks\":\"\"},\"type\":\"choropleth\"}],\"contour\":[{\"colorbar\":{\"outlinewidth\":0,\"ticks\":\"\"},\"colorscale\":[[0.0,\"#0d0887\"],[0.1111111111111111,\"#46039f\"],[0.2222222222222222,\"#7201a8\"],[0.3333333333333333,\"#9c179e\"],[0.4444444444444444,\"#bd3786\"],[0.5555555555555556,\"#d8576b\"],[0.6666666666666666,\"#ed7953\"],[0.7777777777777778,\"#fb9f3a\"],[0.8888888888888888,\"#fdca26\"],[1.0,\"#f0f921\"]],\"type\":\"contour\"}],\"contourcarpet\":[{\"colorbar\":{\"outlinewidth\":0,\"ticks\":\"\"},\"type\":\"contourcarpet\"}],\"heatmap\":[{\"colorbar\":{\"outlinewidth\":0,\"ticks\":\"\"},\"colorscale\":[[0.0,\"#0d0887\"],[0.1111111111111111,\"#46039f\"],[0.2222222222222222,\"#7201a8\"],[0.3333333333333333,\"#9c179e\"],[0.4444444444444444,\"#bd3786\"],[0.5555555555555556,\"#d8576b\"],[0.6666666666666666,\"#ed7953\"],[0.7777777777777778,\"#fb9f3a\"],[0.8888888888888888,\"#fdca26\"],[1.0,\"#f0f921\"]],\"type\":\"heatmap\"}],\"heatmapgl\":[{\"colorbar\":{\"outlinewidth\":0,\"ticks\":\"\"},\"colorscale\":[[0.0,\"#0d0887\"],[0.1111111111111111,\"#46039f\"],[0.2222222222222222,\"#7201a8\"],[0.3333333333333333,\"#9c179e\"],[0.4444444444444444,\"#bd3786\"],[0.5555555555555556,\"#d8576b\"],[0.6666666666666666,\"#ed7953\"],[0.7777777777777778,\"#fb9f3a\"],[0.8888888888888888,\"#fdca26\"],[1.0,\"#f0f921\"]],\"type\":\"heatmapgl\"}],\"histogram\":[{\"marker\":{\"pattern\":{\"fillmode\":\"overlay\",\"size\":10,\"solidity\":0.2}},\"type\":\"histogram\"}],\"histogram2d\":[{\"colorbar\":{\"outlinewidth\":0,\"ticks\":\"\"},\"colorscale\":[[0.0,\"#0d0887\"],[0.1111111111111111,\"#46039f\"],[0.2222222222222222,\"#7201a8\"],[0.3333333333333333,\"#9c179e\"],[0.4444444444444444,\"#bd3786\"],[0.5555555555555556,\"#d8576b\"],[0.6666666666666666,\"#ed7953\"],[0.7777777777777778,\"#fb9f3a\"],[0.8888888888888888,\"#fdca26\"],[1.0,\"#f0f921\"]],\"type\":\"histogram2d\"}],\"histogram2dcontour\":[{\"colorbar\":{\"outlinewidth\":0,\"ticks\":\"\"},\"colorscale\":[[0.0,\"#0d0887\"],[0.1111111111111111,\"#46039f\"],[0.2222222222222222,\"#7201a8\"],[0.3333333333333333,\"#9c179e\"],[0.4444444444444444,\"#bd3786\"],[0.5555555555555556,\"#d8576b\"],[0.6666666666666666,\"#ed7953\"],[0.7777777777777778,\"#fb9f3a\"],[0.8888888888888888,\"#fdca26\"],[1.0,\"#f0f921\"]],\"type\":\"histogram2dcontour\"}],\"mesh3d\":[{\"colorbar\":{\"outlinewidth\":0,\"ticks\":\"\"},\"type\":\"mesh3d\"}],\"parcoords\":[{\"line\":{\"colorbar\":{\"outlinewidth\":0,\"ticks\":\"\"}},\"type\":\"parcoords\"}],\"pie\":[{\"automargin\":true,\"type\":\"pie\"}],\"scatter\":[{\"marker\":{\"colorbar\":{\"outlinewidth\":0,\"ticks\":\"\"}},\"type\":\"scatter\"}],\"scatter3d\":[{\"line\":{\"colorbar\":{\"outlinewidth\":0,\"ticks\":\"\"}},\"marker\":{\"colorbar\":{\"outlinewidth\":0,\"ticks\":\"\"}},\"type\":\"scatter3d\"}],\"scattercarpet\":[{\"marker\":{\"colorbar\":{\"outlinewidth\":0,\"ticks\":\"\"}},\"type\":\"scattercarpet\"}],\"scattergeo\":[{\"marker\":{\"colorbar\":{\"outlinewidth\":0,\"ticks\":\"\"}},\"type\":\"scattergeo\"}],\"scattergl\":[{\"marker\":{\"colorbar\":{\"outlinewidth\":0,\"ticks\":\"\"}},\"type\":\"scattergl\"}],\"scattermapbox\":[{\"marker\":{\"colorbar\":{\"outlinewidth\":0,\"ticks\":\"\"}},\"type\":\"scattermapbox\"}],\"scatterpolar\":[{\"marker\":{\"colorbar\":{\"outlinewidth\":0,\"ticks\":\"\"}},\"type\":\"scatterpolar\"}],\"scatterpolargl\":[{\"marker\":{\"colorbar\":{\"outlinewidth\":0,\"ticks\":\"\"}},\"type\":\"scatterpolargl\"}],\"scatterternary\":[{\"marker\":{\"colorbar\":{\"outlinewidth\":0,\"ticks\":\"\"}},\"type\":\"scatterternary\"}],\"surface\":[{\"colorbar\":{\"outlinewidth\":0,\"ticks\":\"\"},\"colorscale\":[[0.0,\"#0d0887\"],[0.1111111111111111,\"#46039f\"],[0.2222222222222222,\"#7201a8\"],[0.3333333333333333,\"#9c179e\"],[0.4444444444444444,\"#bd3786\"],[0.5555555555555556,\"#d8576b\"],[0.6666666666666666,\"#ed7953\"],[0.7777777777777778,\"#fb9f3a\"],[0.8888888888888888,\"#fdca26\"],[1.0,\"#f0f921\"]],\"type\":\"surface\"}],\"table\":[{\"cells\":{\"fill\":{\"color\":\"#EBF0F8\"},\"line\":{\"color\":\"white\"}},\"header\":{\"fill\":{\"color\":\"#C8D4E3\"},\"line\":{\"color\":\"white\"}},\"type\":\"table\"}]},\"layout\":{\"annotationdefaults\":{\"arrowcolor\":\"#2a3f5f\",\"arrowhead\":0,\"arrowwidth\":1},\"autotypenumbers\":\"strict\",\"coloraxis\":{\"colorbar\":{\"outlinewidth\":0,\"ticks\":\"\"}},\"colorscale\":{\"diverging\":[[0,\"#8e0152\"],[0.1,\"#c51b7d\"],[0.2,\"#de77ae\"],[0.3,\"#f1b6da\"],[0.4,\"#fde0ef\"],[0.5,\"#f7f7f7\"],[0.6,\"#e6f5d0\"],[0.7,\"#b8e186\"],[0.8,\"#7fbc41\"],[0.9,\"#4d9221\"],[1,\"#276419\"]],\"sequential\":[[0.0,\"#0d0887\"],[0.1111111111111111,\"#46039f\"],[0.2222222222222222,\"#7201a8\"],[0.3333333333333333,\"#9c179e\"],[0.4444444444444444,\"#bd3786\"],[0.5555555555555556,\"#d8576b\"],[0.6666666666666666,\"#ed7953\"],[0.7777777777777778,\"#fb9f3a\"],[0.8888888888888888,\"#fdca26\"],[1.0,\"#f0f921\"]],\"sequentialminus\":[[0.0,\"#0d0887\"],[0.1111111111111111,\"#46039f\"],[0.2222222222222222,\"#7201a8\"],[0.3333333333333333,\"#9c179e\"],[0.4444444444444444,\"#bd3786\"],[0.5555555555555556,\"#d8576b\"],[0.6666666666666666,\"#ed7953\"],[0.7777777777777778,\"#fb9f3a\"],[0.8888888888888888,\"#fdca26\"],[1.0,\"#f0f921\"]]},\"colorway\":[\"#636efa\",\"#EF553B\",\"#00cc96\",\"#ab63fa\",\"#FFA15A\",\"#19d3f3\",\"#FF6692\",\"#B6E880\",\"#FF97FF\",\"#FECB52\"],\"font\":{\"color\":\"#2a3f5f\"},\"geo\":{\"bgcolor\":\"white\",\"lakecolor\":\"white\",\"landcolor\":\"#E5ECF6\",\"showlakes\":true,\"showland\":true,\"subunitcolor\":\"white\"},\"hoverlabel\":{\"align\":\"left\"},\"hovermode\":\"closest\",\"mapbox\":{\"style\":\"light\"},\"paper_bgcolor\":\"white\",\"plot_bgcolor\":\"#E5ECF6\",\"polar\":{\"angularaxis\":{\"gridcolor\":\"white\",\"linecolor\":\"white\",\"ticks\":\"\"},\"bgcolor\":\"#E5ECF6\",\"radialaxis\":{\"gridcolor\":\"white\",\"linecolor\":\"white\",\"ticks\":\"\"}},\"scene\":{\"xaxis\":{\"backgroundcolor\":\"#E5ECF6\",\"gridcolor\":\"white\",\"gridwidth\":2,\"linecolor\":\"white\",\"showbackground\":true,\"ticks\":\"\",\"zerolinecolor\":\"white\"},\"yaxis\":{\"backgroundcolor\":\"#E5ECF6\",\"gridcolor\":\"white\",\"gridwidth\":2,\"linecolor\":\"white\",\"showbackground\":true,\"ticks\":\"\",\"zerolinecolor\":\"white\"},\"zaxis\":{\"backgroundcolor\":\"#E5ECF6\",\"gridcolor\":\"white\",\"gridwidth\":2,\"linecolor\":\"white\",\"showbackground\":true,\"ticks\":\"\",\"zerolinecolor\":\"white\"}},\"shapedefaults\":{\"line\":{\"color\":\"#2a3f5f\"}},\"ternary\":{\"aaxis\":{\"gridcolor\":\"white\",\"linecolor\":\"white\",\"ticks\":\"\"},\"baxis\":{\"gridcolor\":\"white\",\"linecolor\":\"white\",\"ticks\":\"\"},\"bgcolor\":\"#E5ECF6\",\"caxis\":{\"gridcolor\":\"white\",\"linecolor\":\"white\",\"ticks\":\"\"}},\"title\":{\"x\":0.05},\"xaxis\":{\"automargin\":true,\"gridcolor\":\"white\",\"linecolor\":\"white\",\"ticks\":\"\",\"title\":{\"standoff\":15},\"zerolinecolor\":\"white\",\"zerolinewidth\":2},\"yaxis\":{\"automargin\":true,\"gridcolor\":\"white\",\"linecolor\":\"white\",\"ticks\":\"\",\"title\":{\"standoff\":15},\"zerolinecolor\":\"white\",\"zerolinewidth\":2}}}},                        {\"responsive\": true}                    ).then(function(){\n",
       "                            \n",
       "var gd = document.getElementById('1ee5f3b8-9727-44e4-9647-1ba0dfa93caf');\n",
       "var x = new MutationObserver(function (mutations, observer) {{\n",
       "        var display = window.getComputedStyle(gd).display;\n",
       "        if (!display || display === 'none') {{\n",
       "            console.log([gd, 'removed!']);\n",
       "            Plotly.purge(gd);\n",
       "            observer.disconnect();\n",
       "        }}\n",
       "}});\n",
       "\n",
       "// Listen for the removal of the full notebook cells\n",
       "var notebookContainer = gd.closest('#notebook-container');\n",
       "if (notebookContainer) {{\n",
       "    x.observe(notebookContainer, {childList: true});\n",
       "}}\n",
       "\n",
       "// Listen for the clearing of the current output cell\n",
       "var outputEl = gd.closest('.output');\n",
       "if (outputEl) {{\n",
       "    x.observe(outputEl, {childList: true});\n",
       "}}\n",
       "\n",
       "                        })                };                });            </script>        </div>"
      ]
     },
     "metadata": {},
     "output_type": "display_data"
    }
   ],
   "source": [
    "corrs = df[['Year_Birth', 'Income', 'Recency','MntWines','MntFruits',\n",
    "       'MntMeatProducts', 'MntFishProducts', 'MntSweetProducts', 'MntGoldProds']].corr()\n",
    "figure = ff.create_annotated_heatmap(\n",
    "    z=corrs.values,\n",
    "    x=list(corrs.columns),\n",
    "    y=list(corrs.index),\n",
    "    colorscale='PuRd',\n",
    "    annotation_text=corrs.round(2).values,\n",
    "    showscale=True)\n",
    "figure.show()"
   ]
  },
  {
   "cell_type": "markdown",
   "id": "b4373206",
   "metadata": {},
   "source": [
    "Относительно неплохие коэффициенты корреляции у годового дохода семьи и суммы, потраченной на разные типы продуктов. Суммы, потраченные на разные типы продуктов между собой неплохо коррелируют. Напрочь отсутствует корреляция, например, у суммы, потраченной на какой-то продукт и количество дней с момента последней покупки."
   ]
  },
  {
   "cell_type": "markdown",
   "id": "abf9052b",
   "metadata": {},
   "source": [
    "### Какой продукт был продан и на какую сумму за 2 года?"
   ]
  },
  {
   "cell_type": "markdown",
   "id": "19bcb348",
   "metadata": {},
   "source": [
    "У нас есть 6 категорий основных покупок, рассмотрим их отдельно."
   ]
  },
  {
   "cell_type": "code",
   "execution_count": 17,
   "id": "8a65f10d",
   "metadata": {},
   "outputs": [
    {
     "data": {
      "text/plain": [
       "<AxesSubplot:title={'center':'Соотношение каждого жанра из топ 5 по средней продолжительности 2010-2022'}, ylabel='value'>"
      ]
     },
     "execution_count": 17,
     "metadata": {},
     "output_type": "execute_result"
    },
    {
     "data": {
      "image/png": "[encoded data removed]",
      "text/plain": [
       "<Figure size 504x504 with 1 Axes>"
      ]
     },
     "metadata": {},
     "output_type": "display_data"
    }
   ],
   "source": [
    "# Выделяем названия исследуемых колонок\n",
    "sp = ['MntWines', 'MntFruits', 'MntMeatProducts', 'MntFishProducts', 'MntSweetProducts', 'MntGoldProds']\n",
    "category = []\n",
    "value = []\n",
    "\n",
    "# Создаем два массива данных: категория и сумма\n",
    "for i in range(len(sp)):\n",
    "    value.append(df[sp[i]].sum())\n",
    "    category.append(sp[i])\n",
    "    \n",
    "# Создаём новый датафрейм    \n",
    "df_temp = pd.DataFrame({'category': category, 'value': value})\n",
    "\n",
    "# Строим круговую диаграмму\n",
    "df_temp.groupby('category')['value'].sum().plot(\n",
    "    kind='pie', # тип графика\n",
    "    figsize=(7,7), # размер графика\n",
    "    autopct='%1.0f%%', # разметка процентов\n",
    "    title='Соотношение каждого жанра из топ 5 по средней продолжительности 2010-2022')"
   ]
  },
  {
   "cell_type": "markdown",
   "id": "a092c1a3",
   "metadata": {},
   "source": [
    "Здесь мы видим, что хит продаж по величине потраченных денег клиентами за 2 года - вино. По величине - это целых 50%. На втором месте - мясо (28%). На третьем - золото."
   ]
  },
  {
   "cell_type": "markdown",
   "id": "c2a01867",
   "metadata": {},
   "source": [
    "### Попробуем проверить гипотезу непараметрически"
   ]
  },
  {
   "cell_type": "markdown",
   "id": "a0dbaea6",
   "metadata": {},
   "source": [
    "**Гипотеза H0:** Есть зависимость между средним доходом семьи и суммой, которую они тратят на вино."
   ]
  },
  {
   "cell_type": "markdown",
   "id": "b3878813",
   "metadata": {},
   "source": [
    "Проклассифицируем сумму потраченную на вино следующим образом: до 150 долларов, от 150 до 300 и больше 300 долларов.\n",
    "\n",
    "Кроме того, проклассифицируем среднегодовой доход семьи: до 35к, от 35к до 75к, и больше 75к долларов в год."
   ]
  },
  {
   "cell_type": "code",
   "execution_count": 18,
   "id": "64ae2e95",
   "metadata": {},
   "outputs": [],
   "source": [
    "# Создаём функции для классификации\n",
    "def wine_value(wine):\n",
    "    if wine < 150:\n",
    "        return 'Немного'\n",
    "    elif 150 <= wine < 300:\n",
    "        return 'Средне'\n",
    "    elif 300 <= wine:\n",
    "        return 'Выше среднего'\n",
    "    \n",
    "df['wine'] = df['MntWines'].apply(wine_value)\n",
    "\n",
    "def income_value(income):\n",
    "    if income < 35000:\n",
    "        return 'Эконом'\n",
    "    elif 35000 <= income < 75000:\n",
    "        return 'Комфорт'\n",
    "    elif 75000 <= income:\n",
    "        return 'Комфорт +'\n",
    "    \n",
    "df['new_income'] = df['Income'].apply(income_value)"
   ]
  },
  {
   "cell_type": "markdown",
   "id": "f6f680ce",
   "metadata": {},
   "source": [
    "Группируем по новой категории доходности и смотрим количество купленного вина."
   ]
  },
  {
   "cell_type": "code",
   "execution_count": 19,
   "id": "97fa8449",
   "metadata": {},
   "outputs": [
    {
     "data": {
      "text/html": [
       "<div>\n",
       "<style scoped>\n",
       "    .dataframe tbody tr th:only-of-type {\n",
       "        vertical-align: middle;\n",
       "    }\n",
       "\n",
       "    .dataframe tbody tr th {\n",
       "        vertical-align: top;\n",
       "    }\n",
       "\n",
       "    .dataframe thead th {\n",
       "        text-align: right;\n",
       "    }\n",
       "</style>\n",
       "<table border=\"1\" class=\"dataframe\">\n",
       "  <thead>\n",
       "    <tr style=\"text-align: right;\">\n",
       "      <th>wine</th>\n",
       "      <th>Выше среднего</th>\n",
       "      <th>Немного</th>\n",
       "      <th>Средне</th>\n",
       "    </tr>\n",
       "    <tr>\n",
       "      <th>new_income</th>\n",
       "      <th></th>\n",
       "      <th></th>\n",
       "      <th></th>\n",
       "    </tr>\n",
       "  </thead>\n",
       "  <tbody>\n",
       "    <tr>\n",
       "      <th>Комфорт</th>\n",
       "      <td>566.0</td>\n",
       "      <td>495.0</td>\n",
       "      <td>271.0</td>\n",
       "    </tr>\n",
       "    <tr>\n",
       "      <th>Комфорт +</th>\n",
       "      <td>303.0</td>\n",
       "      <td>13.0</td>\n",
       "      <td>43.0</td>\n",
       "    </tr>\n",
       "    <tr>\n",
       "      <th>Эконом</th>\n",
       "      <td>0.0</td>\n",
       "      <td>537.0</td>\n",
       "      <td>12.0</td>\n",
       "    </tr>\n",
       "  </tbody>\n",
       "</table>\n",
       "</div>"
      ],
      "text/plain": [
       "wine        Выше среднего  Немного  Средне\n",
       "new_income                                \n",
       "Комфорт             566.0    495.0   271.0\n",
       "Комфорт +           303.0     13.0    43.0\n",
       "Эконом                0.0    537.0    12.0"
      ]
     },
     "execution_count": 19,
     "metadata": {},
     "output_type": "execute_result"
    }
   ],
   "source": [
    "df_temp2_2 = df.groupby('new_income')['wine'].value_counts().unstack()\n",
    "\n",
    "# пропуск заполним 0, потому что там не было значения; таким образом и возник пропуск.\n",
    "df_temp2_2 = df_temp2_2.fillna(0)\n",
    "df_temp2_2"
   ]
  },
  {
   "cell_type": "markdown",
   "id": "d5420a8e",
   "metadata": {},
   "source": [
    "Применяем специальную функцию, где сможем найти значение хи2."
   ]
  },
  {
   "cell_type": "code",
   "execution_count": 20,
   "id": "59387e35",
   "metadata": {},
   "outputs": [
    {
     "data": {
      "text/plain": [
       "(976.4328370726249,\n",
       " 4.5688245314632864e-210,\n",
       " 4,\n",
       " array([[516.74464286, 621.40178571, 193.85357143],\n",
       "        [139.27276786, 167.47991071,  52.24732143],\n",
       "        [212.98258929, 256.11830357,  79.89910714]]))"
      ]
     },
     "execution_count": 20,
     "metadata": {},
     "output_type": "execute_result"
    }
   ],
   "source": [
    "scipy.stats.chi2_contingency(df_temp2_2, correction = False)"
   ]
  },
  {
   "cell_type": "code",
   "execution_count": 21,
   "id": "4d40509e",
   "metadata": {},
   "outputs": [],
   "source": [
    "# заполним результат в отдельную переменную.\n",
    "chi = scipy.stats.chi2_contingency(df_temp2_2, correction = False)[0]"
   ]
  },
  {
   "cell_type": "markdown",
   "id": "6738aa01",
   "metadata": {},
   "source": [
    "Находим критическое значение из расчета альфа = 0.05."
   ]
  },
  {
   "cell_type": "code",
   "execution_count": 22,
   "id": "ed80d961",
   "metadata": {},
   "outputs": [
    {
     "data": {
      "text/plain": [
       "9.487729036781154"
      ]
     },
     "execution_count": 22,
     "metadata": {},
     "output_type": "execute_result"
    }
   ],
   "source": [
    "crit_value = scipy.stats.chi2.ppf(0.95, 4)\n",
    "crit_value"
   ]
  },
  {
   "cell_type": "markdown",
   "id": "56f7924b",
   "metadata": {},
   "source": [
    "Видим, что наше критическое значение во много раз меньше, чем найденное значение хи2, значит нулевую гипотезу отклоняем."
   ]
  },
  {
   "cell_type": "markdown",
   "id": "b2cb686e",
   "metadata": {},
   "source": [
    "### Проверка гипотезы параметрически"
   ]
  },
  {
   "cell_type": "markdown",
   "id": "ed88d4a5",
   "metadata": {},
   "source": [
    "**Гипотеза H0:** средний возраст у тех, кто в официальном браке и свободны - одинаковый.\n",
    "\n",
    "**Альтернативная гипотеза:** средний возраст разный."
   ]
  },
  {
   "cell_type": "code",
   "execution_count": 23,
   "id": "a565b13d",
   "metadata": {},
   "outputs": [],
   "source": [
    "# Определяем массивы данных\n",
    "married = df[df['Marital_Status'] == 'Married']['Year_Birth']\n",
    "single = df[df['Marital_Status'] == 'Single']['Year_Birth']"
   ]
  },
  {
   "cell_type": "markdown",
   "id": "04a6751b",
   "metadata": {},
   "source": [
    "Перед проверкой гипотезы, проверим значения на нормальность распределения. Построим гистограммы распределения."
   ]
  },
  {
   "cell_type": "code",
   "execution_count": 24,
   "id": "8aa9b692",
   "metadata": {},
   "outputs": [
    {
     "data": {
      "text/plain": [
       "<AxesSubplot:>"
      ]
     },
     "execution_count": 24,
     "metadata": {},
     "output_type": "execute_result"
    },
    {
     "data": {
      "image/png": "[encoded data removed]",
      "text/plain": [
       "<Figure size 432x288 with 1 Axes>"
      ]
     },
     "metadata": {
      "needs_background": "light"
     },
     "output_type": "display_data"
    }
   ],
   "source": [
    "married.hist(color='pink')"
   ]
  },
  {
   "cell_type": "code",
   "execution_count": 25,
   "id": "92091df0",
   "metadata": {},
   "outputs": [
    {
     "data": {
      "text/plain": [
       "<AxesSubplot:>"
      ]
     },
     "execution_count": 25,
     "metadata": {},
     "output_type": "execute_result"
    },
    {
     "data": {
      "image/png": "[encoded data removed]",
      "text/plain": [
       "<Figure size 432x288 with 1 Axes>"
      ]
     },
     "metadata": {
      "needs_background": "light"
     },
     "output_type": "display_data"
    }
   ],
   "source": [
    "single.hist(color='blue')"
   ]
  },
  {
   "cell_type": "markdown",
   "id": "0587c263",
   "metadata": {},
   "source": [
    "Видим, что данные приближены к тому, что они распределены нормально. Первый этап пройден. Теперь сравним не одинаковы ли у нас дисперсии."
   ]
  },
  {
   "cell_type": "code",
   "execution_count": 26,
   "id": "0cc2bac1",
   "metadata": {},
   "outputs": [
    {
     "name": "stdout",
     "output_type": "stream",
     "text": [
      "130.0608222286596\n",
      "165.6909142310367\n"
     ]
    }
   ],
   "source": [
    "# Рассчитываем дисперсии и выводим результат\n",
    "var1 = married.var()\n",
    "print(var1)\n",
    "var2 = single.var()\n",
    "print(var2)"
   ]
  },
  {
   "cell_type": "markdown",
   "id": "51a9643f",
   "metadata": {},
   "source": [
    "Дисперсия отличается, значит мы можем продолжать исследование гипотезы далее. Теперь нам необходимо определить количество степеней свободы (сделаем это с поправкой Уэлча)."
   ]
  },
  {
   "cell_type": "code",
   "execution_count": 27,
   "id": "78e7ee13",
   "metadata": {},
   "outputs": [
    {
     "name": "stdout",
     "output_type": "stream",
     "text": [
      "864 480\n"
     ]
    }
   ],
   "source": [
    "# Определили количество данных в каждой выборке\n",
    "kol1 = len(married)\n",
    "kol2 = len(single)\n",
    "print(kol1, kol2)"
   ]
  },
  {
   "cell_type": "markdown",
   "id": "12241b4e",
   "metadata": {},
   "source": [
    "Производим сам расчет."
   ]
  },
  {
   "cell_type": "code",
   "execution_count": 28,
   "id": "e4dd1085",
   "metadata": {},
   "outputs": [
    {
     "name": "stdout",
     "output_type": "stream",
     "text": [
      "Кол-во степеней свободы 893\n"
     ]
    }
   ],
   "source": [
    "# Находим значения по формулам\n",
    "v1 = var1 / kol1\n",
    "v2 = var2 / kol2\n",
    "welch = int((v1 + v2) ** 2 / (v1 ** 2 / (kol1 - 1) + v2 ** 2 / (kol2 -1)))\n",
    "print('Кол-во степеней свободы', welch)"
   ]
  },
  {
   "cell_type": "markdown",
   "id": "2de53221",
   "metadata": {},
   "source": [
    "893 степени свободы означают, что мы берем t-критерий равный 1.9667. Далее рассчитываем стандартную ошибку и средние значения, чтобы получить наш t-критерий."
   ]
  },
  {
   "cell_type": "code",
   "execution_count": 29,
   "id": "916793d6",
   "metadata": {},
   "outputs": [
    {
     "name": "stdout",
     "output_type": "stream",
     "text": [
      "0.7040758224147039\n",
      "1969.579861111111 1971.4895833333333\n",
      "-2.7123814814043374\n"
     ]
    }
   ],
   "source": [
    "# Снова рассчитываем все по формулам\n",
    "s_m1_m2 = np.sqrt(v1 + v2)\n",
    "print(s_m1_m2)\n",
    "\n",
    "m1 = married.mean()\n",
    "m2 = single.mean()\n",
    "print(m1, m2)\n",
    "\n",
    "t = (m1 - m2) / s_m1_m2\n",
    "print(t)"
   ]
  },
  {
   "cell_type": "markdown",
   "id": "09a34e58",
   "metadata": {},
   "source": [
    "Полученное нами значение говорит, что нулевую гипотезу мы отклоняем, так как наш t-критерий больше, чем критический. То есть средний возраст людей, состоящих в браке, не равен среднему возрасту тех, кто свободен."
   ]
  },
  {
   "cell_type": "markdown",
   "id": "e0f73dea",
   "metadata": {},
   "source": [
    "### Применим линейную регрессию"
   ]
  },
  {
   "cell_type": "markdown",
   "id": "e2423fde",
   "metadata": {},
   "source": [
    "Для начала построим обычную линейную регрессию для одного аргумента, то есть y = bx + a. Для этого нам нужно подготовить данные, для которых будем строить линейную регресиию.\n",
    "\n",
    "Рассмотрим: можно ли предсказать сумму затрат на вино, исходя из годового дохода. Будем отталкиваться от года рождения клиента. По гистограммам выше- мы наблюдали, что у нас есть очень странные года: 1893, 1899, 1900. Они были исключены, ввиду того, что это нерелевантные данные."
   ]
  },
  {
   "cell_type": "code",
   "execution_count": 30,
   "id": "feabfb61",
   "metadata": {},
   "outputs": [],
   "source": [
    "# Определим два массива значений, одинаковых по величине\n",
    "df_n = df[df['Year_Birth'] >= 1940]\n",
    "wines = df_n.groupby('Year_Birth')['MntWines'].mean()\n",
    "incomes = df_n.groupby('Year_Birth')['Income'].mean()\n",
    "# Соберем их в один датафрейм\n",
    "df_new = pd.concat([wines, incomes], axis=1)\n",
    "# df_new"
   ]
  },
  {
   "cell_type": "markdown",
   "id": "38a0c130",
   "metadata": {},
   "source": [
    "Далее идет очень важная часть - необходимо провести предварительную проверку того, насколько целесообразно строить модель линейной регресии для данных, что мы выделили. Сначала посомтрим, насколько коррелирует между собой эти значения."
   ]
  },
  {
   "cell_type": "code",
   "execution_count": 31,
   "id": "9c3e30b0",
   "metadata": {},
   "outputs": [
    {
     "data": {
      "text/plain": [
       "<AxesSubplot:>"
      ]
     },
     "execution_count": 31,
     "metadata": {},
     "output_type": "execute_result"
    },
    {
     "data": {
      "image/png": "[encoded data removed]",
      "text/plain": [
       "<Figure size 432x288 with 2 Axes>"
      ]
     },
     "metadata": {
      "needs_background": "light"
     },
     "output_type": "display_data"
    }
   ],
   "source": [
    "sns.heatmap(df_new.corr(), vmin = -1, vmax = 1, annot = True)"
   ]
  },
  {
   "cell_type": "markdown",
   "id": "506137c5",
   "metadata": {},
   "source": [
    "Корреляция, действительно, есть, но она некритическая, можем продолжить. Далее необходимо рассмотреть, есть ли предпосылки для линейной взаимосвязи. Для этого построим парные графики зависимости, снова с помощью готовой функции из библиотеки seaborn."
   ]
  },
  {
   "cell_type": "code",
   "execution_count": 32,
   "id": "a6e31b10",
   "metadata": {},
   "outputs": [
    {
     "data": {
      "text/plain": [
       "<seaborn.axisgrid.PairGrid at 0x7fa99626c8b0>"
      ]
     },
     "execution_count": 32,
     "metadata": {},
     "output_type": "execute_result"
    },
    {
     "data": {
      "image/png": "[encoded data removed]",
      "text/plain": [
       "<Figure size 360x360 with 6 Axes>"
      ]
     },
     "metadata": {
      "needs_background": "light"
     },
     "output_type": "display_data"
    }
   ],
   "source": [
    "sns.pairplot(df_new)"
   ]
  },
  {
   "cell_type": "markdown",
   "id": "d6e3bffe",
   "metadata": {},
   "source": [
    "Таким образом, можно рассмотреть линейную зависимость. Переходим к построению модели линейной регрессии. Попробуем построить линейную регрессию для одного аргумента вручную."
   ]
  },
  {
   "cell_type": "markdown",
   "id": "fd121531",
   "metadata": {},
   "source": [
    "Создадим две пользовательские функции: одна будет рассчитывать коээфициент b, а вторая, соответственно, коэффициент a."
   ]
  },
  {
   "cell_type": "code",
   "execution_count": 33,
   "id": "967a2873",
   "metadata": {},
   "outputs": [],
   "source": [
    "def b_coef(x, y):\n",
    "    mx = x - x.mean()\n",
    "    my = y - y.mean()\n",
    "    return sum(mx * my) / sum(mx**2)\n",
    "\n",
    "def ba_coef(x, y):\n",
    "    b = b_coef(x, y)\n",
    "    a = y.mean() - b * x.mean()\n",
    "    return b, a"
   ]
  },
  {
   "cell_type": "markdown",
   "id": "2725bc01",
   "metadata": {},
   "source": [
    "Далее создаем массивы данных для х и у. Применяем наши функции и смотрим на готовое уравнение линейной регрессии."
   ]
  },
  {
   "cell_type": "code",
   "execution_count": 34,
   "id": "326200c0",
   "metadata": {},
   "outputs": [
    {
     "name": "stdout",
     "output_type": "stream",
     "text": [
      "y = 0.012982523013165872x -363.5078647370597\n"
     ]
    }
   ],
   "source": [
    "x = df_new.Income\n",
    "y = df_new.MntWines\n",
    "b, a = ba_coef(x, y)\n",
    "print(f'y = {b}x {a}')"
   ]
  },
  {
   "cell_type": "markdown",
   "id": "406461d3",
   "metadata": {},
   "source": [
    "Для наглядности теперь построим график, чтобы изучить наш рузультат, а также рассмотреть, насколько адекватна линия регрессии. Для этого нам нужно рассчитать новое значение у, уже по коэффициентам нашей модели."
   ]
  },
  {
   "cell_type": "code",
   "execution_count": 35,
   "id": "44ae5ecf",
   "metadata": {},
   "outputs": [
    {
     "data": {
      "text/plain": [
       "[<matplotlib.lines.Line2D at 0x7fa9a19a0af0>]"
      ]
     },
     "execution_count": 35,
     "metadata": {},
     "output_type": "execute_result"
    },
    {
     "data": {
      "image/png": "[encoded data removed]",
      "text/plain": [
       "<Figure size 432x288 with 1 Axes>"
      ]
     },
     "metadata": {
      "needs_background": "light"
     },
     "output_type": "display_data"
    }
   ],
   "source": [
    "# Записываем расчет нового у\n",
    "reg = b * x + a\n",
    "\n",
    "# Строим график\n",
    "plt.xlabel('Средний доход в год')\n",
    "plt.ylabel('Сумма, потраченная на вино')\n",
    "plt.scatter(x, y)\n",
    "plt.plot(x, reg, color='red')"
   ]
  },
  {
   "cell_type": "markdown",
   "id": "1b4abcda",
   "metadata": {},
   "source": [
    "Используем готовую функцию, чтобы сравнить полученные результаты для коэффициентов и увидеть коэффициент детерминации. Более того, определим статическую значимость."
   ]
  },
  {
   "cell_type": "code",
   "execution_count": 36,
   "id": "6a277de7",
   "metadata": {},
   "outputs": [
    {
     "name": "stdout",
     "output_type": "stream",
     "text": [
      "LinregressResult(slope=0.01298252301316588, intercept=-363.5078647370603, rvalue=0.8444041107509851, pvalue=2.9253404861324263e-16, stderr=0.0011208280278870214, intercept_stderr=62.11986917118457)\n"
     ]
    }
   ],
   "source": [
    "res = scipy.stats.linregress(x, y)\n",
    "print(res)"
   ]
  },
  {
   "cell_type": "code",
   "execution_count": 37,
   "id": "ee7e5bf9",
   "metadata": {},
   "outputs": [
    {
     "name": "stdout",
     "output_type": "stream",
     "text": [
      "0.7130183022531619\n"
     ]
    }
   ],
   "source": [
    "r_sq = res.rvalue ** 2\n",
    "print(r_sq)"
   ]
  },
  {
   "cell_type": "markdown",
   "id": "ca389f58",
   "metadata": {},
   "source": [
    "Исходя из результата, были сделаны следующие выводы: \n",
    "1) Высокий коэффициент детерминации 0.713, то есть линия регрессии затрагивает почти 71% значений\n",
    "2) Исходя из коэффициента coef = 0.0129, как мы и видим, линия наклона не очень сильная. Тем не менее, она наблюдается с прямой зависимостью.\n",
    "3) Значение средней суммы затрат на вино - статистически значимы.\n",
    "\n",
    "Рассмотрим, что изменится, если мы добавим еще одну переменную. Добавим значение Recency - количество дней с момента последней покупки клиента. Мы определим, насколько это количество может сказываться на сумме, затрачиваемой на вино."
   ]
  },
  {
   "cell_type": "code",
   "execution_count": 38,
   "id": "d7eb126c",
   "metadata": {},
   "outputs": [],
   "source": [
    "# Первые два массива у нас уже есть, определим третий\n",
    "\n",
    "# wines = df_n.groupby('Year_Birth')['MntWines'].mean()\n",
    "# incomes = df_n.groupby('Year_Birth')['Income'].mean()\n",
    "\n",
    "recencies = df_n.groupby('Year_Birth')['Recency'].mean()\n",
    "\n",
    "# Соберем их в один датафрейм\n",
    "df_new_2 = pd.concat([wines, incomes, recencies], axis=1)\n",
    "# df_new_2"
   ]
  },
  {
   "cell_type": "markdown",
   "id": "be9baac2",
   "metadata": {},
   "source": [
    "Проверим на корреляцию и линейность значений, делаем также, как и делали для одного аргумента."
   ]
  },
  {
   "cell_type": "code",
   "execution_count": 39,
   "id": "13046da7",
   "metadata": {},
   "outputs": [
    {
     "data": {
      "text/plain": [
       "<AxesSubplot:>"
      ]
     },
     "execution_count": 39,
     "metadata": {},
     "output_type": "execute_result"
    },
    {
     "data": {
      "image/png": "[encoded data removed]",
      "text/plain": [
       "<Figure size 432x288 with 2 Axes>"
      ]
     },
     "metadata": {
      "needs_background": "light"
     },
     "output_type": "display_data"
    }
   ],
   "source": [
    "sns.heatmap(df_new_2.corr(), vmin = -1, vmax = 1, annot = True)"
   ]
  },
  {
   "cell_type": "markdown",
   "id": "43c67472",
   "metadata": {},
   "source": [
    "Корреляцию между суммой потраченной на вино и средним доходом мы уже видели. Наблюдается хорошая корреляция между суммой, потраченной на вино и средним количеством днем, прошедших с момента последней покупки."
   ]
  },
  {
   "cell_type": "code",
   "execution_count": 40,
   "id": "cf187822",
   "metadata": {},
   "outputs": [
    {
     "data": {
      "text/plain": [
       "<seaborn.axisgrid.PairGrid at 0x7fa9a19f8580>"
      ]
     },
     "execution_count": 40,
     "metadata": {},
     "output_type": "execute_result"
    },
    {
     "data": {
      "image/png": "[encoded data removed]",
      "text/plain": [
       "<Figure size 540x540 with 12 Axes>"
      ]
     },
     "metadata": {
      "needs_background": "light"
     },
     "output_type": "display_data"
    }
   ],
   "source": [
    "sns.pairplot(df_new_2)"
   ]
  },
  {
   "cell_type": "markdown",
   "id": "a6046f6a",
   "metadata": {},
   "source": [
    "Построим линейную регрессию для двух аргументов уже с помощью специальных методов библиотеки statsmodels."
   ]
  },
  {
   "cell_type": "code",
   "execution_count": 41,
   "id": "57921ec7",
   "metadata": {},
   "outputs": [
    {
     "data": {
      "text/html": [
       "<table class=\"simpletable\">\n",
       "<caption>OLS Regression Results</caption>\n",
       "<tr>\n",
       "  <th>Dep. Variable:</th>        <td>MntWines</td>     <th>  R-squared:         </th> <td>   0.721</td>\n",
       "</tr>\n",
       "<tr>\n",
       "  <th>Model:</th>                   <td>OLS</td>       <th>  Adj. R-squared:    </th> <td>   0.710</td>\n",
       "</tr>\n",
       "<tr>\n",
       "  <th>Method:</th>             <td>Least Squares</td>  <th>  F-statistic:       </th> <td>   68.37</td>\n",
       "</tr>\n",
       "<tr>\n",
       "  <th>Date:</th>             <td>Wed, 14 Dec 2022</td> <th>  Prob (F-statistic):</th> <td>2.10e-15</td>\n",
       "</tr>\n",
       "<tr>\n",
       "  <th>Time:</th>                 <td>16:52:51</td>     <th>  Log-Likelihood:    </th> <td> -333.58</td>\n",
       "</tr>\n",
       "<tr>\n",
       "  <th>No. Observations:</th>      <td>    56</td>      <th>  AIC:               </th> <td>   673.2</td>\n",
       "</tr>\n",
       "<tr>\n",
       "  <th>Df Residuals:</th>          <td>    53</td>      <th>  BIC:               </th> <td>   679.2</td>\n",
       "</tr>\n",
       "<tr>\n",
       "  <th>Df Model:</th>              <td>     2</td>      <th>                     </th>     <td> </td>   \n",
       "</tr>\n",
       "<tr>\n",
       "  <th>Covariance Type:</th>      <td>nonrobust</td>    <th>                     </th>     <td> </td>   \n",
       "</tr>\n",
       "</table>\n",
       "<table class=\"simpletable\">\n",
       "<tr>\n",
       "     <td></td>        <th>coef</th>     <th>std err</th>      <th>t</th>      <th>P>|t|</th>  <th>[0.025</th>    <th>0.975]</th>  \n",
       "</tr>\n",
       "<tr>\n",
       "  <th>const</th>   <td> -445.8993</td> <td>   92.224</td> <td>   -4.835</td> <td> 0.000</td> <td> -630.878</td> <td> -260.921</td>\n",
       "</tr>\n",
       "<tr>\n",
       "  <th>Income</th>  <td>    0.0130</td> <td>    0.001</td> <td>   11.632</td> <td> 0.000</td> <td>    0.011</td> <td>    0.015</td>\n",
       "</tr>\n",
       "<tr>\n",
       "  <th>Recency</th> <td>    1.6507</td> <td>    1.370</td> <td>    1.205</td> <td> 0.234</td> <td>   -1.098</td> <td>    4.399</td>\n",
       "</tr>\n",
       "</table>\n",
       "<table class=\"simpletable\">\n",
       "<tr>\n",
       "  <th>Omnibus:</th>       <td>24.598</td> <th>  Durbin-Watson:     </th> <td>   1.797</td>\n",
       "</tr>\n",
       "<tr>\n",
       "  <th>Prob(Omnibus):</th> <td> 0.000</td> <th>  Jarque-Bera (JB):  </th> <td>  76.719</td>\n",
       "</tr>\n",
       "<tr>\n",
       "  <th>Skew:</th>          <td> 1.087</td> <th>  Prob(JB):          </th> <td>2.19e-17</td>\n",
       "</tr>\n",
       "<tr>\n",
       "  <th>Kurtosis:</th>      <td> 8.306</td> <th>  Cond. No.          </th> <td>3.98e+05</td>\n",
       "</tr>\n",
       "</table><br/><br/>Notes:<br/>[1] Standard Errors assume that the covariance matrix of the errors is correctly specified.<br/>[2] The condition number is large, 3.98e+05. This might indicate that there are<br/>strong multicollinearity or other numerical problems."
      ],
      "text/plain": [
       "<class 'statsmodels.iolib.summary.Summary'>\n",
       "\"\"\"\n",
       "                            OLS Regression Results                            \n",
       "==============================================================================\n",
       "Dep. Variable:               MntWines   R-squared:                       0.721\n",
       "Model:                            OLS   Adj. R-squared:                  0.710\n",
       "Method:                 Least Squares   F-statistic:                     68.37\n",
       "Date:                Wed, 14 Dec 2022   Prob (F-statistic):           2.10e-15\n",
       "Time:                        16:52:51   Log-Likelihood:                -333.58\n",
       "No. Observations:                  56   AIC:                             673.2\n",
       "Df Residuals:                      53   BIC:                             679.2\n",
       "Df Model:                           2                                         \n",
       "Covariance Type:            nonrobust                                         \n",
       "==============================================================================\n",
       "                 coef    std err          t      P>|t|      [0.025      0.975]\n",
       "------------------------------------------------------------------------------\n",
       "const       -445.8993     92.224     -4.835      0.000    -630.878    -260.921\n",
       "Income         0.0130      0.001     11.632      0.000       0.011       0.015\n",
       "Recency        1.6507      1.370      1.205      0.234      -1.098       4.399\n",
       "==============================================================================\n",
       "Omnibus:                       24.598   Durbin-Watson:                   1.797\n",
       "Prob(Omnibus):                  0.000   Jarque-Bera (JB):               76.719\n",
       "Skew:                           1.087   Prob(JB):                     2.19e-17\n",
       "Kurtosis:                       8.306   Cond. No.                     3.98e+05\n",
       "==============================================================================\n",
       "\n",
       "Notes:\n",
       "[1] Standard Errors assume that the covariance matrix of the errors is correctly specified.\n",
       "[2] The condition number is large, 3.98e+05. This might indicate that there are\n",
       "strong multicollinearity or other numerical problems.\n",
       "\"\"\""
      ]
     },
     "execution_count": 41,
     "metadata": {},
     "output_type": "execute_result"
    }
   ],
   "source": [
    "# определяем значения х и у\n",
    "x = sm.add_constant(df_new_2.drop('MntWines', axis=1))\n",
    "y = df_new_2['MntWines']\n",
    "\n",
    "# Строим модель\n",
    "result = sm.OLS(y, x).fit()\n",
    "result.summary()"
   ]
  },
  {
   "cell_type": "markdown",
   "id": "e120ba55",
   "metadata": {},
   "source": [
    "Модель построена. Исходя из значения коэффициента есть прямопропорциональная зависимость. И наш коэффициент детерминации увеличился на 1%. Можно предположить, что среднее количество дней, прошедших с последней покупки - слабо сказывается на прогнозирование средней суммы, которую тратит клиент на вино в зависимости от своего возраста."
   ]
  },
  {
   "cell_type": "markdown",
   "id": "f45ee54a",
   "metadata": {},
   "source": [
    "### Применим логистическую регрессию"
   ]
  },
  {
   "cell_type": "markdown",
   "id": "29af4ff0",
   "metadata": {},
   "source": [
    "Логистическая регрессия- это по большей степени про категориальные значения, а именно те, что выражены либо единицей, либо нулем. В  датасете как раз есть столбцы, в которых уже есть оценка каких-то признаков в 1 и 0. Возьмем оттуда Response, которая говорит нам о том, что клиент принял предложение в последней кампании (1) , (0) в противном случае. В ручную создадим следующую категорию: семья ли это без несовершенолетних в доме или у них есть все-таки дети/тинейджеры дома. Самый явный минус, это то, что мы не знаем, о чем речь в этой \"кампании\". В связи с этим, ограничимся следующим: либо принято предложение, либо нет."
   ]
  },
  {
   "cell_type": "markdown",
   "id": "323a9b78",
   "metadata": {},
   "source": [
    "Возьмем за новый датасет тех, кто женат."
   ]
  },
  {
   "cell_type": "code",
   "execution_count": 42,
   "id": "14ff4a30",
   "metadata": {},
   "outputs": [],
   "source": [
    "df_log = df[df['Marital_Status'] == 'Married']"
   ]
  },
  {
   "cell_type": "markdown",
   "id": "1ccf2c95",
   "metadata": {},
   "source": [
    "Далее создадим функцию, чтобы создать новый столбец, исходя из определенных нами критериев"
   ]
  },
  {
   "cell_type": "code",
   "execution_count": 43,
   "id": "e7e3560f",
   "metadata": {},
   "outputs": [
    {
     "name": "stderr",
     "output_type": "stream",
     "text": [
      "/var/folders/zv/rrl2yd7s3_q5bvd434fb2hlh0000gn/T/ipykernel_25871/568516064.py:1: SettingWithCopyWarning: \n",
      "A value is trying to be set on a copy of a slice from a DataFrame.\n",
      "Try using .loc[row_indexer,col_indexer] = value instead\n",
      "\n",
      "See the caveats in the documentation: https://pandas.pydata.org/pandas-docs/stable/user_guide/indexing.html#returning-a-view-versus-a-copy\n",
      "  df_log['children'] = df_log['Kidhome'] + df_log['Teenhome']\n",
      "/var/folders/zv/rrl2yd7s3_q5bvd434fb2hlh0000gn/T/ipykernel_25871/568516064.py:3: SettingWithCopyWarning: \n",
      "A value is trying to be set on a copy of a slice from a DataFrame.\n",
      "Try using .loc[row_indexer,col_indexer] = value instead\n",
      "\n",
      "See the caveats in the documentation: https://pandas.pydata.org/pandas-docs/stable/user_guide/indexing.html#returning-a-view-versus-a-copy\n",
      "  df_log['children'] = df_log['children'].apply(lambda child: 0 if child == 0 else 1)\n"
     ]
    }
   ],
   "source": [
    "df_log['children'] = df_log['Kidhome'] + df_log['Teenhome']\n",
    "\n",
    "df_log['children'] = df_log['children'].apply(lambda child: 0 if child == 0 else 1)\n",
    "#df_log"
   ]
  },
  {
   "cell_type": "markdown",
   "id": "72d4e7e8",
   "metadata": {},
   "source": [
    "Теперь у нас есть две категории, по которым будем искать наши коэффиценты.\n",
    "\n",
    "Сначала сгруппируем наши данные."
   ]
  },
  {
   "cell_type": "code",
   "execution_count": 44,
   "id": "7665ebf2",
   "metadata": {},
   "outputs": [
    {
     "data": {
      "text/html": [
       "<div>\n",
       "<style scoped>\n",
       "    .dataframe tbody tr th:only-of-type {\n",
       "        vertical-align: middle;\n",
       "    }\n",
       "\n",
       "    .dataframe tbody tr th {\n",
       "        vertical-align: top;\n",
       "    }\n",
       "\n",
       "    .dataframe thead th {\n",
       "        text-align: right;\n",
       "    }\n",
       "</style>\n",
       "<table border=\"1\" class=\"dataframe\">\n",
       "  <thead>\n",
       "    <tr style=\"text-align: right;\">\n",
       "      <th>Response</th>\n",
       "      <th>0</th>\n",
       "      <th>1</th>\n",
       "    </tr>\n",
       "    <tr>\n",
       "      <th>children</th>\n",
       "      <th></th>\n",
       "      <th></th>\n",
       "    </tr>\n",
       "  </thead>\n",
       "  <tbody>\n",
       "    <tr>\n",
       "      <th>0</th>\n",
       "      <td>188</td>\n",
       "      <td>42</td>\n",
       "    </tr>\n",
       "    <tr>\n",
       "      <th>1</th>\n",
       "      <td>578</td>\n",
       "      <td>56</td>\n",
       "    </tr>\n",
       "  </tbody>\n",
       "</table>\n",
       "</div>"
      ],
      "text/plain": [
       "Response    0   1\n",
       "children         \n",
       "0         188  42\n",
       "1         578  56"
      ]
     },
     "execution_count": 44,
     "metadata": {},
     "output_type": "execute_result"
    }
   ],
   "source": [
    "df_log.groupby('children')['Response'].value_counts().unstack()"
   ]
  },
  {
   "cell_type": "markdown",
   "id": "35e5c892",
   "metadata": {},
   "source": [
    "Теперь рассчитаем вероятности для лог. формулы"
   ]
  },
  {
   "cell_type": "code",
   "execution_count": 45,
   "id": "2595f0d8",
   "metadata": {},
   "outputs": [
    {
     "name": "stdout",
     "output_type": "stream",
     "text": [
      "1.3333333333333333\n"
     ]
    }
   ],
   "source": [
    "p_1_response = 56 / (56 + 42)\n",
    "p_0_response = 1 - p_1_response\n",
    "odds_1_response = p_1_response / p_0_response\n",
    "print(odds_1_response)"
   ]
  },
  {
   "cell_type": "markdown",
   "id": "37ceec61",
   "metadata": {},
   "source": [
    "Этот коэффициент говорит о том, что если у клиента есть дети, то вероятность того, что он примет предложение кампании на 30% выше, чем если бы у него не было детей.\n",
    "\n",
    "Теперь рассмотрим обратную ситуацию: кто с какой вероятностью не примет предложение кампании. Сделать нужно то же самое, но для другой колонки."
   ]
  },
  {
   "cell_type": "code",
   "execution_count": 46,
   "id": "05b0b1c2",
   "metadata": {},
   "outputs": [
    {
     "name": "stdout",
     "output_type": "stream",
     "text": [
      "3.074468085106383\n"
     ]
    }
   ],
   "source": [
    "p_1_noresponse = 578 / (578 + 188)\n",
    "p_0_noresponse = 1 - p_1_noresponse\n",
    "odds_1_noresponse = p_1_noresponse / p_0_noresponse\n",
    "print(odds_1_noresponse)"
   ]
  },
  {
   "cell_type": "markdown",
   "id": "739e828a",
   "metadata": {},
   "source": [
    "Здесь выводы больше интереса для наблюдений: шанс, что пары с детьми не примут предложение компании- почти 3:1. \n",
    "\n",
    "Можно сделать предположение, что данная \"кампания\" была адресована явно не семейным парам с детьми, а для какого-то другого портрета клиентов."
   ]
  },
  {
   "cell_type": "markdown",
   "id": "34f8b0cf",
   "metadata": {},
   "source": [
    "## Итог работы"
   ]
  },
  {
   "cell_type": "markdown",
   "id": "7f3885fd",
   "metadata": {},
   "source": [
    "- Был проведен исследовательский анализ выбранного датасета.\n",
    "- В датасете был примерно 1% пропусков по среднегодовой доходности клиента. Мною были заполнены эти пропуски средним значением в той же категории по всему датасету.\n",
    "- Распределение по году рождения клиентов было очень близко к нормальному, просматривался небольшой второй пик, возможно этот магазин продает что-то интересное для двух портретов людей, но больше именно для рожденных в 70-80хх годах. \n",
    "- Клиент этого магазина в большинстве случаев имеет следующие характеристики:  с законченным высшим образованием и женатые/замужние клиенты\n",
    "- Клиенты либо без детей, либо без подростков в семье.\n",
    "- В среднем, проходит от 17 до 27 дней после последней покупки клиента.\n",
    "- Вино было продано на большую сумму, чем, что-либо другое; второе место- это мясо; третье - золото, с небольшим отрывом от других категорий.\n",
    "- Была сделана гипотеза о том, что \"Есть зависимость между средним доходом семьи и суммой, которую они тратят на вино\", непараметрическим способом она была отклонена.\n",
    "- Была разработана другая гипотеза, возможность, которой мы проверяли с помощью t-теста \"Средний возраст клиентов, кто в официальном браке и свободны - одинаковый\" - она была отклонена\n",
    "- Построили две линейной регрессии, предворительно все их проверив на объективность построения моделей: Первая модель была с одним предиктором, насколько линейно можно спрогнозировать сумму, на которую будет покупаться вино от среднего дохода в год. Получилось уравнение y = 0.013x -363.508. Вторая модель зависела уже от нескольких переменных: добавили к первой модели среднее количество дней с момента последней покупки. Сравнивая полноту построенных моделей, можно отметить, что коэффициент детерминации увеличился на 1%, после добавления второго предиктора. Можно предположить, что среднее количество дней, прошедших с последней покупки - слабо сказывается на прогнозирование средней суммы, что тратит клиент на вино в зависимости от своего среднегодового дохода.\n",
    "- Построили логистическую регрессию для того, чтобы рассмотреть вероятность и шансы принятия или отклонение предложения кампании в зависимости от того, есть ли у клиента дети. Выяснили, что шанс 30% того, что клиент с детьми примет предложение и 300% шанс, что пары с детьми не примут предложение. Из чего мы сделали гипотезу, что данная кампания проводилась не для данной категории клиентов, либо наличие детей не учитывалось."
   ]
  },
  {
   "cell_type": "code",
   "execution_count": null,
   "id": "fbf28c1b",
   "metadata": {},
   "outputs": [],
   "source": []
  }
 ],
 "metadata": {
  "kernelspec": {
   "display_name": "Python 3 (ipykernel)",
   "language": "python",
   "name": "python3"
  },
  "language_info": {
   "codemirror_mode": {
    "name": "ipython",
    "version": 3
   },
   "file_extension": ".py",
   "mimetype": "text/x-python",
   "name": "python",
   "nbconvert_exporter": "python",
   "pygments_lexer": "ipython3",
   "version": "3.9.12"
  }
 },
 "nbformat": 4,
 "nbformat_minor": 5
}
